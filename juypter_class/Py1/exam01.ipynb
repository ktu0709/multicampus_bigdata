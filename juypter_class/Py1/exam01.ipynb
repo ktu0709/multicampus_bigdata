{
 "cells": [
  {
   "cell_type": "markdown",
   "id": "15689bd7",
   "metadata": {},
   "source": [
    "exam01) dice라는 변수에 주사위 눈 6개를 대입하고 주사위 눈이 5가 있다라고 출력하자 list"
   ]
  },
  {
   "cell_type": "code",
   "execution_count": 1,
   "id": "2fab709a",
   "metadata": {},
   "outputs": [
    {
     "name": "stdout",
     "output_type": "stream",
     "text": [
      "주사위 눈이 5가 있다\n"
     ]
    }
   ],
   "source": [
    "dice = [1,2,3,4,5,6]\n",
    "if 5 in dice:\n",
    "    print('주사위 눈이 5가 있다')"
   ]
  },
  {
   "cell_type": "markdown",
   "id": "469720fc",
   "metadata": {},
   "source": [
    "exam02) dice라는 변수에 주사위 눈 6개를 대입하고 '주사위 눈이 5가 있다'라고 출력하자 list\n",
    "입력된 숫자를 받아 출력해보자"
   ]
  },
  {
   "cell_type": "code",
   "execution_count": 2,
   "id": "25286d68",
   "metadata": {},
   "outputs": [
    {
     "name": "stdout",
     "output_type": "stream",
     "text": [
      "숫자 :5\n",
      "주사위 눈이 5가 있다\n"
     ]
    }
   ],
   "source": [
    "a = int(input('숫자 :'))\n",
    "dice = [1,2,3,4,5,6]\n",
    "if a in dice:\n",
    "    print(f'주사위 눈이 {a}가 있다')"
   ]
  },
  {
   "cell_type": "markdown",
   "id": "26ffba7d",
   "metadata": {},
   "source": [
    "exam03) dice라는 변수에 주사위 눈 6개를 대입하고 '주사위 눈이 5가 있다'라고 출력하자 list\n",
    "입력된 숫자를 받아 출력해보자 단 없으면 \"해당 숫자가 없다\""
   ]
  },
  {
   "cell_type": "code",
   "execution_count": 3,
   "id": "9aa4b506",
   "metadata": {},
   "outputs": [
    {
     "name": "stdout",
     "output_type": "stream",
     "text": [
      "숫자 :3\n",
      "주사위 눈이 3가 있다\n"
     ]
    }
   ],
   "source": [
    "a = int(input('숫자 :'))\n",
    "dice = [1,2,3,4,5,6]\n",
    "if a in dice:\n",
    "    print(f'주사위 눈이 {a}가 있다')\n",
    "else: \n",
    "    print(f'해당 숫자가 없다')"
   ]
  },
  {
   "cell_type": "markdown",
   "id": "5cb87ce8",
   "metadata": {},
   "source": [
    "exam04) list , tuple , range()를 이용해서 1,2,3을 for와 함께 출력해보자"
   ]
  },
  {
   "cell_type": "code",
   "execution_count": 4,
   "id": "7b1569e3",
   "metadata": {},
   "outputs": [
    {
     "name": "stdout",
     "output_type": "stream",
     "text": [
      "1\n",
      "2\n",
      "3\n",
      "1\n",
      "2\n",
      "3\n",
      "1\n",
      "2\n",
      "3\n"
     ]
    }
   ],
   "source": [
    "for n in range(1,4):\n",
    "    print(n)\n",
    "    \n",
    "for n in (1,2,3):\n",
    "    print(n)\n",
    "    \n",
    "for n in [1,2,3]:\n",
    "    print(n)   "
   ]
  },
  {
   "cell_type": "markdown",
   "id": "ff4d64bc",
   "metadata": {},
   "source": [
    "exam05) 숫자를 입력받아 별을 5줄의 삼각형 모양으로 출력 해보자."
   ]
  },
  {
   "cell_type": "code",
   "execution_count": 5,
   "id": "147fdb26",
   "metadata": {
    "scrolled": true
   },
   "outputs": [
    {
     "name": "stdout",
     "output_type": "stream",
     "text": [
      "a : 7\n",
      "★\n",
      "★★\n",
      "★★★\n",
      "★★★★\n",
      "★★★★★\n",
      "★★★★★★\n",
      "★★★★★★★\n"
     ]
    }
   ],
   "source": [
    "a = int(input('a : '))\n",
    "\n",
    "for n in range(1,a+1):\n",
    "            print('★'*n)"
   ]
  },
  {
   "cell_type": "markdown",
   "id": "261f9d38",
   "metadata": {},
   "source": [
    "exam06) 주사위를 10번 던져서 눈을 출력 해보자"
   ]
  },
  {
   "cell_type": "code",
   "execution_count": 6,
   "id": "ef78fb67",
   "metadata": {},
   "outputs": [
    {
     "name": "stdout",
     "output_type": "stream",
     "text": [
      "1번째는 5\n",
      "2번째는 1\n",
      "3번째는 1\n",
      "4번째는 6\n",
      "5번째는 3\n",
      "6번째는 5\n",
      "7번째는 3\n",
      "8번째는 1\n",
      "9번째는 3\n",
      "10번째는 6\n"
     ]
    }
   ],
   "source": [
    "import random\n",
    "dice = [1,2,3,4,5,6]\n",
    "for i in range(1,11):\n",
    "    print(f'{i}번째는 {random.choice(dice)}')\n",
    "    "
   ]
  },
  {
   "cell_type": "markdown",
   "id": "5abb3e79",
   "metadata": {},
   "source": [
    "exam06) 주사위를 10번 던져서 눈을 출력 해보자"
   ]
  },
  {
   "cell_type": "code",
   "execution_count": 7,
   "id": "069faa73",
   "metadata": {},
   "outputs": [
    {
     "name": "stdout",
     "output_type": "stream",
     "text": [
      "1번째는 앞면\n",
      "2번째는 뒷면\n",
      "3번째는 뒷면\n",
      "4번째는 앞면\n",
      "5번째는 뒷면\n",
      "6번째는 뒷면\n",
      "7번째는 뒷면\n",
      "8번째는 앞면\n",
      "9번째는 앞면\n",
      "10번째는 앞면\n"
     ]
    }
   ],
   "source": [
    "import random\n",
    "coin = ['앞면','뒷면']\n",
    "for i in range(1,11):\n",
    "    print(f'{i}번째는 {random.choice(coin)}')"
   ]
  },
  {
   "cell_type": "markdown",
   "id": "2852a800",
   "metadata": {},
   "source": [
    "exam08) 동전를 10번 던져서 눈을 출력 해보자\n",
    "단 앞면이 나오는 횟수를 출력하자\n"
   ]
  },
  {
   "cell_type": "code",
   "execution_count": 8,
   "id": "c4cce48c",
   "metadata": {},
   "outputs": [
    {
     "name": "stdout",
     "output_type": "stream",
     "text": [
      "1번째는 뒷면\n",
      "2번째는 뒷면\n",
      "3번째는 앞면\n",
      "4번째는 앞면\n",
      "5번째는 앞면\n",
      "6번째는 앞면\n",
      "7번째는 뒷면\n",
      "8번째는 뒷면\n",
      "9번째는 앞면\n",
      "10번째는 뒷면\n",
      "앞면이 나온 횟수는 5번 입니다\n"
     ]
    }
   ],
   "source": [
    "import random\n",
    "coin = ['앞면','뒷면']\n",
    "cnt = 0\n",
    "for i in range(1,11):\n",
    "    result = random.choice(coin)\n",
    "    print(f'{i}번째는 {result}')\n",
    "    if result == '앞면':\n",
    "        cnt += 1\n",
    "\n",
    "print(f'앞면이 나온 횟수는 {cnt}번 입니다')\n",
    "    "
   ]
  },
  {
   "cell_type": "markdown",
   "id": "b5e28461",
   "metadata": {},
   "source": [
    "exam08) 주사위를 100번 던져서 눈이 3이 나온 횟수를 출력하세요"
   ]
  },
  {
   "cell_type": "code",
   "execution_count": 9,
   "id": "33abb554",
   "metadata": {},
   "outputs": [
    {
     "name": "stdout",
     "output_type": "stream",
     "text": [
      "3이 나오는 횟수는 4번 입니다\n"
     ]
    }
   ],
   "source": [
    "import random\n",
    "dice = [1,2,3,4,5,6]\n",
    "cnt = 0\n",
    "for i in range(100):\n",
    "    res = random.choice(dice)\n",
    "    if res == 3:\n",
    "        cnt += 1\n",
    "print(f'3이 나오는 횟수는 {res}번 입니다')"
   ]
  },
  {
   "cell_type": "markdown",
   "id": "3d70d301",
   "metadata": {},
   "source": [
    "exam10) 주사의를 1000번 ejswutj 5가 나올 확률을 구해보자"
   ]
  },
  {
   "cell_type": "code",
   "execution_count": 10,
   "id": "8d42288d",
   "metadata": {},
   "outputs": [
    {
     "name": "stdout",
     "output_type": "stream",
     "text": [
      "5이 나오는 확률는 0.179번 입니다\n"
     ]
    }
   ],
   "source": [
    "import random\n",
    "dice = [1,2,3,4,5,6]\n",
    "cnt = 0\n",
    "for i in range(1000):\n",
    "    res = random.choice(dice)\n",
    "    if res == 5:\n",
    "        cnt += 1\n",
    "print(f'5이 나오는 확률는 {cnt/1000}번 입니다')"
   ]
  },
  {
   "cell_type": "markdown",
   "id": "a23614f6",
   "metadata": {},
   "source": [
    "exam11) 주사의를 10번 던졌을 때 짝수가 나올 횟수을 구해보자"
   ]
  },
  {
   "cell_type": "code",
   "execution_count": 11,
   "id": "efc5ca60",
   "metadata": {},
   "outputs": [
    {
     "name": "stdout",
     "output_type": "stream",
     "text": [
      "짝수가 나오는 횟수는 5번 입니다\n"
     ]
    }
   ],
   "source": [
    "import random\n",
    "dice = [1,2,3,4,5,6]\n",
    "cnt = 0\n",
    "for i in range(10):\n",
    "    res = random.choice(dice)\n",
    "    if res % 2 == 0:\n",
    "        cnt += 1\n",
    "print(f'짝수가 나오는 횟수는 {cnt}번 입니다')"
   ]
  },
  {
   "cell_type": "markdown",
   "id": "5f0f1516",
   "metadata": {},
   "source": [
    "exam12) 주사의를 10번 던졌을 때 짝수가 나오는 횟수 확인하는 작업을 5번 반복해서 출력하게끔 하시오"
   ]
  },
  {
   "cell_type": "code",
   "execution_count": 12,
   "id": "a4f53eb1",
   "metadata": {},
   "outputs": [
    {
     "name": "stdout",
     "output_type": "stream",
     "text": [
      "짝수가 나오는 횟수는 7번 입니다\n",
      "짝수가 나오는 횟수는 3번 입니다\n",
      "짝수가 나오는 횟수는 5번 입니다\n",
      "짝수가 나오는 횟수는 4번 입니다\n",
      "짝수가 나오는 횟수는 7번 입니다\n"
     ]
    }
   ],
   "source": [
    "import random\n",
    "dice = [1,2,3,4,5,6]\n",
    "\n",
    "\n",
    "for j in range(5):\n",
    "    cnt = 0\n",
    "    for i in range(1,11):\n",
    "        res = random.choice(dice)\n",
    "        if res % 2 == 0:\n",
    "            cnt += 1\n",
    "    print(f'짝수가 나오는 횟수는 {cnt}번 입니다')\n",
    "    "
   ]
  },
  {
   "cell_type": "markdown",
   "id": "ca27b8e9",
   "metadata": {},
   "source": [
    "exam13) 동전을 100번 던져서 앞면이 나올 확률을 구하자"
   ]
  },
  {
   "cell_type": "code",
   "execution_count": 13,
   "id": "cd3f9663",
   "metadata": {},
   "outputs": [
    {
     "name": "stdout",
     "output_type": "stream",
     "text": [
      "앞면이 나온 확률는 0.58번 입니다\n"
     ]
    }
   ],
   "source": [
    "import random\n",
    "coin = ['앞면','뒷면']\n",
    "cnt = 0\n",
    "for i in range(100):\n",
    "    result = random.choice(coin)\n",
    "    #print(f'{i}번째는 {result}')\n",
    "    if result == '앞면':\n",
    "        cnt += 1\n",
    "print(f'앞면이 나온 확률는 {cnt/100}번 입니다')"
   ]
  },
  {
   "cell_type": "markdown",
   "id": "1f830ffd",
   "metadata": {},
   "source": [
    "exam14) 동전을 100번 던져서 앞면이 나올 확률을 구하는 작업을 50번 반복해서 50개 출력하자"
   ]
  },
  {
   "cell_type": "code",
   "execution_count": 14,
   "id": "c394434c",
   "metadata": {},
   "outputs": [
    {
     "name": "stdout",
     "output_type": "stream",
     "text": [
      "[0.52, 0.53, 0.51, 0.54, 0.47, 0.5, 0.55, 0.59, 0.46, 0.49, 0.51, 0.61, 0.54, 0.54, 0.5, 0.4, 0.53, 0.51, 0.53, 0.53, 0.46, 0.48, 0.5, 0.46, 0.57, 0.44, 0.5, 0.45, 0.44, 0.45, 0.53, 0.49, 0.48, 0.45, 0.45, 0.59, 0.48, 0.53, 0.55, 0.49, 0.58, 0.52, 0.5, 0.44, 0.54, 0.52, 0.46, 0.47, 0.58, 0.54]\n"
     ]
    }
   ],
   "source": [
    "import random\n",
    "coin = ['앞면','뒷면']\n",
    "res = []\n",
    "for j in range(50):\n",
    "    cnt = 0\n",
    "    for i in range(100):\n",
    "        result = random.choice(coin)\n",
    "        #print(f'{i}번째는 {result}')\n",
    "        if result == '앞면':\n",
    "            cnt += 1\n",
    "    #print(f'앞면이 나온 확률는 {cnt/100}번 입니다')\n",
    "    res.append(cnt/100)\n",
    "print(res)"
   ]
  },
  {
   "cell_type": "markdown",
   "id": "c46407b5",
   "metadata": {},
   "source": [
    "exam15) 2개 동전을 100번 던져서 동시에 두개의 동전이 앞면이 나오는 횟수를 출력하자"
   ]
  },
  {
   "cell_type": "code",
   "execution_count": 15,
   "id": "9d0e300f",
   "metadata": {},
   "outputs": [
    {
     "name": "stdout",
     "output_type": "stream",
     "text": [
      "두개의 동전의 앞면이 나온 횟수는 56번 입니다\n"
     ]
    }
   ],
   "source": [
    "import random\n",
    "cnt = 0\n",
    "coin = ['앞면','뒷면']\n",
    "\n",
    "for i in range(300):\n",
    "    result01 = random.choice(coin)\n",
    "    result02 = random.choice(coin)\n",
    "    #print(f'{i}번째는 {result}')\n",
    "    if result01 == '앞면' and result02 == '앞면':\n",
    "        cnt += 1\n",
    "print(f'두개의 동전의 앞면이 나온 횟수는 {cnt}번 입니다')"
   ]
  },
  {
   "cell_type": "code",
   "execution_count": 16,
   "id": "84c7e6fc",
   "metadata": {},
   "outputs": [
    {
     "ename": "SyntaxError",
     "evalue": "unmatched ')' (1820228430.py, line 1)",
     "output_type": "error",
     "traceback": [
      "\u001b[1;36m  Cell \u001b[1;32mIn[16], line 1\u001b[1;36m\u001b[0m\n\u001b[1;33m    exam15) 1개 동전과 1개의 주사위 한개를 동시에  100번 던져서 앞면이 나오고 5가 나오는 횟수를 출력하자\u001b[0m\n\u001b[1;37m          ^\u001b[0m\n\u001b[1;31mSyntaxError\u001b[0m\u001b[1;31m:\u001b[0m unmatched ')'\n"
     ]
    }
   ],
   "source": [
    "exam15) 1개 동전과 1개의 주사위 한개를 동시에  100번 던져서 앞면이 나오고 5가 나오는 횟수를 출력하자"
   ]
  },
  {
   "cell_type": "code",
   "execution_count": null,
   "id": "7653df09",
   "metadata": {},
   "outputs": [],
   "source": [
    "import random\n",
    "cnt = 0\n",
    "dice = [1,2,3,4,5,6]\n",
    "coin = ['앞면','뒷면']\n",
    "\n",
    "for i in range(100):\n",
    "    result01 = random.choice(coin)\n",
    "    result02 = random.choice(dice)\n",
    "    #print(f'{i}번째는 {result}')\n",
    "    if result01 == '앞면' and result02 == 5:\n",
    "        cnt += 1\n",
    "print(f'앞면이 나오고 5가 나오는 횟수는 {cnt}번 입니다')"
   ]
  },
  {
   "cell_type": "markdown",
   "id": "bf356570",
   "metadata": {},
   "source": [
    "exam16) 리스트 객체의 평균값을 구하자"
   ]
  },
  {
   "cell_type": "code",
   "execution_count": null,
   "id": "cfc3ff20",
   "metadata": {},
   "outputs": [],
   "source": [
    "import numpy as np\n",
    "mylist  = [1,2,3,4,5]\n",
    "print(np.mean(mylist)) #평균\n",
    "print(np.var(mylist)) #분산\n",
    "print(np.std(mylist)) #표준편차"
   ]
  },
  {
   "cell_type": "code",
   "execution_count": null,
   "id": "664b44fb",
   "metadata": {},
   "outputs": [],
   "source": []
  }
 ],
 "metadata": {
  "kernelspec": {
   "display_name": "Python 3 (ipykernel)",
   "language": "python",
   "name": "python3"
  },
  "language_info": {
   "codemirror_mode": {
    "name": "ipython",
    "version": 3
   },
   "file_extension": ".py",
   "mimetype": "text/x-python",
   "name": "python",
   "nbconvert_exporter": "python",
   "pygments_lexer": "ipython3",
   "version": "3.11.5"
  }
 },
 "nbformat": 4,
 "nbformat_minor": 5
}
