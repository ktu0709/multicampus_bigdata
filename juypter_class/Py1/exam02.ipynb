{
 "cells": [
  {
   "cell_type": "code",
   "execution_count": 1,
   "id": "1a5e5520",
   "metadata": {},
   "outputs": [],
   "source": [
    "import sys"
   ]
  },
  {
   "cell_type": "code",
   "execution_count": 2,
   "id": "c632d1d5",
   "metadata": {},
   "outputs": [
    {
     "data": {
      "text/plain": [
       "'3.11.5 | packaged by Anaconda, Inc. | (main, Sep 11 2023, 13:26:23) [MSC v.1916 64 bit (AMD64)]'"
      ]
     },
     "execution_count": 2,
     "metadata": {},
     "output_type": "execute_result"
    }
   ],
   "source": [
    "sys.version"
   ]
  },
  {
   "cell_type": "code",
   "execution_count": 3,
   "id": "e1325766",
   "metadata": {},
   "outputs": [
    {
     "name": "stdout",
     "output_type": "stream",
     "text": [
      "['__breakpointhook__', '__displayhook__', '__doc__', '__excepthook__', '__interactivehook__', '__loader__', '__name__', '__package__', '__spec__', '__stderr__', '__stdin__', '__stdout__', '__unraisablehook__', '_base_executable', '_clear_type_cache', '_current_exceptions', '_current_frames', '_debugmallocstats', '_enablelegacywindowsfsencoding', '_framework', '_getframe', '_getquickenedcount', '_git', '_home', '_stdlib_dir', '_vpath', '_xoptions', 'addaudithook', 'api_version', 'argv', 'audit', 'base_exec_prefix', 'base_prefix', 'breakpointhook', 'builtin_module_names', 'byteorder', 'call_tracing', 'copyright', 'displayhook', 'dllhandle', 'dont_write_bytecode', 'exc_info', 'excepthook', 'exception', 'exec_prefix', 'executable', 'exit', 'flags', 'float_info', 'float_repr_style', 'get_asyncgen_hooks', 'get_coroutine_origin_tracking_depth', 'get_int_max_str_digits', 'getallocatedblocks', 'getdefaultencoding', 'getfilesystemencodeerrors', 'getfilesystemencoding', 'getprofile', 'getrecursionlimit', 'getrefcount', 'getsizeof', 'getswitchinterval', 'gettrace', 'getwindowsversion', 'hash_info', 'hexversion', 'implementation', 'int_info', 'intern', 'is_finalizing', 'maxsize', 'maxunicode', 'meta_path', 'modules', 'orig_argv', 'path', 'path_hooks', 'path_importer_cache', 'platform', 'platlibdir', 'prefix', 'ps1', 'ps2', 'ps3', 'pycache_prefix', 'set_asyncgen_hooks', 'set_coroutine_origin_tracking_depth', 'set_int_max_str_digits', 'setprofile', 'setrecursionlimit', 'setswitchinterval', 'settrace', 'stderr', 'stdin', 'stdlib_module_names', 'stdout', 'thread_info', 'unraisablehook', 'version', 'version_info', 'warnoptions', 'winver']\n"
     ]
    }
   ],
   "source": [
    "print(dir(sys))"
   ]
  },
  {
   "cell_type": "code",
   "execution_count": 4,
   "id": "09f60199",
   "metadata": {},
   "outputs": [
    {
     "data": {
      "text/plain": [
       "sys.version_info(major=3, minor=11, micro=5, releaselevel='final', serial=0)"
      ]
     },
     "execution_count": 4,
     "metadata": {},
     "output_type": "execute_result"
    }
   ],
   "source": [
    "sys.version_info"
   ]
  },
  {
   "cell_type": "code",
   "execution_count": 5,
   "id": "6d258fbe",
   "metadata": {},
   "outputs": [
    {
     "name": "stdout",
     "output_type": "stream",
     "text": [
      "1\n"
     ]
    },
    {
     "ename": "SystemExit",
     "evalue": "",
     "output_type": "error",
     "traceback": [
      "An exception has occurred, use %tb to see the full traceback.\n",
      "\u001b[1;31mSystemExit\u001b[0m\n"
     ]
    },
    {
     "name": "stderr",
     "output_type": "stream",
     "text": [
      "C:\\ProgramData\\anaconda3\\Lib\\site-packages\\IPython\\core\\interactiveshell.py:3534: UserWarning: To exit: use 'exit', 'quit', or Ctrl-D.\n",
      "  warn(\"To exit: use 'exit', 'quit', or Ctrl-D.\", stacklevel=1)\n"
     ]
    }
   ],
   "source": [
    "print('1')\n",
    "sys.exit()\n",
    "print('2')\n",
    "print('3')"
   ]
  },
  {
   "cell_type": "code",
   "execution_count": 7,
   "id": "5c5324e1",
   "metadata": {},
   "outputs": [],
   "source": [
    "import os"
   ]
  },
  {
   "cell_type": "code",
   "execution_count": null,
   "id": "43b19bc2",
   "metadata": {},
   "outputs": [],
   "source": [
    "print(dir(os))"
   ]
  },
  {
   "cell_type": "code",
   "execution_count": null,
   "id": "545a4b4d",
   "metadata": {},
   "outputs": [],
   "source": [
    "os.getcwd()"
   ]
  },
  {
   "cell_type": "code",
   "execution_count": null,
   "id": "0e6cee3e",
   "metadata": {},
   "outputs": [],
   "source": [
    "#os.mkdir('./test')\n",
    "os.chdir('./test')\n",
    "os.getcwd()"
   ]
  },
  {
   "cell_type": "code",
   "execution_count": null,
   "id": "b3c8c7bb",
   "metadata": {},
   "outputs": [],
   "source": [
    "os.chdir('./Py1')\n",
    "os.getcwd()"
   ]
  },
  {
   "cell_type": "code",
   "execution_count": null,
   "id": "644cc393",
   "metadata": {},
   "outputs": [],
   "source": [
    "os.chdir('./test')\n",
    "# os.mkdir('./a')\n",
    "# os.mkdir('./b')"
   ]
  },
  {
   "cell_type": "code",
   "execution_count": null,
   "id": "93c52bce",
   "metadata": {},
   "outputs": [],
   "source": [
    "print(dir(os.path))"
   ]
  },
  {
   "cell_type": "code",
   "execution_count": null,
   "id": "ddac988b",
   "metadata": {},
   "outputs": [],
   "source": [
    "#파일인지 디렉토리 인지 확인해보자\n",
    "#os.chdir('./test')\n",
    "print(os.path.isfile('./test'))\n",
    "print(os.path.isdir('./test'))\n",
    "print(os.path.exists('./test'))"
   ]
  },
  {
   "cell_type": "code",
   "execution_count": null,
   "id": "3bcb7f79",
   "metadata": {},
   "outputs": [],
   "source": [
    "os.chdir('../')\n",
    "os.getcwd()"
   ]
  },
  {
   "cell_type": "code",
   "execution_count": null,
   "id": "cb3949df",
   "metadata": {},
   "outputs": [],
   "source": [
    "from pathlib import Path # Path 오브젝트로 관리\n",
    "p_file = Path('./[1]Exam01.py')\n",
    "p_dir  = Path('./test')\n",
    "print(p_file.is_file())\n",
    "print(p_dir.is_dir())"
   ]
  },
  {
   "cell_type": "markdown",
   "id": "29b51dc3",
   "metadata": {},
   "source": [
    "exam01) 지정된 디렉토리의 목록을 리턴 받자"
   ]
  },
  {
   "cell_type": "code",
   "execution_count": null,
   "id": "98d821c0",
   "metadata": {},
   "outputs": [],
   "source": [
    "res = os.listdir('.') #현재 디렉토리 목록\n",
    "print(sorted(res))"
   ]
  },
  {
   "cell_type": "markdown",
   "id": "b43a4a9f",
   "metadata": {},
   "source": [
    "exam02) 지정된 디렉토리의 목록을 리턴 받자 단 파일이면 a.txt[파일] , test[디렉토리]로 출력하자"
   ]
  },
  {
   "cell_type": "code",
   "execution_count": null,
   "id": "ea2df853",
   "metadata": {},
   "outputs": [],
   "source": [
    "res = os.listdir('.') #현재 디렉토리 목록\n",
    "for n in res:\n",
    "        if os.path.isfile(n) == True:\n",
    "                print(f'{n} [파일]')\n",
    "        elif os.path.isdir(n) == True:\n",
    "                print(f'{n} [디렉토리]')"
   ]
  },
  {
   "cell_type": "markdown",
   "id": "794c6057",
   "metadata": {},
   "source": [
    "exam03) 지정된 디렉토리의 목록만 나열해 보자"
   ]
  },
  {
   "cell_type": "code",
   "execution_count": null,
   "id": "9c09488a",
   "metadata": {},
   "outputs": [],
   "source": [
    "dir_path = 'C:\\Program Files'\n",
    "dir_list = [n for n in os.listdir(dir_path) if os.path.isdir(os.path.join(dir_path,n))]\n",
    "print(dir_list)"
   ]
  },
  {
   "cell_type": "code",
   "execution_count": null,
   "id": "9fdf7bf9",
   "metadata": {},
   "outputs": [],
   "source": [
    "#디렉토리 크기 ㅐos.scandir() / 파일 크기 사이즈 os.path.getSize()\n",
    "os.path.getsize('./test/a.txt')"
   ]
  },
  {
   "cell_type": "code",
   "execution_count": null,
   "id": "33c7ab8a",
   "metadata": {},
   "outputs": [],
   "source": [
    "res = (list(os.scandir('.')))  #scandir()은 ScandirIterator클래스이다\n",
    "#(.) 현재 디렉토리 안에 목록을 <DirEntry '.ipynb_checkpoints'>라는 객체로 관리한다\n",
    "print(type(res[0]))\n",
    "#print(help(res[0]))\n",
    "print(res[2])\n",
    "print(res[2].is_file())\n",
    "print(f'stat 확인: {res[2].stat()}')\n",
    "#help(os.scandir('.'))"
   ]
  },
  {
   "cell_type": "code",
   "execution_count": null,
   "id": "7d7fc62b",
   "metadata": {},
   "outputs": [],
   "source": [
    "list(os.scandir('.'))\n",
    "list(os.scandir('.'))[9].stat().st_size"
   ]
  },
  {
   "cell_type": "code",
   "execution_count": 8,
   "id": "e5c97d7a",
   "metadata": {},
   "outputs": [
    {
     "name": "stdout",
     "output_type": "stream",
     "text": [
      "./test 경로의 있는 파일총크기는 24 입니다\n"
     ]
    }
   ],
   "source": [
    "#디렉토리 사이즈를 체크하자(MyAnswer)\n",
    "def get_dir_size(path=''):\n",
    "    total_size = 0\n",
    "    direc = []\n",
    "    direc = list(os.scandir(path))\n",
    "    #print(direc)\n",
    "    for n in direc:\n",
    "        #print(n.stat().st_size)\n",
    "        total_size += n.stat().st_size\n",
    "    print(f'{path} 경로의 있는 파일총크기는 {total_size} 입니다')   \n",
    "\n",
    "get_dir_size('./test')\n",
    "    "
   ]
  },
  {
   "cell_type": "code",
   "execution_count": 9,
   "id": "1b4bc8ee",
   "metadata": {},
   "outputs": [
    {
     "name": "stdout",
     "output_type": "stream",
     "text": [
      "24\n"
     ]
    }
   ],
   "source": [
    "#디렉토리 사이즈를 체크 해보자.         [<DirEntry '.ipynb_checkpoints'> ]\n",
    "def get_dir_size(path='.'):\n",
    "    total_size  =0  # 전체 사이즈    \n",
    "    with os.scandir(path) as it:\n",
    "        for entry in it:\n",
    "            if entry.is_file():\n",
    "                total_size += entry.stat().st_size\n",
    "            elif entry.is_dir():\n",
    "                total_size += get_dir_size(entry.path)\n",
    "    return total_size\n",
    "\n",
    "print(get_dir_size('./test'))"
   ]
  },
  {
   "cell_type": "code",
   "execution_count": null,
   "id": "4054b6e3",
   "metadata": {},
   "outputs": [],
   "source": []
  }
 ],
 "metadata": {
  "kernelspec": {
   "display_name": "Python 3 (ipykernel)",
   "language": "python",
   "name": "python3"
  },
  "language_info": {
   "codemirror_mode": {
    "name": "ipython",
    "version": 3
   },
   "file_extension": ".py",
   "mimetype": "text/x-python",
   "name": "python",
   "nbconvert_exporter": "python",
   "pygments_lexer": "ipython3",
   "version": "3.11.5"
  }
 },
 "nbformat": 4,
 "nbformat_minor": 5
}
