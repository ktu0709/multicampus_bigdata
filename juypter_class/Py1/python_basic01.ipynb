{
 "cells": [
  {
   "cell_type": "markdown",
   "id": "721ca696",
   "metadata": {},
   "source": [
    "- shift + enter : 셀 실행 후 다음 셀로 이동\n",
    "- alt + enter : 셀 실행 후 다음에 셀을 추가\n",
    "- ctrl + '/' : 주석문 설정/해제\n",
    "- Tab : 들여 쓰기\n",
    "- shift + Tab : 들여 쓰기 해제"
   ]
  },
  {
   "cell_type": "markdown",
   "id": "a914eb2e",
   "metadata": {},
   "source": [
    "### Python 기본"
   ]
  },
  {
   "cell_type": "code",
   "execution_count": 1,
   "id": "b8c05dcf",
   "metadata": {},
   "outputs": [],
   "source": [
    "# 자료형 byte() int() float() str(),,,,bin() oct() hex()\n",
    "# 숫자형 bin() int() float() oct() hex()\n",
    "# 문자열 str() ord() chr()\n",
    "# 리스트list() list = []\n",
    "# 튜플 tuple tuple=()\n",
    "# 사전 dict = {}\n",
    "# 집합 set set{1,2,3,4}"
   ]
  },
  {
   "cell_type": "markdown",
   "id": "503a24a0",
   "metadata": {},
   "source": [
    "#### 리스트(list) : 가변형(mutable), 시퀀스, 가장 유용한 자료형, [ ] :대괄호, 중복 허용"
   ]
  },
  {
   "cell_type": "code",
   "execution_count": 2,
   "id": "a48db0ad",
   "metadata": {},
   "outputs": [
    {
     "name": "stdout",
     "output_type": "stream",
     "text": [
      "<class 'list'>\n",
      "1 2 3 6 6\n",
      "[1, 2, 3]\n",
      "[2]\n",
      "[1, 2, 3, 4, 5, 6]\n",
      "[1, 3, 5]\n",
      "[6, 5, 4, 3, 2, 1]\n"
     ]
    }
   ],
   "source": [
    "# 리스트\n",
    "a = [1,2,3,4,5,6]\n",
    "print(type(a))\n",
    "\n",
    "# 인덱싱\n",
    "print(a[0],a[1],a[2],a[5],a[-1])\n",
    "\n",
    "# 슬라이싱 : a[start:end+1:step]\n",
    "print(a[0:3])\n",
    "print(a[1:2])\n",
    "# print(a[1])\n",
    "print(a[:])\n",
    "print(a[::2])\n",
    "print(a[::-1])"
   ]
  },
  {
   "cell_type": "code",
   "execution_count": 3,
   "id": "532b31c6",
   "metadata": {},
   "outputs": [
    {
     "name": "stdout",
     "output_type": "stream",
     "text": [
      "[10, 2, 3, 4, 5, 6]\n"
     ]
    }
   ],
   "source": [
    "a[0] = 10   # 요소 변경이 가능\n",
    "print(a)"
   ]
  },
  {
   "cell_type": "markdown",
   "id": "3e537542",
   "metadata": {},
   "source": [
    "### 튜플(tuple) : 불변형(immutable), 시퀀스형, ( ):소괄호 사용"
   ]
  },
  {
   "cell_type": "code",
   "execution_count": 4,
   "id": "5db923ea",
   "metadata": {},
   "outputs": [
    {
     "name": "stdout",
     "output_type": "stream",
     "text": [
      "<class 'tuple'>\n",
      "1 2 3 6 6\n",
      "(1, 2, 3)\n",
      "(2,)\n",
      "(1, 2, 3, 4, 5, 6)\n",
      "(1, 3, 5)\n",
      "(6, 5, 4, 3, 2, 1)\n"
     ]
    }
   ],
   "source": [
    "a = (1,2,3,4,5,6)\n",
    "print(type(a))\n",
    "\n",
    "# 인덱싱\n",
    "print(a[0],a[1],a[2],a[5],a[-1])\n",
    "\n",
    "# 슬라이싱 : a[start:end+1:step]\n",
    "print(a[0:3])\n",
    "print(a[1:2])\n",
    "# print(a[1])\n",
    "print(a[:])\n",
    "print(a[::2])\n",
    "print(a[::-1])"
   ]
  },
  {
   "cell_type": "code",
   "execution_count": 5,
   "id": "944d45af",
   "metadata": {},
   "outputs": [],
   "source": [
    "# a[0] = 10   # 요소 변경이 불가능"
   ]
  },
  {
   "cell_type": "code",
   "execution_count": 6,
   "id": "04f71321",
   "metadata": {},
   "outputs": [],
   "source": [
    "# 패킹(packing), 언패킹 튜플"
   ]
  },
  {
   "cell_type": "code",
   "execution_count": 9,
   "id": "4294e84c",
   "metadata": {},
   "outputs": [
    {
     "name": "stdout",
     "output_type": "stream",
     "text": [
      "10 98.0 abc 한글이야\n",
      "<class 'int'> <class 'float'> <class 'str'> <class 'str'>\n",
      "10\t98.0\tabc한글이야\n",
      "['__all__', '__builtins__', '__cached__', '__doc__', '__file__', '__loader__', '__name__', '__package__', '__spec__', 'iskeyword', 'issoftkeyword', 'kwlist', 'softkwlist']\n",
      "['False', 'None', 'True', 'and', 'as', 'assert', 'async', 'await', 'break', 'class', 'continue', 'def', 'del', 'elif', 'else', 'except', 'finally', 'for', 'from', 'global', 'if', 'import', 'in', 'is', 'lambda', 'nonlocal', 'not', 'or', 'pass', 'raise', 'return', 'try', 'while', 'with', 'yield']\n",
      "['_', 'case', 'match']\n"
     ]
    }
   ],
   "source": [
    "import keyword\n",
    "#1.일반데이터 타입  \n",
    "a = 10\n",
    "b= 98.0\n",
    "c= \"abc\"\n",
    "d=\"한글이야\"\n",
    "\n",
    "print(a,b,c,d)\n",
    "print(type(a),type(b),type(c),type(d))\n",
    "\n",
    "print(str(a)+\"\\t\"+str(b)+\"\\t\"+c+d)\n",
    "\n",
    "\n",
    "#2. 키워드 확인  \n",
    "print(dir(keyword))\n",
    "\n",
    "print(keyword.kwlist)\n",
    "print(keyword.softkwlist)"
   ]
  },
  {
   "cell_type": "code",
   "execution_count": 10,
   "id": "15c843d4",
   "metadata": {},
   "outputs": [
    {
     "name": "stdout",
     "output_type": "stream",
     "text": [
      "Python 3.11.5\n"
     ]
    }
   ],
   "source": [
    "!python -V"
   ]
  },
  {
   "cell_type": "code",
   "execution_count": null,
   "id": "063539bd",
   "metadata": {},
   "outputs": [],
   "source": []
  }
 ],
 "metadata": {
  "kernelspec": {
   "display_name": "Python 3 (ipykernel)",
   "language": "python",
   "name": "python3"
  },
  "language_info": {
   "codemirror_mode": {
    "name": "ipython",
    "version": 3
   },
   "file_extension": ".py",
   "mimetype": "text/x-python",
   "name": "python",
   "nbconvert_exporter": "python",
   "pygments_lexer": "ipython3",
   "version": "3.11.5"
  }
 },
 "nbformat": 4,
 "nbformat_minor": 5
}
