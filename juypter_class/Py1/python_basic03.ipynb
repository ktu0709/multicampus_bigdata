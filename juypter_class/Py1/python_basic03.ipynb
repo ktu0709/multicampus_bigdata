{
 "cells": [
  {
   "cell_type": "code",
   "execution_count": 1,
   "id": "10f9d0f3",
   "metadata": {},
   "outputs": [
    {
     "name": "stdout",
     "output_type": "stream",
     "text": [
      "1.더하기 예 : 2+4= 6\n",
      "2.빼기 예 : 4-2=  2\n",
      "3.곱하기 예 : 4X2= 8\n",
      "4.나누기 예 : 4/2= 2.0\n",
      "5.나누기에서 몫만 출력하기 예: 4//2= 2\n",
      "6.나누기에서 나머지값만 출력하기 예: 4%2= 0\n",
      "7.주어진 숫자의 승수값 출력하기 예: 4**2= 16\n"
     ]
    }
   ],
   "source": [
    "# 파이썬에서 산술 연산자를 사용하는 예\n",
    "\n",
    "# 더하기\n",
    "print('1.더하기 예 : 2+4=' , 2+4)\n",
    "\n",
    "#빼기\n",
    "print('2.빼기 예 : 4-2=', 4-2)\n",
    "\n",
    "#곱하기\n",
    "print('3.곱하기 예 : 4X2=' , 4*2)\n",
    "\n",
    "#나누기\n",
    "print('4.나누기 예 : 4/2=' , 4/2)\n",
    "\n",
    "#나누기에서 몫만 출력하기\n",
    "print('5.나누기에서 몫만 출력하기 예: 4//2=' , 4//2)\n",
    "\n",
    "#나누기에서 나머지값만 출력하기\n",
    "print('6.나누기에서 나머지값만 출력하기 예: 4%2=' , 4%2)\n",
    "\n",
    "#주어진 숫자의 승수값 출력하기\n",
    "print('7.주어진 숫자의 승수값 출력하기 예: 4**2=', 4**2)\n"
   ]
  },
  {
   "cell_type": "code",
   "execution_count": 3,
   "id": "17a454f6",
   "metadata": {},
   "outputs": [
    {
     "name": "stdout",
     "output_type": "stream",
     "text": [
      "변수 i에 저장된 값은 1입니다\n",
      "변수 i에 저장된 값은 1입니다\n"
     ]
    }
   ],
   "source": [
    "#연산자 사용방법\n",
    "#Case 1\n",
    "i=0\n",
    "i = i+1\n",
    "print('변수 i에 저장된 값은 %s입니다' %i)\n",
    "\n",
    "#Case 2\n",
    "i=0\n",
    "i += 1 # i=i+1 과 같은 의미입니다\n",
    "print('변수 i에 저장된 값은 %s입니다' %i) \n"
   ]
  },
  {
   "cell_type": "code",
   "execution_count": 4,
   "id": "f0062f7f",
   "metadata": {},
   "outputs": [
    {
     "name": "stdout",
     "output_type": "stream",
     "text": [
      "첫번째 숫자 입력:3\n",
      "두번째 숫자 입력:2\n",
      "첫번째 숫자는 3이고 두번째 숫자는 2이며 , \n",
      "두 숫자의 합은 32 입니다\n"
     ]
    }
   ],
   "source": [
    "#정수형으로 변환하기 - 변환하기 전\n",
    "\n",
    "no1 = input('첫번째 숫자 입력:')\n",
    "no2 = input('두번째 숫자 입력:')\n",
    "\n",
    "print('''첫번째 숫자는 %s 이고 두번째 숫자는 %s 이며 , \n",
    "두 숫자의 합은 %s 입니다''' %(no1 , no2 , no1 + no2))\n"
   ]
  },
  {
   "cell_type": "code",
   "execution_count": 6,
   "id": "3115cce0",
   "metadata": {},
   "outputs": [
    {
     "name": "stdout",
     "output_type": "stream",
     "text": [
      "첫번째 숫자 입력:3\n",
      "두번째 숫자 입력:2\n",
      "첫번째 숫자는 3 이고 두번째 숫자는 2 이며 , \n",
      "두 숫자의 합은 5 입니다\n"
     ]
    }
   ],
   "source": [
    "#정수형으로 변환하기 - 변환 후\n",
    "\n",
    "no1 = int( input('첫번째 숫자 입력:') )\n",
    "no2 = int( input('두번째 숫자 입력:') )\n",
    "\n",
    "print('''첫번째 숫자는 %s 이고 두번째 숫자는 %s 이며 , \n",
    "두 숫자의 합은 %s 입니다''' %(no1 , no2 , no1 + no2))\n"
   ]
  },
  {
   "cell_type": "code",
   "execution_count": 7,
   "id": "4bd69f6e",
   "metadata": {
    "scrolled": true
   },
   "outputs": [
    {
     "name": "stdout",
     "output_type": "stream",
     "text": [
      "첫번째 실수를 입력하세요:3.5\n",
      "두번째 실수를 입력하세요:1.5\n",
      "첫번째 수는 3.5 이고 두번째 수는 1.5 이며 , \n",
      "두 수를 합친 수는 3.51.5 입니다\n"
     ]
    }
   ],
   "source": [
    "#실수형 주의 - float( ) 함수 사용전\n",
    "fvar1 = input('첫번째 실수를 입력하세요:') \n",
    "fvar2 = input('두번째 실수를 입력하세요:') \n",
    "\n",
    "print('''첫번째 수는 %s 이고 두번째 수는 %s 이며 , \n",
    "두 수를 합친 수는 %s 입니다''' %(fvar1 , fvar2 , fvar1 + fvar2))"
   ]
  },
  {
   "cell_type": "code",
   "execution_count": 1,
   "id": "b6d13290",
   "metadata": {},
   "outputs": [
    {
     "data": {
      "text/plain": [
       "['__doc__',\n",
       " '__loader__',\n",
       " '__name__',\n",
       " '__package__',\n",
       " '__spec__',\n",
       " 'acos',\n",
       " 'acosh',\n",
       " 'asin',\n",
       " 'asinh',\n",
       " 'atan',\n",
       " 'atan2',\n",
       " 'atanh',\n",
       " 'cbrt',\n",
       " 'ceil',\n",
       " 'comb',\n",
       " 'copysign',\n",
       " 'cos',\n",
       " 'cosh',\n",
       " 'degrees',\n",
       " 'dist',\n",
       " 'e',\n",
       " 'erf',\n",
       " 'erfc',\n",
       " 'exp',\n",
       " 'exp2',\n",
       " 'expm1',\n",
       " 'fabs',\n",
       " 'factorial',\n",
       " 'floor',\n",
       " 'fmod',\n",
       " 'frexp',\n",
       " 'fsum',\n",
       " 'gamma',\n",
       " 'gcd',\n",
       " 'hypot',\n",
       " 'inf',\n",
       " 'isclose',\n",
       " 'isfinite',\n",
       " 'isinf',\n",
       " 'isnan',\n",
       " 'isqrt',\n",
       " 'lcm',\n",
       " 'ldexp',\n",
       " 'lgamma',\n",
       " 'log',\n",
       " 'log10',\n",
       " 'log1p',\n",
       " 'log2',\n",
       " 'modf',\n",
       " 'nan',\n",
       " 'nextafter',\n",
       " 'perm',\n",
       " 'pi',\n",
       " 'pow',\n",
       " 'prod',\n",
       " 'radians',\n",
       " 'remainder',\n",
       " 'sin',\n",
       " 'sinh',\n",
       " 'sqrt',\n",
       " 'tan',\n",
       " 'tanh',\n",
       " 'tau',\n",
       " 'trunc',\n",
       " 'ulp']"
      ]
     },
     "execution_count": 1,
     "metadata": {},
     "output_type": "execute_result"
    }
   ],
   "source": [
    "import math\n",
    "dir(math)"
   ]
  },
  {
   "cell_type": "code",
   "execution_count": 8,
   "id": "762ab8a1",
   "metadata": {},
   "outputs": [
    {
     "name": "stdout",
     "output_type": "stream",
     "text": [
      "첫번째 실수를 입력하세요:3.1\n",
      "두번째 실수를 입력하세요:1.5\n",
      "첫번째 수는 3.1 이고 두번째 수는 1.5 이며 , \n",
      "두 수를 합친 수는 4.6 입니다\n"
     ]
    }
   ],
   "source": [
    "#실수형 주의 - float( ) 함수 사용 후\n",
    "fvar1 = float( input('첫번째 실수를 입력하세요:') ) \n",
    "fvar2 = float( input('두번째 실수를 입력하세요:') )\n",
    "\n",
    "print('''첫번째 수는 %s 이고 두번째 수는 %s 이며 , \n",
    "두 수를 합친 수는 %s 입니다''' %(fvar1 , fvar2 , fvar1 + fvar2))"
   ]
  },
  {
   "cell_type": "code",
   "execution_count": 9,
   "id": "933d4387",
   "metadata": {},
   "outputs": [
    {
     "name": "stdout",
     "output_type": "stream",
     "text": [
      "원래값:3.45678 , 반올림후 값: 3\n",
      "원래값:3.56789 , 반올림후 값: 4\n"
     ]
    }
   ],
   "source": [
    "#숫자 타입에서 많이 사용되는 주요 함수\n",
    "#a) round( ) - 반올림 함수\n",
    "\n",
    "no1 = 3.45678\n",
    "no2 = 3.56789\n",
    "print('원래값:%s , 반올림후 값: %s' %(no1, round(no1) ) )\n",
    "print('원래값:%s , 반올림후 값: %s' %(no2, round(no2) ) )"
   ]
  },
  {
   "cell_type": "code",
   "execution_count": 12,
   "id": "b2bb38b5",
   "metadata": {},
   "outputs": [
    {
     "name": "stdout",
     "output_type": "stream",
     "text": [
      "반올림하기 전 원래값:  1.6666666666666667\n",
      "소수 첫째자리까지 반올림하기: 1.7\n",
      "소수 둘째자리까지 반올림하기: 1.67\n"
     ]
    }
   ],
   "source": [
    "# 숫자타입에서 많이 사용되는 주요 함수\n",
    "#a) round() -반올림 함수의 소수점 이하 자리수 지정\n",
    "\n",
    "no1 = 3\n",
    "no2 = 5\n",
    "print('반올림하기 전 원래값: ' , no2 / no1)\n",
    "print('소수 첫째자리까지 반올림하기:' , round(no2 / no1 , 1))\n",
    "print('소수 둘째자리까지 반올림하기:' , round(no2 / no1 , 2))"
   ]
  },
  {
   "cell_type": "code",
   "execution_count": 13,
   "id": "d5e79783",
   "metadata": {},
   "outputs": [
    {
     "name": "stdout",
     "output_type": "stream",
     "text": [
      "버림하기 전 원래값:  1.6666666666666667\n",
      "소수 첫째자리까지 버림하기: 1\n"
     ]
    }
   ],
   "source": [
    "#숫자 타입에서 많이 사용되는 주요 함수\n",
    "#b) trunc( ) - 버림함수\n",
    "import math\n",
    "\n",
    "no1 = 3\n",
    "no2 = 5\n",
    "print('버림하기 전 원래값: ', no2 / no1)\n",
    "print('소수 첫째자리까지 버림하기:' , math.trunc(no2/no1))"
   ]
  },
  {
   "cell_type": "code",
   "execution_count": 14,
   "id": "45b4b566",
   "metadata": {},
   "outputs": [
    {
     "name": "stdout",
     "output_type": "stream",
     "text": [
      "총 몇건의 데이터를 수집할까요? :16\n",
      "총 2 페이지까지 데이터를 수집해야 합니다\n"
     ]
    }
   ],
   "source": [
    "#숫자타입에서 많이 사용되는 주요함수\n",
    "#c) ceil( ) - 큰 정수 찾기 함수\n",
    "\n",
    "cnt=int( input('총 몇건의 데이터를 수집할까요? :') )\n",
    "page_cnt = math.ceil( cnt / 15 )\n",
    "print('총 %s 페이지까지 데이터를 수집해야 합니다' %page_cnt)"
   ]
  },
  {
   "cell_type": "code",
   "execution_count": 3,
   "id": "e84e044b",
   "metadata": {},
   "outputs": [
    {
     "name": "stdout",
     "output_type": "stream",
     "text": [
      "4.9 보다 작으면서 가장 가까운 정수는 4 입니다\n",
      "4.1 보다 작으면서 가장 가까운 정수는 4 입니다\n"
     ]
    }
   ],
   "source": [
    "#숫자타입에서 많이 사용되는 주요함수\n",
    "#d) floor( ) 함수 - 작은 정수 찾기 함수\n",
    "import math\n",
    "\n",
    "no1 = 4.9\n",
    "no2 = 4.1\n",
    "\n",
    "print('%s 보다 작으면서 가장 가까운 정수는 %s 입니다' %(no1,math.floor(no1)))\n",
    "print('%s 보다 작으면서 가장 가까운 정수는 %s 입니다' %(no2,math.floor(no2)))"
   ]
  },
  {
   "cell_type": "code",
   "execution_count": 16,
   "id": "0bf43d63",
   "metadata": {},
   "outputs": [
    {
     "name": "stdout",
     "output_type": "stream",
     "text": [
      "파이썬완전쉽죠?\n",
      "파\n",
      "이\n"
     ]
    }
   ],
   "source": [
    "#문자열 유형\n",
    "#2) 인덱싱과 슬라이싱\n",
    "\n",
    "str1 = '파이썬완전쉽죠?'\n",
    "print(str1)\n",
    "print(str1[0])\n",
    "print(str1[1])"
   ]
  },
  {
   "cell_type": "code",
   "execution_count": 2,
   "id": "bcd94117",
   "metadata": {},
   "outputs": [
    {
     "name": "stdout",
     "output_type": "stream",
     "text": [
      "파이썬완전쉽죠?\n",
      "파이썬완\n"
     ]
    }
   ],
   "source": [
    "#슬라이싱 예제\n",
    "\n",
    "str1='파이썬완전쉽죠?'\n",
    "print(str1)\n",
    "\n",
    "print(str1[0:4])"
   ]
  },
  {
   "cell_type": "code",
   "execution_count": 18,
   "id": "21caacd7",
   "metadata": {},
   "outputs": [
    {
     "name": "stdout",
     "output_type": "stream",
     "text": [
      " 완전 쉽죠?\n",
      "파이썬\n"
     ]
    }
   ],
   "source": [
    "#슬라이싱 예제 2\n",
    "\n",
    "str1 = '파이썬 완전 쉽죠?'\n",
    "\n",
    "print(str1[3: ])\n",
    "print(str1[ :3])"
   ]
  },
  {
   "cell_type": "code",
   "execution_count": 19,
   "id": "394d405f",
   "metadata": {},
   "outputs": [
    {
     "name": "stdout",
     "output_type": "stream",
     "text": [
      "<- 이쪽 끝에 공백 있었어요\n",
      "오른쪽 끝에 공백 있었어요 ->\n",
      "<-양쪽 끝에 공백 있었어요->\n"
     ]
    }
   ],
   "source": [
    "# lstrip( ) /  rstrip( )  / strip( ) \n",
    "str3 ='     <- 이쪽 끝에 공백 있었어요'\n",
    "str4 ='오른쪽 끝에 공백 있었어요 ->   '\n",
    "str5 ='   <-양쪽 끝에 공백 있었어요->   '\n",
    "\n",
    "print( str3.lstrip( ) )\n",
    "print( str4.rstrip( ) )\n",
    "print( str5.strip( ) )"
   ]
  },
  {
   "cell_type": "code",
   "execution_count": 20,
   "id": "2a504567",
   "metadata": {},
   "outputs": [
    {
     "name": "stdout",
     "output_type": "stream",
     "text": [
      "새우도 해산물인가요?\n"
     ]
    }
   ],
   "source": [
    "# replace( ) 함수\n",
    "str6='새우깡도 해산물인가요?'\n",
    "print( str6.replace('새우깡','새우'))"
   ]
  },
  {
   "cell_type": "code",
   "execution_count": 4,
   "id": "b89f09a6",
   "metadata": {},
   "outputs": [
    {
     "name": "stdout",
     "output_type": "stream",
     "text": [
      "['02', '1234', '5678']\n",
      "['02', '1234-5678']\n"
     ]
    },
    {
     "data": {
      "text/plain": [
       "'02-1234-5678'"
      ]
     },
     "execution_count": 4,
     "metadata": {},
     "output_type": "execute_result"
    }
   ],
   "source": [
    "# split( ) 함수\n",
    "tel = '02-1234-5678'\n",
    "print( tel.split('-'))\n",
    "print( tel.split('-',1))\n",
    "tel"
   ]
  },
  {
   "cell_type": "code",
   "execution_count": 22,
   "id": "d2707fa2",
   "metadata": {},
   "outputs": [
    {
     "name": "stdout",
     "output_type": "stream",
     "text": [
      "10\n",
      "3\n"
     ]
    }
   ],
   "source": [
    "# len( ) 함수\n",
    "str1 = '파이썬 완전 좋아요'\n",
    "str2 = ['파이썬','웹크롤러','가치랩스']\n",
    "\n",
    "print( len(str1) )\n",
    "print( len(str2) )"
   ]
  },
  {
   "cell_type": "code",
   "execution_count": 23,
   "id": "5f571997",
   "metadata": {},
   "outputs": [
    {
     "name": "stdout",
     "output_type": "stream",
     "text": [
      "================================================================================\n",
      "문자열로 연산하기 실습\n",
      "++++++++++++++++++++++++++++++++++++++++++++++++++++++++++++++++++++++++++++++++\n"
     ]
    }
   ],
   "source": [
    "#문자열로 연산하기\n",
    "\n",
    "print('=' *80)\n",
    "print('문자열로 연산하기 실습')\n",
    "print('+' *80)"
   ]
  },
  {
   "cell_type": "code",
   "execution_count": 24,
   "id": "be813d55",
   "metadata": {},
   "outputs": [
    {
     "name": "stdout",
     "output_type": "stream",
     "text": [
      "['1982-07-15', '홍길동', 30]\n"
     ]
    }
   ],
   "source": [
    "#리스트 유형 예제\n",
    "\n",
    "list1 = ['1982-07-15', '홍길동' , 30]\n",
    "print(list1)"
   ]
  },
  {
   "cell_type": "code",
   "execution_count": 5,
   "id": "85cedb62",
   "metadata": {},
   "outputs": [
    {
     "name": "stdout",
     "output_type": "stream",
     "text": [
      "['~~', '첫째', '둘째', 'insert로 추가한 것', '셋째', 'append로 추가한 것']\n"
     ]
    }
   ],
   "source": [
    "# append( )/ insert( ) 함수\n",
    "\n",
    "list2 = ['첫째','둘째','셋째']\n",
    "list2.append('append로 추가한 것')\n",
    "list2.insert(2,'insert로 추가한 것')\n",
    "list2.insert(0,'~~')\n",
    "\n",
    "print(list2)"
   ]
  },
  {
   "cell_type": "code",
   "execution_count": 27,
   "id": "ad525a68",
   "metadata": {},
   "outputs": [
    {
     "name": "stdout",
     "output_type": "stream",
     "text": [
      "삭제전 목록: ['첫째', '둘째', 'insert로 추가한 것', '셋째', 'append로 추가한 것']\n",
      "삭제후 목록: ['첫째', '둘째', '셋째', 'append로 추가한 것']\n",
      "remove로 삭제 후 목록: ['첫째', '둘째', '셋째']\n"
     ]
    }
   ],
   "source": [
    "#del( ) 함수 / remove( ) 함수\n",
    "\n",
    "print('삭제전 목록:' , list2)\n",
    "del list2[2]\n",
    "print('삭제후 목록:', list2)\n",
    "\n",
    "list2.remove('append로 추가한 것')\n",
    "print('remove로 삭제 후 목록:', list2)"
   ]
  },
  {
   "cell_type": "code",
   "execution_count": 28,
   "id": "6dc3ecd1",
   "metadata": {},
   "outputs": [
    {
     "name": "stdout",
     "output_type": "stream",
     "text": [
      "오름차순(기본)정렬후: [1, 2, 3, 5, 8]\n",
      "내림차순 정렬후: [8, 5, 3, 2, 1]\n",
      "영어 정렬: ['Apple', 'apple', 'banana', 'cherry']\n",
      "한글 정렬: ['김유신', '이순신', '전우치', '홍길동']\n"
     ]
    }
   ],
   "source": [
    "#sort( ) 함수와 reverse( ) 함수\n",
    "list3 = [3,1,5,8,2]\n",
    "list3.sort( )\n",
    "print('오름차순(기본)정렬후:' , list3)\n",
    "\n",
    "list3.reverse( )\n",
    "print('내림차순 정렬후:', list3)\n",
    "\n",
    "list4=['banana','apple','cherry','Apple']\n",
    "list4.sort( )\n",
    "print('영어 정렬:',list4)\n",
    "\n",
    "list5=['홍길동','전우치','김유신','이순신']\n",
    "list5.sort( )\n",
    "print('한글 정렬:',list5)"
   ]
  },
  {
   "cell_type": "markdown",
   "id": "b965f7a3",
   "metadata": {},
   "source": [
    "### exam01.동전을 던져서 앞면이 나오는지 뒷면이 나오는지 확인해보자"
   ]
  },
  {
   "cell_type": "code",
   "execution_count": 14,
   "id": "7c595def",
   "metadata": {},
   "outputs": [
    {
     "data": {
      "text/plain": [
       "'뒷면'"
      ]
     },
     "execution_count": 14,
     "metadata": {},
     "output_type": "execute_result"
    }
   ],
   "source": [
    "import random\n",
    "coin = ['앞면','뒷면']\n",
    "random.choice(coin)"
   ]
  },
  {
   "cell_type": "code",
   "execution_count": null,
   "id": "d7acc5ff",
   "metadata": {},
   "outputs": [],
   "source": []
  }
 ],
 "metadata": {
  "kernelspec": {
   "display_name": "Python 3 (ipykernel)",
   "language": "python",
   "name": "python3"
  },
  "language_info": {
   "codemirror_mode": {
    "name": "ipython",
    "version": 3
   },
   "file_extension": ".py",
   "mimetype": "text/x-python",
   "name": "python",
   "nbconvert_exporter": "python",
   "pygments_lexer": "ipython3",
   "version": "3.11.5"
  }
 },
 "nbformat": 4,
 "nbformat_minor": 5
}
