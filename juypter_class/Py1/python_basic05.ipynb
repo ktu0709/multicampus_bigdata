{
 "cells": [
  {
   "cell_type": "code",
   "execution_count": null,
   "id": "707b804b",
   "metadata": {},
   "outputs": [],
   "source": [
    "#예제 9\n",
    "\n",
    "for i in (1,2,3) :\n",
    "    print(i)"
   ]
  },
  {
   "cell_type": "code",
   "execution_count": null,
   "id": "6cd85a24",
   "metadata": {},
   "outputs": [],
   "source": [
    "#예제 10\n",
    "data = ['하나','둘','셋']\n",
    "for i in data :\n",
    "    print(i)"
   ]
  },
  {
   "cell_type": "code",
   "execution_count": null,
   "id": "02aaa114",
   "metadata": {},
   "outputs": [],
   "source": [
    "#예제 11\n",
    "\n",
    "data=['김구','유관순','이순신']\n",
    "for i in data :\n",
    "    print('%s님은 대한민국의 위대한 위인이시고 자랑이십니다~!' %i)"
   ]
  },
  {
   "cell_type": "code",
   "execution_count": null,
   "id": "f403d5f5",
   "metadata": {},
   "outputs": [],
   "source": [
    "#예제 12\n",
    "\n",
    "for i in range(1,5) :\n",
    "    print('밥 %s 그릇 주세요~' %i)"
   ]
  },
  {
   "cell_type": "code",
   "execution_count": null,
   "id": "0accca61",
   "metadata": {},
   "outputs": [],
   "source": [
    "# for 반복문 예시\n",
    "# 숫자 1개를 입력받아서 해당 숫자의 단에 해당되는 구구단 출력하기\n",
    "\n",
    "no = int(input('출력을 원하시는 단을 입력하세요: '))\n",
    "\n",
    "for i in range(1,10) :\n",
    "    print(no,' X ', i , '=' , no*i)"
   ]
  },
  {
   "cell_type": "code",
   "execution_count": null,
   "id": "9b863384",
   "metadata": {},
   "outputs": [],
   "source": [
    "#for 반복문 예시\n",
    "# 숫자 1개를 입력받아서 1부터 해당 숫자까지의 짝수만 출력하세요\n",
    "\n",
    "no = int( input('숫자를 입력하세요:'))\n",
    "for i in range(1,no+1) :\n",
    "    if i%2==0 :\n",
    "        print(i)\n",
    "        "
   ]
  },
  {
   "cell_type": "code",
   "execution_count": null,
   "id": "c75f0a69",
   "metadata": {},
   "outputs": [],
   "source": [
    "#for 반복문 예시\n",
    "# 숫자 1개를 입력받아서 1부터 해당 숫자까지의 홀수만 출력하세요\n",
    "\n",
    "no = int( input('숫자를 입력하세요:'))\n",
    "for i in range(1,no+1) :\n",
    "    if i%2!=0 :\n",
    "        print(i)"
   ]
  },
  {
   "cell_type": "code",
   "execution_count": null,
   "id": "2e8ad6a8",
   "metadata": {},
   "outputs": [],
   "source": [
    "#예제 13\n",
    "no1 = 1\n",
    "while no1 < 9 :\n",
    "    print(no1)\n",
    "    no1 += 2"
   ]
  },
  {
   "cell_type": "code",
   "execution_count": null,
   "id": "9248f835",
   "metadata": {},
   "outputs": [],
   "source": [
    "#예제 14\n",
    "no1 = 0\n",
    "while no1 < 9 :\n",
    "    no1 += 2\n",
    "    print(no1)"
   ]
  },
  {
   "cell_type": "code",
   "execution_count": null,
   "id": "93a08647",
   "metadata": {},
   "outputs": [],
   "source": [
    "# While 문으로 구구단 출력하기\n",
    "\n",
    "dan = int( input('출력을 원하는 단 수를 입력하세요: '))\n",
    "no = 1\n",
    "while no < 10 :\n",
    "    print(dan,'X',no,'=',dan*no)\n",
    "    no += 1\n",
    "    "
   ]
  },
  {
   "cell_type": "code",
   "execution_count": null,
   "id": "a0907e01",
   "metadata": {},
   "outputs": [],
   "source": [
    "#예제 15\n",
    "\n",
    "snack = ['새우깡','감자깡','고구마깡','맛동산','짱구']\n",
    "for i in snack :\n",
    "    if i == '고구마깡' : \n",
    "        break\n",
    "    print(i,'완전 맛있어요~~')"
   ]
  },
  {
   "cell_type": "code",
   "execution_count": null,
   "id": "40febe8d",
   "metadata": {},
   "outputs": [],
   "source": [
    "#예제 16\n",
    "snack = ['새우깡','감자깡','고구마깡','맛동산','짱구']\n",
    "for i in snack :\n",
    "    if i == '고구마깡' : \n",
    "        continue\n",
    "    print(i,'완전 맛있어요~~')"
   ]
  },
  {
   "cell_type": "code",
   "execution_count": null,
   "id": "34723e3f",
   "metadata": {},
   "outputs": [],
   "source": []
  },
  {
   "cell_type": "code",
   "execution_count": null,
   "id": "0ee6a938",
   "metadata": {},
   "outputs": [],
   "source": []
  },
  {
   "cell_type": "code",
   "execution_count": null,
   "id": "845b9f52",
   "metadata": {},
   "outputs": [],
   "source": []
  },
  {
   "cell_type": "code",
   "execution_count": null,
   "id": "e1480e8e",
   "metadata": {},
   "outputs": [],
   "source": []
  },
  {
   "cell_type": "code",
   "execution_count": null,
   "id": "6c6c6483",
   "metadata": {},
   "outputs": [],
   "source": []
  },
  {
   "cell_type": "code",
   "execution_count": null,
   "id": "89446f27",
   "metadata": {},
   "outputs": [],
   "source": [
    "# 반복문 종합정리 1\n",
    "# 사용자에게 주문을 받되  주문 종료 후 \"추가 주문하시겠습니까? \" 를 물어보고\n",
    "# 사용자가 Y / y 를 입력하면 주문 결과를 보여준 후 주문 창을 다시 보여주고\n",
    "# 사용자가 N / y 를 입력하면 주문 결과를 보여주고 종료하도록 코드를 작성하세요.\n",
    "\n",
    "answer = 'Y'\n",
    "while ( answer==\"Y\" or answer == \"y\") :\n",
    "    menu = int(input('''\n",
    "    1.짜장면 - 5,000원          2.짬뽕 - 6,000원\n",
    "    3.군만두 - 8,000원          4.탕수육 - 10,000원 \n",
    "\n",
    "    1. 위 메뉴 중 주문할 메뉴의 번호를 쓰세요:  ''') )\n",
    "\n",
    "    qty = int(input(\"    2. 위 메뉴의 주문 수량을 쓰세요: \"))\n",
    "    print(\"\\n\")\n",
    "    \n",
    "    if (menu == 1):\n",
    "        print( '    주문하신 메뉴는 짜장면이고 주문 수량은 %s 그릇이며 주문금액은 %s 입니다' %(qty , 5000*qty))\n",
    "    elif ( menu == 2) :\n",
    "        print( '    주문하신 메뉴는 짬뽕이고 주문 수량은 %s 그릇이며 주문금액은 %s 입니다' %(qty , 6000*qty))\n",
    "    elif ( menu == 3 ) :\n",
    "        print( '    주문하신 메뉴는 군만두이고 주문 수량은 %s 그릇이며 주문금액은 %s 입니다' %(qty , 8000*qty))\n",
    "    elif ( menu == 4) :\n",
    "        print( '    주문하신 메뉴는 탕수육이고 주문 수량은 %s 그릇이며 주문금액은 %s 입니다' %(qty , 10000*qty))\n",
    "    else :\n",
    "        print('    메뉴선택을 잘못하셨습니다')\n",
    "    print(\"\\n\")\n",
    "    \n",
    "    answer = input(\"    3.추가 주문을 하시겠습니까? (Y / N) : \")\n",
    "       "
   ]
  },
  {
   "cell_type": "code",
   "execution_count": null,
   "id": "e724fba1",
   "metadata": {},
   "outputs": [],
   "source": [
    "# 반복문 종합정리 2\n",
    "# 사용자에게 주문을 받되  주문 종료 후 \"추가 주문하시겠습니까? \" 를 물어보고\n",
    "# 사용자가 Y / y 를 입력하면 주문 결과를 보여준 후 주문 창을 다시 보여주고\n",
    "# 사용자가 N / n 를 입력하면 주문 결과를 보여주고 종료하도록 코드를 작성하세요.\n",
    "# 추가 주문 횟수가 총 3회까지만 가능하고 4회부터는 추가 주문이 안되도록 작성하세요\n",
    "\n",
    "answer = 'Y'\n",
    "reorder = 0\n",
    "\n",
    "while ( answer==\"Y\" or answer == \"y\") :    \n",
    "    menu = int(input('''\n",
    "    1.짜장면 - 5,000원          2.짬뽕 - 6,000원\n",
    "    3.군만두 - 8,000원          4.탕수육 - 10,000원 \n",
    "\n",
    "    1. 위 메뉴 중 주문할 메뉴의 번호를 쓰세요:  ''') )\n",
    "\n",
    "    qty = int(input(\"    2. 위 메뉴의 주문 수량을 쓰세요: \"))\n",
    "    print(\"\\n\")\n",
    "    \n",
    "    if (menu == 1):\n",
    "        print( '    주문하신 메뉴는 짜장면이고 주문 수량은 %s 그릇이며 주문금액은 %s 원 입니다' %(qty , 5000*qty))\n",
    "    elif ( menu == 2) :\n",
    "        print( '    주문하신 메뉴는 짬뽕이고 주문 수량은 %s 그릇이며 주문금액은 %s 원 입니다' %(qty , 6000*qty))\n",
    "    elif ( menu == 3 ) :\n",
    "        print( '    주문하신 메뉴는 군만두이고 주문 수량은 %s 그릇이며 주문금액은 %s 원 입니다' %(qty , 8000*qty))\n",
    "    elif ( menu == 4) :\n",
    "        print( '    주문하신 메뉴는 탕수육이고 주문 수량은 %s 그릇이며 주문금액은 %s 원 입니다' %(qty , 10000*qty))\n",
    "    else :\n",
    "        print('    메뉴선택을 잘못하셨습니다')\n",
    "    print(\"\\n\")\n",
    "        \n",
    "    reorder += 1\n",
    "        \n",
    "    if reorder < 4 :\n",
    "        answer = input(\"    3.추가 주문을 하시겠습니까? (Y / N) : \")\n",
    "        print( \"    %s 번째 추가 주문입니다\" %reorder)\n",
    "    else :\n",
    "        print(\"    추가주문은 총 3회 까지만 가능합니다 ㅠㅠ\")\n",
    "        break"
   ]
  }
 ],
 "metadata": {
  "kernelspec": {
   "display_name": "Python 3 (ipykernel)",
   "language": "python",
   "name": "python3"
  },
  "language_info": {
   "codemirror_mode": {
    "name": "ipython",
    "version": 3
   },
   "file_extension": ".py",
   "mimetype": "text/x-python",
   "name": "python",
   "nbconvert_exporter": "python",
   "pygments_lexer": "ipython3",
   "version": "3.9.12"
  }
 },
 "nbformat": 4,
 "nbformat_minor": 5
}
