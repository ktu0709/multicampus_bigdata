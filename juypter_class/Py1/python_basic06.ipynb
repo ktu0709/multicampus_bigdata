{
 "cells": [
  {
   "cell_type": "code",
   "execution_count": 2,
   "id": "18e1ed7d",
   "metadata": {},
   "outputs": [
    {
     "name": "stdout",
     "output_type": "stream",
     "text": [
      "3 과(와) 4의 더한값은 7입니다\n"
     ]
    }
   ],
   "source": [
    "#예제 1\n",
    "\n",
    "def p(x,y) :\n",
    "    result = print('%s 과(와) %s의 더한 값은 %s입니다' %(x,y,x+y))\n",
    "    return result\n",
    "\n",
    "p(3,4)"
   ]
  },
  {
   "cell_type": "code",
   "execution_count": 4,
   "id": "725d68c1",
   "metadata": {},
   "outputs": [
    {
     "name": "stdout",
     "output_type": "stream",
     "text": [
      "입력하신 숫자의 합은 9입니다\n",
      "입력하신 숫자의 합은 20입니다\n"
     ]
    }
   ],
   "source": [
    "#예제 2\n",
    "def p(*x) :\n",
    "    hap = 0\n",
    "    for i in x :\n",
    "        hap += i\n",
    "    return('입력하신 숫자의 합은 %s입니다' %hap)\n",
    "\n",
    "print( p(1,3,5) )\n",
    "print( p(2,4,6,8))"
   ]
  },
  {
   "cell_type": "code",
   "execution_count": 1,
   "id": "4a8b8b15",
   "metadata": {},
   "outputs": [
    {
     "name": "stdout",
     "output_type": "stream",
     "text": [
      "4\n"
     ]
    }
   ],
   "source": [
    "#사용자 정의함수 예시\n",
    "# 두 숫자를 입력 받아서 큰 수에서 작은 수 뺀 결과 값 출력하기\n",
    "def data1(a,b) :\n",
    "    if a > b :\n",
    "        print(a - b)\n",
    "    else :\n",
    "        print(b - a )\n",
    "        \n",
    "data1(6,2)"
   ]
  },
  {
   "cell_type": "code",
   "execution_count": 2,
   "id": "85d579ef",
   "metadata": {},
   "outputs": [
    {
     "data": {
      "text/plain": [
       "9"
      ]
     },
     "execution_count": 2,
     "metadata": {},
     "output_type": "execute_result"
    }
   ],
   "source": [
    "#사용자 정의함수 예시\n",
    "# 여러개의 숫자를 입력 받아서 가장 큰 값 출력하기\n",
    "def maxprint( *a ) :\n",
    "    max = 0\n",
    "    for i in a :\n",
    "        if i > max :\n",
    "            max = i\n",
    "    return max\n",
    "\n",
    "maxprint(3,2,5,9,4)"
   ]
  },
  {
   "cell_type": "code",
   "execution_count": 4,
   "id": "905602c9",
   "metadata": {},
   "outputs": [
    {
     "data": {
      "text/plain": [
       "6"
      ]
     },
     "execution_count": 4,
     "metadata": {},
     "output_type": "execute_result"
    }
   ],
   "source": [
    "#사용자 정의함수 예시\n",
    "# 임의의 갯수의 숫자를 입력받아서 총 합을 출력하는 함수\n",
    "def total_add( *a ) :\n",
    "    total = 0\n",
    "    for i in a :\n",
    "        total += i\n",
    "    return total\n",
    "\n",
    "total_add(1,2,3)"
   ]
  },
  {
   "cell_type": "code",
   "execution_count": 6,
   "id": "0b6fbfaa",
   "metadata": {},
   "outputs": [
    {
     "data": {
      "text/plain": [
       "6"
      ]
     },
     "execution_count": 6,
     "metadata": {},
     "output_type": "execute_result"
    }
   ],
   "source": [
    "#사용자 정의함수 예시\n",
    "# 임의의 갯수 숫자를 입력받아서 가장 큰 값에서 가장 작은 값을 뺀 결과 출력하기\n",
    "def maxminus( *a ) :\n",
    "    m = 0\n",
    "    for i in a :\n",
    "        if i > m :\n",
    "            m = i\n",
    "\n",
    "\n",
    "    n=999999\n",
    "    for i in a :\n",
    "        if i < n :\n",
    "            n = i\n",
    "    return m - n\n",
    "\n",
    "maxminus(3,5,9)"
   ]
  },
  {
   "cell_type": "code",
   "execution_count": null,
   "id": "d4c10538",
   "metadata": {},
   "outputs": [],
   "source": []
  }
 ],
 "metadata": {
  "kernelspec": {
   "display_name": "Python 3 (ipykernel)",
   "language": "python",
   "name": "python3"
  },
  "language_info": {
   "codemirror_mode": {
    "name": "ipython",
    "version": 3
   },
   "file_extension": ".py",
   "mimetype": "text/x-python",
   "name": "python",
   "nbconvert_exporter": "python",
   "pygments_lexer": "ipython3",
   "version": "3.9.12"
  }
 },
 "nbformat": 4,
 "nbformat_minor": 5
}
