{
 "cells": [
  {
   "cell_type": "code",
   "execution_count": 1,
   "id": "09c96297",
   "metadata": {},
   "outputs": [
    {
     "name": "stdout",
     "output_type": "stream",
     "text": [
      "정상적인 경우\n",
      "숫자 1개를 입력하세요:10\n",
      "10\n",
      "\n",
      "\n",
      "예외가 발생하는 경우\n",
      "숫자 1개를 입력하세요:A\n"
     ]
    },
    {
     "ename": "ValueError",
     "evalue": "invalid literal for int() with base 10: 'A'",
     "output_type": "error",
     "traceback": [
      "\u001b[1;31m---------------------------------------------------------------------------\u001b[0m",
      "\u001b[1;31mValueError\u001b[0m                                Traceback (most recent call last)",
      "\u001b[1;32m~\\AppData\\Local\\Temp/ipykernel_7792/2584588260.py\u001b[0m in \u001b[0;36m<module>\u001b[1;34m\u001b[0m\n\u001b[0;32m      9\u001b[0m \u001b[1;31m#예외가 발생하는 경우\u001b[0m\u001b[1;33m\u001b[0m\u001b[1;33m\u001b[0m\u001b[1;33m\u001b[0m\u001b[0m\n\u001b[0;32m     10\u001b[0m \u001b[0mprint\u001b[0m\u001b[1;33m(\u001b[0m\u001b[1;34m'예외가 발생하는 경우'\u001b[0m\u001b[1;33m)\u001b[0m\u001b[1;33m\u001b[0m\u001b[1;33m\u001b[0m\u001b[0m\n\u001b[1;32m---> 11\u001b[1;33m \u001b[0mno2\u001b[0m \u001b[1;33m=\u001b[0m \u001b[0mint\u001b[0m\u001b[1;33m(\u001b[0m\u001b[0minput\u001b[0m\u001b[1;33m(\u001b[0m\u001b[1;34m'숫자 1개를 입력하세요:'\u001b[0m\u001b[1;33m)\u001b[0m\u001b[1;33m)\u001b[0m\u001b[1;33m\u001b[0m\u001b[1;33m\u001b[0m\u001b[0m\n\u001b[0m",
      "\u001b[1;31mValueError\u001b[0m: invalid literal for int() with base 10: 'A'"
     ]
    }
   ],
   "source": [
    "#예외처리 예제 1\n",
    "\n",
    "#정상적인 경우\n",
    "print('정상적인 경우')\n",
    "no1 = int(input('숫자 1개를 입력하세요:'))\n",
    "print(no1)\n",
    "\n",
    "print('\\n')\n",
    "#예외가 발생하는 경우\n",
    "print('예외가 발생하는 경우')\n",
    "no2 = int(input('숫자 1개를 입력하세요:'))\n"
   ]
  },
  {
   "cell_type": "code",
   "execution_count": 2,
   "id": "d7e7f0f0",
   "metadata": {},
   "outputs": [
    {
     "name": "stdout",
     "output_type": "stream",
     "text": [
      "예외처리가 발생하는 경우\n",
      "숫자 1개를 입력하세요:A\n",
      "숫자를 입력하세요\n"
     ]
    }
   ],
   "source": [
    "#예외처리 예제 2\n",
    "#예외처리를 적용한 경우\n",
    "print('예외처리가 발생하는 경우')\n",
    "try :\n",
    "    no2=int(input('숫자 1개를 입력하세요:'))\n",
    "except ValueError :\n",
    "    print('숫자를 입력하세요')"
   ]
  },
  {
   "cell_type": "code",
   "execution_count": 3,
   "id": "a1f0a447",
   "metadata": {},
   "outputs": [
    {
     "ename": "ZeroDivisionError",
     "evalue": "division by zero",
     "output_type": "error",
     "traceback": [
      "\u001b[1;31m---------------------------------------------------------------------------\u001b[0m",
      "\u001b[1;31mZeroDivisionError\u001b[0m                         Traceback (most recent call last)",
      "\u001b[1;32m~\\AppData\\Local\\Temp/ipykernel_7792/313535132.py\u001b[0m in \u001b[0;36m<module>\u001b[1;34m\u001b[0m\n\u001b[0;32m      2\u001b[0m \u001b[0mno1\u001b[0m \u001b[1;33m=\u001b[0m \u001b[1;36m10\u001b[0m\u001b[1;33m\u001b[0m\u001b[1;33m\u001b[0m\u001b[0m\n\u001b[0;32m      3\u001b[0m \u001b[0mno2\u001b[0m \u001b[1;33m=\u001b[0m \u001b[1;36m0\u001b[0m\u001b[1;33m\u001b[0m\u001b[1;33m\u001b[0m\u001b[0m\n\u001b[1;32m----> 4\u001b[1;33m \u001b[0mprint\u001b[0m\u001b[1;33m(\u001b[0m\u001b[0mno1\u001b[0m \u001b[1;33m/\u001b[0m \u001b[0mno2\u001b[0m\u001b[1;33m)\u001b[0m\u001b[1;33m\u001b[0m\u001b[1;33m\u001b[0m\u001b[0m\n\u001b[0m",
      "\u001b[1;31mZeroDivisionError\u001b[0m: division by zero"
     ]
    }
   ],
   "source": [
    "#예외처리 예제 3\n",
    "no1 = 10\n",
    "no2 = 0\n",
    "print(no1 / no2)"
   ]
  },
  {
   "cell_type": "code",
   "execution_count": 4,
   "id": "9d7414f9",
   "metadata": {},
   "outputs": [
    {
     "name": "stdout",
     "output_type": "stream",
     "text": [
      "0으로 나눌 수 없습니다\n"
     ]
    }
   ],
   "source": [
    "try :\n",
    "    print(no1 / no2)\n",
    "except ZeroDivisionError :\n",
    "    print('0으로 나눌 수 없습니다')"
   ]
  },
  {
   "cell_type": "code",
   "execution_count": 5,
   "id": "4e1a72ca",
   "metadata": {},
   "outputs": [
    {
     "name": "stdout",
     "output_type": "stream",
     "text": [
      "예외 상황이 발생했습니다\n"
     ]
    }
   ],
   "source": [
    "#예외처리 예제 4\n",
    "try :\n",
    "    print(no1 / no2)\n",
    "except( ValueError , ZeroDivisionError) :\n",
    "    print('예외 상황이 발생했습니다')"
   ]
  },
  {
   "cell_type": "code",
   "execution_count": 6,
   "id": "5764961a",
   "metadata": {},
   "outputs": [
    {
     "name": "stdout",
     "output_type": "stream",
     "text": [
      "0으로 나눌 수 없습니다\n"
     ]
    }
   ],
   "source": [
    "#예외처리 예제 5\n",
    "no1 = 10\n",
    "no2 = 0\n",
    "\n",
    "try :\n",
    "    print(no1 / no2)\n",
    "except ZeroDivisionError :\n",
    "    print('0으로 나눌 수 없습니다')\n",
    "except ValueError :\n",
    "    print('잘못된 값입니다')"
   ]
  },
  {
   "cell_type": "code",
   "execution_count": 7,
   "id": "8d07fcd7",
   "metadata": {},
   "outputs": [
    {
     "name": "stdout",
     "output_type": "stream",
     "text": [
      "예외가 발생했습니다\n"
     ]
    }
   ],
   "source": [
    "#예외처리 예제 6\n",
    "no1= 10\n",
    "no2 = 0\n",
    "\n",
    "try :\n",
    "    print(no1 / no2)\n",
    "except :\n",
    "    print('예외가 발생했습니다')"
   ]
  },
  {
   "cell_type": "code",
   "execution_count": 8,
   "id": "6f654908",
   "metadata": {},
   "outputs": [
    {
     "name": "stdout",
     "output_type": "stream",
     "text": [
      "숫자만 입력하세요:3\n",
      "입력하신 숫자는 3 입니다\n"
     ]
    }
   ],
   "source": [
    "#예외처리 예제 7\n",
    "try :\n",
    "    no=int(input('숫자만 입력하세요:'))\n",
    "except :\n",
    "    print('꼭 숫자만 입력하세요!!')\n",
    "else :\n",
    "    print('입력하신 숫자는 %s 입니다' %no)"
   ]
  },
  {
   "cell_type": "code",
   "execution_count": 1,
   "id": "ff86998f",
   "metadata": {},
   "outputs": [
    {
     "name": "stdout",
     "output_type": "stream",
     "text": [
      "숫자를 입력하세요4\n",
      "입력한 숫자는 4입니다\n",
      "finally는 무조건 실행됩니다\n"
     ]
    }
   ],
   "source": [
    "#예외처리 예제 - finally 사용하기\n",
    "try :\n",
    "    num = int(input('숫자를 입력하세요'))\n",
    "except ValueError :\n",
    "    print('숫자가 아닙니다')\n",
    "else :\n",
    "    print('입력한 숫자는 %s입니다' %num)\n",
    "finally :\n",
    "    print('finally는 무조건 실행됩니다')"
   ]
  },
  {
   "cell_type": "code",
   "execution_count": 2,
   "id": "a15b5b76",
   "metadata": {},
   "outputs": [
    {
     "name": "stdout",
     "output_type": "stream",
     "text": [
      "숫자를 입력하세요aaa\n",
      "숫자가 아닙니다\n",
      "finally는 무조건 실행됩니다\n"
     ]
    }
   ],
   "source": [
    "#예외처리 예제 - finally 사용하기\n",
    "try :\n",
    "    num = int(input('숫자를 입력하세요:'))\n",
    "except ValueError :\n",
    "    print('숫자가 아닙니다')\n",
    "else :\n",
    "    print('입력한 숫자는 %s입니다' %num)\n",
    "finally :\n",
    "    print('finally는 무조건 실행됩니다')"
   ]
  },
  {
   "cell_type": "code",
   "execution_count": 3,
   "id": "e68d68ae",
   "metadata": {},
   "outputs": [
    {
     "name": "stdout",
     "output_type": "stream",
     "text": [
      "숫자를 입력하세요:3\n",
      "0보다 큼\n"
     ]
    }
   ],
   "source": [
    "#예외처리 예제 - raise 로 직접 예외를 만들기\n",
    "try :\n",
    "    num = int(input('숫자를 입력하세요:'))\n",
    "    raise ValueError('0보다 작음','0임','0보다 큼')\n",
    "except ValueError as e :\n",
    "    if num < 0:\n",
    "        print(e.args[0])\n",
    "    elif num == 0 :\n",
    "        print(e.args[1])\n",
    "    else :\n",
    "        print(e.args[2])\n",
    "    "
   ]
  },
  {
   "cell_type": "code",
   "execution_count": 4,
   "id": "6de54f44",
   "metadata": {},
   "outputs": [
    {
     "name": "stdout",
     "output_type": "stream",
     "text": [
      "숫자를 입력하세요:0\n",
      "0임\n"
     ]
    }
   ],
   "source": [
    "#예외처리 예제 - raise 로 직접 예외를 만들기\n",
    "try :\n",
    "    num = int(input('숫자를 입력하세요:'))\n",
    "    raise ValueError('0보다 작음','0임','0보다 큼')\n",
    "except ValueError as e :\n",
    "    if num < 0:\n",
    "        print(e.args[0])\n",
    "    elif num == 0 :\n",
    "        print(e.args[1])\n",
    "    else :\n",
    "        print(e.args[2])\n",
    "    "
   ]
  },
  {
   "cell_type": "code",
   "execution_count": null,
   "id": "2cae5bcb",
   "metadata": {},
   "outputs": [],
   "source": [
    "#예외처리 예시 - 파일의 내용 출력\n",
    "\n",
    "f = open(\"c:\\\\data\\\\예외처리연습.txt\")\n",
    "txt = f.readlines()\n",
    "txt\n",
    "\n",
    "no = int(input(\" 몇 건을 출력할까요?: \"))\n",
    "print(\"\\n\")\n",
    "\n",
    "for i in range(0,no) :\n",
    "    try :\n",
    "        print(txt[i]) \n",
    "    except IndexError :\n",
    "        print(\"모든 행이 출력 완료되었습니다\")\n",
    "        break"
   ]
  },
  {
   "cell_type": "code",
   "execution_count": null,
   "id": "0d318f12",
   "metadata": {},
   "outputs": [],
   "source": [
    "# 예외처리 예시 - xlsx 파일의 내용 출력\n",
    "\n",
    "import pandas as pd \n",
    "\n",
    "data1 = pd.read_excel(\"c:\\\\temp\\\\score.xlsx\",sheet_name='Sheet1' )\n",
    "data2 = data1['score']\n",
    "data2\n",
    "\n",
    "data3 = 0\n",
    "for i in data2 :\n",
    "    data3 += i\n",
    "data3"
   ]
  },
  {
   "cell_type": "code",
   "execution_count": null,
   "id": "88277f6b",
   "metadata": {},
   "outputs": [],
   "source": [
    "data3=0\n",
    "for i in data2 :\n",
    "    try :\n",
    "        data3 += i \n",
    "    except TypeError :\n",
    "        continue\n",
    "        \n",
    "data3"
   ]
  }
 ],
 "metadata": {
  "kernelspec": {
   "display_name": "Python 3 (ipykernel)",
   "language": "python",
   "name": "python3"
  },
  "language_info": {
   "codemirror_mode": {
    "name": "ipython",
    "version": 3
   },
   "file_extension": ".py",
   "mimetype": "text/x-python",
   "name": "python",
   "nbconvert_exporter": "python",
   "pygments_lexer": "ipython3",
   "version": "3.7.5"
  }
 },
 "nbformat": 4,
 "nbformat_minor": 5
}
