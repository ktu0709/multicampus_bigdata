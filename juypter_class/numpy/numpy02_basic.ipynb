{
 "cells": [
  {
   "cell_type": "markdown",
   "id": "84cc4982",
   "metadata": {
    "id": "84cc4982"
   },
   "source": [
    "### 주피터 노트북 필수 단축키\n",
    "- shift + enter : 셀 실행 후 다음 셀로 이동\n",
    "- alt + enter : 셀 실행 후 다음에 셀을 추가\n",
    "- ctrl + '/' : 주석문 설정/해제\n",
    "- Tab : 들여 쓰기\n",
    "- shift + Tab : 들여 쓰기 해제\n",
    "\n"
   ]
  },
  {
   "cell_type": "markdown",
   "id": "72facab3",
   "metadata": {
    "id": "72facab3"
   },
   "source": [
    "### 파이썬 리스트(List)\n",
    ": 가변형(mutable), 시퀀스(str, list, tuple) =   [+ ,  * , 중첩대입 , 슬라이싱,인덱싱] , 가장 유용한 자료형, [ ] :대괄호, 중복 허용"
   ]
  },
  {
   "cell_type": "code",
   "execution_count": 1,
   "id": "9284e4df",
   "metadata": {
    "id": "9284e4df",
    "outputId": "d57f92d3-711e-4ddd-8514-21473f8f9bdf"
   },
   "outputs": [
    {
     "name": "stdout",
     "output_type": "stream",
     "text": [
      "[1, 2, 3, 4, 5, 6]\n",
      "<class 'list'>\n",
      "['a', 'hello', 1, 3.5, [1, 2, 3, 4, 5, 6], 3.5, 1]\n"
     ]
    }
   ],
   "source": [
    "a = [1,2,3,4,5,6]\n",
    "print(a)\n",
    "print(type(a))\n",
    "\n",
    "b = ['a','hello',1,3.5,a,3.5,1]\n",
    "print(b)"
   ]
  },
  {
   "cell_type": "code",
   "execution_count": 2,
   "id": "bb6678fb",
   "metadata": {
    "id": "bb6678fb",
    "outputId": "62bb0238-e7ff-4018-89ce-29a400ff90f7"
   },
   "outputs": [
    {
     "name": "stdout",
     "output_type": "stream",
     "text": [
      "1 2 3 4 5 6 6 5 2 1\n",
      "[10, 2, 3, 4, 5, 6]\n"
     ]
    }
   ],
   "source": [
    "# 인덱싱\n",
    "a = [1,2,3,4,5,6]\n",
    "print(a[0],a[1],a[2],a[3],a[4],a[5],a[-1],a[-2], a[True],a[False]) # True :1과 호환,False : 0과 호환\n",
    "\n",
    "a[0] = 10   # 가변형이므로 요소 변경이 가능하다\n",
    "print(a)"
   ]
  },
  {
   "cell_type": "code",
   "execution_count": 3,
   "id": "3a53b5eb",
   "metadata": {
    "id": "3a53b5eb",
    "outputId": "0032d752-8218-452d-aa6f-ecedc3542cdd"
   },
   "outputs": [
    {
     "name": "stdout",
     "output_type": "stream",
     "text": [
      "[1]\n",
      "[1, 2, 3]\n",
      "[3, 4, 5]\n",
      "[3, 4, 5, 6]\n",
      "[1, 2, 3, 4, 5, 6]\n",
      "[1, 4]\n",
      "[6, 5, 4, 3, 2, 1]\n"
     ]
    }
   ],
   "source": [
    "# 슬라이싱 : a[start:end + 1:step]\n",
    "a = [1,2,3,4,5,6]\n",
    "print(a[0:1])  # from index 0 to index 2\n",
    "print(a[:3])   # 시작 인덱스 생략가능\n",
    "print(a[2:5])  # from index 2 to index 4\n",
    "print(a[2:])   # 끝 인덱스 생략가능\n",
    "print(a[:])    # print(a) 와 동일\n",
    "\n",
    "print(a[::3])  # step을 3으로\n",
    "print(a[::-1]) # 요소의 순서를 거꾸로 변경한다"
   ]
  },
  {
   "cell_type": "markdown",
   "id": "0d563b95",
   "metadata": {
    "id": "0d563b95"
   },
   "source": [
    "### 넘파이(NumPy) : 배열(ndarray, n dimension array)\n",
    "* 리스트(list) : Linked List구조(불연속), 동작 속도가 느리다, comma로 요소구별, 서로 다른 자료형 사용가능\n",
    "* 배열(ndarray) : 연속된 메모리 구조, 동작 속도가 빠르다, comma를 사용하지 않고 공백으로 요소 구별,오직 한 가지 타입만 갖을 수 있다"
   ]
  },
  {
   "cell_type": "code",
   "execution_count": 4,
   "id": "e4736bae",
   "metadata": {
    "id": "e4736bae",
    "outputId": "edda1a95-3270-4758-f742-21f8b7219548"
   },
   "outputs": [
    {
     "name": "stdout",
     "output_type": "stream",
     "text": [
      "[0 1 2 3 4 5]\n",
      "<class 'numpy.ndarray'>\n",
      "int32\n",
      "===> [0 1 2 3 4 5]\n",
      "[0 1 2 3 4 5]\n",
      "[1 3 5]\n",
      "[2 4 6]\n",
      "[ True  True  True]\n"
     ]
    }
   ],
   "source": [
    "# ! pip install numpy\n",
    "# https://scipy.org\n",
    "import numpy as np\n",
    "\n",
    "a = np.array([0,1,2,3,4,5])\n",
    "print(a)\n",
    "print(type(a))  # <class 'numpy.ndarray'>\n",
    "print(a.dtype)  # int32\n",
    "\n",
    "a= np.array([0,1,2,3,4,5],dtype = np.int32)\n",
    "print(\"===>\",a)\n",
    "b=a\n",
    "print(b)\n",
    "\n",
    "x= np.array([(1,2,100),(3,4,200),(5,6,300)],dtype=[('a','<i4'),('b','<i4'),('c','<b1')])\n",
    "print(x['a'])\n",
    "print(x['b'])\n",
    "print(x['c'])"
   ]
  },
  {
   "cell_type": "code",
   "execution_count": 5,
   "id": "2c9d4924",
   "metadata": {},
   "outputs": [
    {
     "name": "stdout",
     "output_type": "stream",
     "text": [
      "Help on built-in function array in module numpy:\n",
      "\n",
      "array(...)\n",
      "    array(object, dtype=None, *, copy=True, order='K', subok=False, ndmin=0,\n",
      "          like=None)\n",
      "    \n",
      "    Create an array.\n",
      "    \n",
      "    Parameters\n",
      "    ----------\n",
      "    object : array_like\n",
      "        An array, any object exposing the array interface, an object whose\n",
      "        __array__ method returns an array, or any (nested) sequence.\n",
      "        If object is a scalar, a 0-dimensional array containing object is\n",
      "        returned.\n",
      "    dtype : data-type, optional\n",
      "        The desired data-type for the array.  If not given, then the type will\n",
      "        be determined as the minimum type required to hold the objects in the\n",
      "        sequence.\n",
      "    copy : bool, optional\n",
      "        If true (default), then the object is copied.  Otherwise, a copy will\n",
      "        only be made if __array__ returns a copy, if obj is a nested sequence,\n",
      "        or if a copy is needed to satisfy any of the other requirements\n",
      "        (`dtype`, `order`, etc.).\n",
      "    order : {'K', 'A', 'C', 'F'}, optional\n",
      "        Specify the memory layout of the array. If object is not an array, the\n",
      "        newly created array will be in C order (row major) unless 'F' is\n",
      "        specified, in which case it will be in Fortran order (column major).\n",
      "        If object is an array the following holds.\n",
      "    \n",
      "        ===== ========= ===================================================\n",
      "        order  no copy                     copy=True\n",
      "        ===== ========= ===================================================\n",
      "        'K'   unchanged F & C order preserved, otherwise most similar order\n",
      "        'A'   unchanged F order if input is F and not C, otherwise C order\n",
      "        'C'   C order   C order\n",
      "        'F'   F order   F order\n",
      "        ===== ========= ===================================================\n",
      "    \n",
      "        When ``copy=False`` and a copy is made for other reasons, the result is\n",
      "        the same as if ``copy=True``, with some exceptions for 'A', see the\n",
      "        Notes section. The default order is 'K'.\n",
      "    subok : bool, optional\n",
      "        If True, then sub-classes will be passed-through, otherwise\n",
      "        the returned array will be forced to be a base-class array (default).\n",
      "    ndmin : int, optional\n",
      "        Specifies the minimum number of dimensions that the resulting\n",
      "        array should have.  Ones will be prepended to the shape as\n",
      "        needed to meet this requirement.\n",
      "    like : array_like, optional\n",
      "        Reference object to allow the creation of arrays which are not\n",
      "        NumPy arrays. If an array-like passed in as ``like`` supports\n",
      "        the ``__array_function__`` protocol, the result will be defined\n",
      "        by it. In this case, it ensures the creation of an array object\n",
      "        compatible with that passed in via this argument.\n",
      "    \n",
      "        .. versionadded:: 1.20.0\n",
      "    \n",
      "    Returns\n",
      "    -------\n",
      "    out : ndarray\n",
      "        An array object satisfying the specified requirements.\n",
      "    \n",
      "    See Also\n",
      "    --------\n",
      "    empty_like : Return an empty array with shape and type of input.\n",
      "    ones_like : Return an array of ones with shape and type of input.\n",
      "    zeros_like : Return an array of zeros with shape and type of input.\n",
      "    full_like : Return a new array with shape of input filled with value.\n",
      "    empty : Return a new uninitialized array.\n",
      "    ones : Return a new array setting values to one.\n",
      "    zeros : Return a new array setting values to zero.\n",
      "    full : Return a new array of given shape filled with value.\n",
      "    \n",
      "    \n",
      "    Notes\n",
      "    -----\n",
      "    When order is 'A' and `object` is an array in neither 'C' nor 'F' order,\n",
      "    and a copy is forced by a change in dtype, then the order of the result is\n",
      "    not necessarily 'C' as expected. This is likely a bug.\n",
      "    \n",
      "    Examples\n",
      "    --------\n",
      "    >>> np.array([1, 2, 3])\n",
      "    array([1, 2, 3])\n",
      "    \n",
      "    Upcasting:\n",
      "    \n",
      "    >>> np.array([1, 2, 3.0])\n",
      "    array([ 1.,  2.,  3.])\n",
      "    \n",
      "    More than one dimension:\n",
      "    \n",
      "    >>> np.array([[1, 2], [3, 4]])\n",
      "    array([[1, 2],\n",
      "           [3, 4]])\n",
      "    \n",
      "    Minimum dimensions 2:\n",
      "    \n",
      "    >>> np.array([1, 2, 3], ndmin=2)\n",
      "    array([[1, 2, 3]])\n",
      "    \n",
      "    Type provided:\n",
      "    \n",
      "    >>> np.array([1, 2, 3], dtype=complex)\n",
      "    array([ 1.+0.j,  2.+0.j,  3.+0.j])\n",
      "    \n",
      "    Data-type consisting of more than one element:\n",
      "    \n",
      "    >>> x = np.array([(1,2),(3,4)],dtype=[('a','<i4'),('b','<i4')])\n",
      "    >>> x['a']\n",
      "    array([1, 3])\n",
      "    \n",
      "    Creating an array from sub-classes:\n",
      "    \n",
      "    >>> np.array(np.mat('1 2; 3 4'))\n",
      "    array([[1, 2],\n",
      "           [3, 4]])\n",
      "    \n",
      "    >>> np.array(np.mat('1 2; 3 4'), subok=True)\n",
      "    matrix([[1, 2],\n",
      "            [3, 4]])\n",
      "\n"
     ]
    }
   ],
   "source": [
    "help(np.array)"
   ]
  },
  {
   "cell_type": "code",
   "execution_count": 6,
   "id": "c9b7fe24",
   "metadata": {
    "id": "c9b7fe24",
    "outputId": "e366fbab-4da1-48d5-fc47-de22815a5f2c"
   },
   "outputs": [
    {
     "data": {
      "text/plain": [
       "dict_keys(['?', 0, 'byte', 'b', 1, 'ubyte', 'B', 2, 'short', 'h', 3, 'ushort', 'H', 4, 'i', 5, 'uint', 'I', 6, 'intp', 'p', 9, 'uintp', 'P', 10, 'long', 'l', 7, 'ulong', 'L', 8, 'longlong', 'q', 'ulonglong', 'Q', 'half', 'e', 23, 'f', 11, 'double', 'd', 12, 'longdouble', 'g', 13, 'cfloat', 'F', 14, 'cdouble', 'D', 15, 'clongdouble', 'G', 16, 'O', 17, 'S', 18, 'unicode', 'U', 19, 'void', 'V', 20, 'M', 21, 'm', 22, 'b1', 'bool8', 'i8', 'int64', 'u8', 'uint64', 'f2', 'float16', 'f4', 'float32', 'f8', 'float64', 'c8', 'complex64', 'c16', 'complex128', 'object0', 'bytes0', 'str0', 'void0', 'M8', 'datetime64', 'm8', 'timedelta64', 'int32', 'i4', 'uint32', 'u4', 'int16', 'i2', 'uint16', 'u2', 'int8', 'i1', 'uint8', 'u1', 'complex_', 'single', 'csingle', 'singlecomplex', 'float_', 'intc', 'uintc', 'int_', 'longfloat', 'clongfloat', 'longcomplex', 'bool_', 'bytes_', 'string_', 'str_', 'unicode_', 'object_', 'int', 'float', 'complex', 'bool', 'object', 'str', 'bytes', 'a', 'int0', 'uint0'])"
      ]
     },
     "execution_count": 6,
     "metadata": {},
     "output_type": "execute_result"
    }
   ],
   "source": [
    "# numpy 의 dtype 객체의 종류: 대소문자 모두 사용가능\n",
    "np.sctypeDict.keys()"
   ]
  },
  {
   "cell_type": "code",
   "execution_count": 7,
   "id": "3a2f11be",
   "metadata": {},
   "outputs": [
    {
     "data": {
      "text/plain": [
       "dict_items([('?', <class 'numpy.bool_'>), (0, <class 'numpy.bool_'>), ('byte', <class 'numpy.int8'>), ('b', <class 'numpy.int8'>), (1, <class 'numpy.int8'>), ('ubyte', <class 'numpy.uint8'>), ('B', <class 'numpy.uint8'>), (2, <class 'numpy.uint8'>), ('short', <class 'numpy.int16'>), ('h', <class 'numpy.int16'>), (3, <class 'numpy.int16'>), ('ushort', <class 'numpy.uint16'>), ('H', <class 'numpy.uint16'>), (4, <class 'numpy.uint16'>), ('i', <class 'numpy.intc'>), (5, <class 'numpy.intc'>), ('uint', <class 'numpy.uint32'>), ('I', <class 'numpy.uintc'>), (6, <class 'numpy.uintc'>), ('intp', <class 'numpy.int64'>), ('p', <class 'numpy.int64'>), (9, <class 'numpy.int64'>), ('uintp', <class 'numpy.uint64'>), ('P', <class 'numpy.uint64'>), (10, <class 'numpy.uint64'>), ('long', <class 'numpy.int32'>), ('l', <class 'numpy.int32'>), (7, <class 'numpy.int32'>), ('ulong', <class 'numpy.uint32'>), ('L', <class 'numpy.uint32'>), (8, <class 'numpy.uint32'>), ('longlong', <class 'numpy.int64'>), ('q', <class 'numpy.int64'>), ('ulonglong', <class 'numpy.uint64'>), ('Q', <class 'numpy.uint64'>), ('half', <class 'numpy.float16'>), ('e', <class 'numpy.float16'>), (23, <class 'numpy.float16'>), ('f', <class 'numpy.float32'>), (11, <class 'numpy.float32'>), ('double', <class 'numpy.float64'>), ('d', <class 'numpy.float64'>), (12, <class 'numpy.float64'>), ('longdouble', <class 'numpy.longdouble'>), ('g', <class 'numpy.longdouble'>), (13, <class 'numpy.longdouble'>), ('cfloat', <class 'numpy.complex128'>), ('F', <class 'numpy.complex64'>), (14, <class 'numpy.complex64'>), ('cdouble', <class 'numpy.complex128'>), ('D', <class 'numpy.complex128'>), (15, <class 'numpy.complex128'>), ('clongdouble', <class 'numpy.clongdouble'>), ('G', <class 'numpy.clongdouble'>), (16, <class 'numpy.clongdouble'>), ('O', <class 'numpy.object_'>), (17, <class 'numpy.object_'>), ('S', <class 'numpy.bytes_'>), (18, <class 'numpy.bytes_'>), ('unicode', <class 'numpy.str_'>), ('U', <class 'numpy.str_'>), (19, <class 'numpy.str_'>), ('void', <class 'numpy.void'>), ('V', <class 'numpy.void'>), (20, <class 'numpy.void'>), ('M', <class 'numpy.datetime64'>), (21, <class 'numpy.datetime64'>), ('m', <class 'numpy.timedelta64'>), (22, <class 'numpy.timedelta64'>), ('b1', <class 'numpy.bool_'>), ('bool8', <class 'numpy.bool_'>), ('i8', <class 'numpy.int64'>), ('int64', <class 'numpy.int64'>), ('u8', <class 'numpy.uint64'>), ('uint64', <class 'numpy.uint64'>), ('f2', <class 'numpy.float16'>), ('float16', <class 'numpy.float16'>), ('f4', <class 'numpy.float32'>), ('float32', <class 'numpy.float32'>), ('f8', <class 'numpy.float64'>), ('float64', <class 'numpy.float64'>), ('c8', <class 'numpy.complex64'>), ('complex64', <class 'numpy.complex64'>), ('c16', <class 'numpy.complex128'>), ('complex128', <class 'numpy.complex128'>), ('object0', <class 'numpy.object_'>), ('bytes0', <class 'numpy.bytes_'>), ('str0', <class 'numpy.str_'>), ('void0', <class 'numpy.void'>), ('M8', <class 'numpy.datetime64'>), ('datetime64', <class 'numpy.datetime64'>), ('m8', <class 'numpy.timedelta64'>), ('timedelta64', <class 'numpy.timedelta64'>), ('int32', <class 'numpy.int32'>), ('i4', <class 'numpy.int32'>), ('uint32', <class 'numpy.uint32'>), ('u4', <class 'numpy.uint32'>), ('int16', <class 'numpy.int16'>), ('i2', <class 'numpy.int16'>), ('uint16', <class 'numpy.uint16'>), ('u2', <class 'numpy.uint16'>), ('int8', <class 'numpy.int8'>), ('i1', <class 'numpy.int8'>), ('uint8', <class 'numpy.uint8'>), ('u1', <class 'numpy.uint8'>), ('complex_', <class 'numpy.complex128'>), ('single', <class 'numpy.float32'>), ('csingle', <class 'numpy.complex64'>), ('singlecomplex', <class 'numpy.complex64'>), ('float_', <class 'numpy.float64'>), ('intc', <class 'numpy.intc'>), ('uintc', <class 'numpy.uintc'>), ('int_', <class 'numpy.int32'>), ('longfloat', <class 'numpy.longdouble'>), ('clongfloat', <class 'numpy.clongdouble'>), ('longcomplex', <class 'numpy.clongdouble'>), ('bool_', <class 'numpy.bool_'>), ('bytes_', <class 'numpy.bytes_'>), ('string_', <class 'numpy.bytes_'>), ('str_', <class 'numpy.str_'>), ('unicode_', <class 'numpy.str_'>), ('object_', <class 'numpy.object_'>), ('int', <class 'numpy.int32'>), ('float', <class 'numpy.float64'>), ('complex', <class 'numpy.complex128'>), ('bool', <class 'numpy.bool_'>), ('object', <class 'numpy.object_'>), ('str', <class 'numpy.str_'>), ('bytes', <class 'numpy.bytes_'>), ('a', <class 'numpy.bytes_'>), ('int0', <class 'numpy.int64'>), ('uint0', <class 'numpy.uint64'>)])"
      ]
     },
     "execution_count": 7,
     "metadata": {},
     "output_type": "execute_result"
    }
   ],
   "source": [
    "np.sctypeDict.items()"
   ]
  },
  {
   "cell_type": "code",
   "execution_count": 8,
   "id": "9108d502",
   "metadata": {
    "id": "9108d502",
    "outputId": "4b7ac9a9-1083-47ea-8f13-6cd8793ea265"
   },
   "outputs": [
    {
     "name": "stdout",
     "output_type": "stream",
     "text": [
      "[0 1 2 3 4 5 6 7 8 9]\n",
      "<class 'numpy.ndarray'>\n"
     ]
    }
   ],
   "source": [
    "# np.arange(start,end-1,step)\n",
    "a = np.arange(10)# 0~ 9\n",
    "print(a)\n",
    "print(type(a))"
   ]
  },
  {
   "cell_type": "markdown",
   "id": "92b5392a",
   "metadata": {
    "id": "92b5392a"
   },
   "source": [
    "### 차원(dimension, Rank) 과 Shape\n",
    "* 차원(Dimension, Rank) : 1,2,3 차원 , n 차원, 첫 데이터까지의 대괄호의 갯수\n",
    "* Shape : 차원의 요소의 수, 튜플 형식\n",
    "#### 1차원 Shape : (x,)\n",
    "#### 2차원 Shape : (x,y)  , 행렬(matrix)\n",
    "#### 3차원 Shape : (x,y,z) , (면,행,열)\n",
    "...\n",
    "#### n차원 Shape : (x,y,z,....)"
   ]
  },
  {
   "cell_type": "code",
   "execution_count": 9,
   "id": "ea73f488",
   "metadata": {
    "id": "ea73f488",
    "outputId": "85aad808-ab77-443d-bbdf-7b1dc45c3fba"
   },
   "outputs": [
    {
     "name": "stdout",
     "output_type": "stream",
     "text": [
      "[ 0  1  2  3  4  5  6  7  8  9 10 11] <class 'numpy.ndarray'>\n",
      "(12,)\n",
      "<class 'tuple'>\n",
      "12\n"
     ]
    }
   ],
   "source": [
    "# 1차원의 배열의 Shape\n",
    "a = np.arange(12)\n",
    "print(a,type(a))\n",
    "print(a.shape)  # (12,)  ----> 1차원\n",
    "t = a.shape\n",
    "print(type(t))\n",
    "print((a.shape)[0])"
   ]
  },
  {
   "cell_type": "code",
   "execution_count": 10,
   "id": "7dc28d11",
   "metadata": {
    "id": "7dc28d11",
    "outputId": "9566d459-9d8e-4781-f291-65d1bcfd9215"
   },
   "outputs": [
    {
     "name": "stdout",
     "output_type": "stream",
     "text": [
      "[[0 1 2]\n",
      " [0 1 2]]\n",
      "(2, 3)\n",
      "2 3\n"
     ]
    }
   ],
   "source": [
    "# 2차원 배열의 Shape : 행(row,가로,수직,axis = 0) 과 열(column,세로,수평,axis =1)  ==> 필수 암기\n",
    "m = np.array([[0,1,2],\n",
    "              [0,1,2]])\n",
    "print(m)\n",
    "print(m.shape)   # (2,3)  --> 2차원 , 행렬(matrix)\n",
    "print(m.shape[0], m.shape[1])"
   ]
  },
  {
   "cell_type": "code",
   "execution_count": 11,
   "id": "79401e35",
   "metadata": {
    "id": "79401e35",
    "outputId": "6c729af1-d043-415f-f6c6-7fb283df007e"
   },
   "outputs": [
    {
     "name": "stdout",
     "output_type": "stream",
     "text": [
      "[[[0 1 2]\n",
      "  [3 4 5]]\n",
      "\n",
      " [[0 1 2]\n",
      "  [3 4 5]]]\n",
      "(2, 2, 3)\n",
      "2 2 3\n"
     ]
    }
   ],
   "source": [
    "# 3차원 배열의 Shape : (면,행,열)\n",
    "m = np.array([[[0,1,2],\n",
    "               [3,4,5]],\n",
    "              [[0,1,2],\n",
    "               [3,4,5]]])\n",
    "print(m)\n",
    "print(m.shape)  # (2,2,3) ---> 3차원\n",
    "print(m.shape[0],m.shape[1],m.shape[2])"
   ]
  },
  {
   "cell_type": "markdown",
   "id": "0c7f1a74",
   "metadata": {
    "id": "0c7f1a74"
   },
   "source": [
    "### 배열의 shape 바꾸기 : reshape() 함수"
   ]
  },
  {
   "cell_type": "code",
   "execution_count": 12,
   "id": "bf17afc5",
   "metadata": {
    "id": "bf17afc5",
    "outputId": "e4bf5d47-bfca-41c6-dd3c-314ff213a3b5",
    "scrolled": false
   },
   "outputs": [
    {
     "name": "stdout",
     "output_type": "stream",
     "text": [
      "[ 0  1  2  3  4  5  6  7  8  9 10 11]\n",
      "(12,)\n",
      "[[ 0  1  2  3]\n",
      " [ 4  5  6  7]\n",
      " [ 8  9 10 11]] (3, 4)\n",
      "[[ 0  1  2]\n",
      " [ 3  4  5]\n",
      " [ 6  7  8]\n",
      " [ 9 10 11]] (4, 3)\n",
      "[[ 0  1  2  3  4  5]\n",
      " [ 6  7  8  9 10 11]] (2, 6)\n",
      "[[ 0]\n",
      " [ 1]\n",
      " [ 2]\n",
      " [ 3]\n",
      " [ 4]\n",
      " [ 5]\n",
      " [ 6]\n",
      " [ 7]\n",
      " [ 8]\n",
      " [ 9]\n",
      " [10]\n",
      " [11]] (12, 1)\n",
      "[[ 0  1  2  3  4  5  6  7  8  9 10 11]] (1, 12)\n"
     ]
    }
   ],
   "source": [
    "m1 = np.arange(12)\n",
    "print(m1)\n",
    "print(m1.shape)  # (12,)\n",
    "\n",
    "m2 = m1.reshape(3,4)\n",
    "print(m2,m2.shape)  # (3, 4)\n",
    "\n",
    "m2 = m1.reshape(4,3)\n",
    "print(m2,m2.shape)  # (4, 3)\n",
    "\n",
    "m2 = m1.reshape(2,6)\n",
    "print(m2,m2.shape)  # (2, 6)\n",
    "\n",
    "m2 = m1.reshape(12,1)\n",
    "print(m2,m2.shape)  # (12, 1)\n",
    "\n",
    "m2 = m1.reshape(1,12)\n",
    "print(m2,m2.shape)  # (12, 1)"
   ]
  },
  {
   "cell_type": "code",
   "execution_count": 13,
   "id": "570e93ca",
   "metadata": {
    "id": "570e93ca",
    "outputId": "1704ea69-33a4-4666-e755-143a214ca465"
   },
   "outputs": [
    {
     "name": "stdout",
     "output_type": "stream",
     "text": [
      "[[[ 0  1  2]\n",
      "  [ 3  4  5]]\n",
      "\n",
      " [[ 6  7  8]\n",
      "  [ 9 10 11]]] (2, 2, 3)\n"
     ]
    }
   ],
   "source": [
    "m3 = m1.reshape(2,2,3)\n",
    "print(m3,m3.shape)"
   ]
  },
  {
   "cell_type": "code",
   "execution_count": 14,
   "id": "e8e9ed8f",
   "metadata": {
    "id": "e8e9ed8f",
    "outputId": "e08dc1e4-cb98-4143-a5e5-c8faa14671f0"
   },
   "outputs": [
    {
     "name": "stdout",
     "output_type": "stream",
     "text": [
      "[[[[ 0  1]]\n",
      "\n",
      "  [[ 2  3]]]\n",
      "\n",
      "\n",
      " [[[ 4  5]]\n",
      "\n",
      "  [[ 6  7]]]\n",
      "\n",
      "\n",
      " [[[ 8  9]]\n",
      "\n",
      "  [[10 11]]]] (3, 2, 1, 2)\n"
     ]
    }
   ],
   "source": [
    "m4 = m1.reshape(3,2,1,2)\n",
    "print(m4,m4.shape)"
   ]
  },
  {
   "cell_type": "code",
   "execution_count": 15,
   "id": "842fb1bf",
   "metadata": {
    "id": "842fb1bf",
    "outputId": "74dbdf0f-811b-4e8a-f300-e3e66dec7e70"
   },
   "outputs": [
    {
     "name": "stdout",
     "output_type": "stream",
     "text": [
      "[ 0  1  2  3  4  5  6  7  8  9 10 11]\n",
      "(12,)\n",
      "[[ 0  1  2  3  4  5]\n",
      " [ 6  7  8  9 10 11]] (2, 6)\n",
      "[[ 0  1  2]\n",
      " [ 3  4  5]\n",
      " [ 6  7  8]\n",
      " [ 9 10 11]] (4, 3)\n"
     ]
    }
   ],
   "source": [
    "# -1 을 사용한 reshape  : 요소수를 자동으로 계산\n",
    "m1 = np.arange(12)\n",
    "print(m1)\n",
    "print(m1.shape)  # (12,)\n",
    "\n",
    "m2 = m1.reshape(-1,6)  # 행의 요소수를 자동으로 계산, 2\n",
    "print(m2,m2.shape)\n",
    "\n",
    "m2 = m1.reshape(4,-1)  # 열의 요소수를 자동으로 계산, 3\n",
    "print(m2,m2.shape)"
   ]
  },
  {
   "cell_type": "markdown",
   "id": "d990a244",
   "metadata": {
    "id": "d990a244"
   },
   "source": [
    "### 배열의 인덱싱과 슬라이싱"
   ]
  },
  {
   "cell_type": "code",
   "execution_count": 16,
   "id": "ba113bb9",
   "metadata": {
    "id": "ba113bb9",
    "outputId": "e65d542a-824b-42dd-80f5-38dfcfa0b26b"
   },
   "outputs": [
    {
     "name": "stdout",
     "output_type": "stream",
     "text": [
      "[ 0  1  2  3  4  5  6  7  8  9 10 11] (12,)\n",
      "0 1 2 3 11\n",
      "[2 3 4 5 6 7] [ 0  1  2  3  4  5  6  7  8  9 10 11] [ 0  1  2  3  4  5  6  7  8  9 10]\n",
      "[ 0  2  4  6  8 10] [11 10  9  8  7  6  5  4  3  2  1  0]\n",
      "[10  1  2  3  4  5  6  7  8  9 10 11]\n"
     ]
    }
   ],
   "source": [
    "# 1차원 배열의 인덱싱과 슬라이싱 : list 와 동일한 방법\n",
    "d = np.arange(12)\n",
    "print(d,d.shape)  # (12,)\n",
    "\n",
    "print(d[0],d[1],d[2],d[3],d[-1])\n",
    "\n",
    "print(d[2:8],d[:],d[:-1])\n",
    "print(d[::2], d[::-1])   # step을 -1로 하면 요소의 순서를 거꾸로 변경한다\n",
    "\n",
    "d[0] = 10   # list 처럼 요소 변경이 가능\n",
    "print(d)"
   ]
  },
  {
   "cell_type": "code",
   "execution_count": 17,
   "id": "09ab83a1",
   "metadata": {
    "id": "09ab83a1",
    "outputId": "dad317b5-d6b5-471a-b1b2-24a29607af0e"
   },
   "outputs": [
    {
     "name": "stdout",
     "output_type": "stream",
     "text": [
      "[[ 0  1  2  3]\n",
      " [ 4  5  6  7]\n",
      " [ 8  9 10 11]] (3, 4)\n",
      "0\n",
      "0\n",
      "9\n",
      "[0 1 2 3]\n",
      "[0 1 2 3]\n",
      "[[ 0  1  2]\n",
      " [ 4  5  6]\n",
      " [ 8  9 10]]\n",
      "[[ 1  2  3]\n",
      " [ 5  6  7]\n",
      " [ 9 10 11]]\n",
      "[[ 0  2]\n",
      " [ 8 10]]\n",
      "[[20 20 20 20]\n",
      " [ 4  5  6  7]\n",
      " [ 8  9 10 11]]\n",
      "[[30 20 20 30]\n",
      " [ 4  5  6  7]\n",
      " [30  9 10 30]]\n",
      "[[-1 -1 -1 -1]\n",
      " [-1 -1 -1 -1]\n",
      " [-1 -1 -1 -1]]\n"
     ]
    }
   ],
   "source": [
    "# 2차원 배열의 인덱싱과 슬라이싱\n",
    "# data[행,열]\n",
    "d = np.arange(12).reshape(3,4)\n",
    "print(d,d.shape)\n",
    "\n",
    "# 인덱싱\n",
    "print(d[0][0])  # 0\n",
    "print(d[0,0])   # 0\n",
    "print(d[2,1])   # 9\n",
    "\n",
    "# 슬라이싱\n",
    "print(d[0])     # [0 1 2 3]\n",
    "print(d[0,:])   # [0 1 2 3]\n",
    "\n",
    "print(d[:,:-1])  # (3,3) , 마지막 열(컬럼)을 제외\n",
    "print(d[:,1:])   # (3,3) , 첫번째 열(컬럼)을 제외\n",
    "print(d[::2,::2])\n",
    "\n",
    "d[0] = 20   # 0번 행의 모든 요소를 20으로 변경\n",
    "print(d)\n",
    "\n",
    "d[::2,::3] = 30    # 슬라이싱 된 요소 전체를 한번에 변경할 수 있다\n",
    "print(d)\n",
    "\n",
    "d[:,:] = -1        # 전체 요소를 한번에 변경할 수 있다\n",
    "print(d)"
   ]
  },
  {
   "cell_type": "code",
   "execution_count": 18,
   "id": "2cfa7b8b",
   "metadata": {
    "id": "2cfa7b8b",
    "outputId": "e6b940c3-a953-4d73-efe7-90434e3661be"
   },
   "outputs": [
    {
     "name": "stdout",
     "output_type": "stream",
     "text": [
      "[[[ 0  1  2]\n",
      "  [ 3  4  5]]\n",
      "\n",
      " [[ 6  7  8]\n",
      "  [ 9 10 11]]] (2, 2, 3)\n",
      "0\n",
      "0\n",
      "5\n",
      "[[[0 1]]\n",
      "\n",
      " [[6 7]]]\n",
      "[[[ 4  5]]\n",
      "\n",
      " [[10 11]]]\n",
      "[ 5 11]\n",
      "[[ 2  5]\n",
      " [ 8 11]]\n"
     ]
    }
   ],
   "source": [
    "# 3차원 배열의 인덱싱과 슬라이싱\n",
    "# data[면,행,열]\n",
    "d = np.arange(12).reshape(2,2,3)\n",
    "print(d,d.shape)\n",
    "\n",
    "# 인덱싱\n",
    "print(d[0][0][0])  # 0 old style\n",
    "print(d[0,0,0])    # 0\n",
    "print(d[0,1,2])    # 5\n",
    "\n",
    "# 슬라이싱\n",
    "print(d[:,:-1,:-1])  # (2,1,2)\n",
    "print(d[:,1:,1:])    # (2,1,2)\n",
    "print(d[:,-1,-1])    # (2,)\n",
    "print(d[:,:,-1])     # (2,2)"
   ]
  },
  {
   "cell_type": "code",
   "execution_count": 19,
   "id": "efe436d7",
   "metadata": {
    "id": "efe436d7",
    "outputId": "e6a3d2e4-ddf0-45a1-e456-b959de999252"
   },
   "outputs": [
    {
     "name": "stdout",
     "output_type": "stream",
     "text": [
      "[ 0  1  2  3  4  5  6  7  8  9 10 11] (12,)\n",
      "0\n",
      "[0]\n"
     ]
    }
   ],
   "source": [
    "# 인덱싱 결과는 scalar\n",
    "# 슬라이싱 결과는 ndarray\n",
    "a = np.arange(12)\n",
    "print(a,a.shape)\n",
    "\n",
    "print(a[0])    # 0, scalar\n",
    "print(a[0:1])  # [0] , 배열(ndarray)"
   ]
  },
  {
   "cell_type": "markdown",
   "id": "4bf200ba",
   "metadata": {},
   "source": [
    "### exam) \n",
    "1) 1차원 배열: 1에서 10까지의 정수로 구성된 1차원 NumPy 배열을 생성하세요.   \n",
    "2) 2차원 배열: 3x3 크기의 2차원 배열을 생성하고, 모든 요소를 0으로 초기화하세요.  \n",
    "3) 3차원 배열: 2x3x4 크기의 3차원 배열을 생성하고, 모든 요소를 1로 초기화하세요.  \n",
    "4) 1차원 배열: 0에서 1까지의 균일한 간격으로 10개의 요소를 가진 1차원 배열을 생성하세요.  \n",
    "5) 2차원 배열: 4x4 크기의 2차원 배열을 생성하고, 주 대각선 요소는 1로, 나머지 요소는 0으로 초기화하세요.  \n",
    "6) 3차원 배열: 3x3x3 크기의 3차원 배열을 생성하고, 요소값은 0부터 차례대로 증가하도록 초기화하세요.  \n",
    "7) 1차원 배열: -1과 1 사이의 20개의 요소를 가진 1차원 배열을 생성하세요.  \n",
    "8) 2차원 배열: 5x5 크기의 2차원 배열을 생성하고, 각 행의 값은 1부터 5까지 증가하도록 초기화하세요.  \n",
    "9) 3차원 배열: 2x3x2 크기의 3차원 배열을 생성하고, 요소값은 무작위로 생성하세요.\n",
    "![넘파이cv](imageCV.jpg)"
   ]
  },
  {
   "cell_type": "code",
   "execution_count": 20,
   "id": "b7338ea0",
   "metadata": {},
   "outputs": [
    {
     "name": "stdout",
     "output_type": "stream",
     "text": [
      "[0 1 2 3 4 5 6 7 8 9]\n"
     ]
    }
   ],
   "source": [
    "#1)1차원 배열: 1에서 10까지의 정수로 구성된 1차원 NumPy 배열을 생성하세요.  \n",
    "import numpy as np\n",
    "a = np.arange(10)\n",
    "print(a)"
   ]
  },
  {
   "cell_type": "code",
   "execution_count": 21,
   "id": "0856ab8b",
   "metadata": {},
   "outputs": [
    {
     "name": "stdout",
     "output_type": "stream",
     "text": [
      "[ 1  2  3  4  5  6  7  8  9 10]\n"
     ]
    }
   ],
   "source": [
    "#파이썬\n",
    "import numpy as np\n",
    "a = [n for n in range(1,11)]\n",
    "b = np.array(a)\n",
    "print(b)\n",
    "\n"
   ]
  },
  {
   "cell_type": "code",
   "execution_count": 22,
   "id": "9e6b4d1e",
   "metadata": {},
   "outputs": [
    {
     "name": "stdout",
     "output_type": "stream",
     "text": [
      "[[0. 0. 0.]\n",
      " [0. 0. 0.]\n",
      " [0. 0. 0.]]\n"
     ]
    }
   ],
   "source": [
    "#2)2차원 배열: 3x3 크기의 2차원 배열을 생성하고, 모든 요소를 0으로 초기화하세요\n",
    "import numpy as np\n",
    "arr = np.zeros((3,3))\n",
    "print(arr)"
   ]
  },
  {
   "cell_type": "code",
   "execution_count": 23,
   "id": "123d9083",
   "metadata": {},
   "outputs": [
    {
     "name": "stdout",
     "output_type": "stream",
     "text": [
      "[[[1. 1. 1. 1.]\n",
      "  [1. 1. 1. 1.]\n",
      "  [1. 1. 1. 1.]]\n",
      "\n",
      " [[1. 1. 1. 1.]\n",
      "  [1. 1. 1. 1.]\n",
      "  [1. 1. 1. 1.]]]\n"
     ]
    }
   ],
   "source": [
    "#3)3차원 배열: 2x3x4 크기의 3차원 배열을 생성하고, 모든 요소를 1로 초기화하세요.\n",
    "import numpy as np\n",
    "arr = np.ones((2,3,4))\n",
    "print(arr)"
   ]
  },
  {
   "cell_type": "code",
   "execution_count": 24,
   "id": "fea67f64",
   "metadata": {},
   "outputs": [
    {
     "name": "stdout",
     "output_type": "stream",
     "text": [
      "[0.         0.11111111 0.22222222 0.33333333 0.44444444 0.55555556\n",
      " 0.66666667 0.77777778 0.88888889 1.        ]\n"
     ]
    }
   ],
   "source": [
    "#4)1차원 배열: 0에서 1까지의 균일한 간격으로 10개의 요소를 가진 1차원 배열을 생성하세요.\n",
    "import numpy as np\n",
    "arr = np.linspace(0,1,10)\n",
    "print(arr)"
   ]
  },
  {
   "cell_type": "code",
   "execution_count": 25,
   "id": "57a384ad",
   "metadata": {},
   "outputs": [
    {
     "data": {
      "image/png": "[encoded data removed]",
      "text/plain": [
       "<Figure size 640x480 with 1 Axes>"
      ]
     },
     "metadata": {},
     "output_type": "display_data"
    }
   ],
   "source": [
    "import matplotlib.pyplot as plt\n",
    "plt.plot(arr,color = 'blue')\n",
    "plt.show()"
   ]
  },
  {
   "cell_type": "code",
   "execution_count": 26,
   "id": "078c29e2",
   "metadata": {},
   "outputs": [
    {
     "name": "stdout",
     "output_type": "stream",
     "text": [
      "[[1. 0. 0. 0.]\n",
      " [0. 1. 0. 0.]\n",
      " [0. 0. 1. 0.]\n",
      " [0. 0. 0. 1.]]\n",
      "[[0. 0. 0. 1.]\n",
      " [0. 0. 1. 0.]\n",
      " [0. 1. 0. 0.]\n",
      " [1. 0. 0. 0.]]\n"
     ]
    }
   ],
   "source": [
    "#행렬 뒤집기\n",
    "import numpy as np\n",
    "arr = np.eye(4)\n",
    "print(arr)\n",
    "\n",
    "arb = np.flip(arr , axis=1) #좌우로 뒤집음\n",
    "print(arb)"
   ]
  },
  {
   "cell_type": "code",
   "execution_count": 27,
   "id": "e060ffed",
   "metadata": {},
   "outputs": [
    {
     "data": {
      "text/plain": [
       "True"
      ]
     },
     "execution_count": 27,
     "metadata": {},
     "output_type": "execute_result"
    }
   ],
   "source": [
    "# help(np.flip)\n",
    "A = np.random.randn(3,4,5)\n",
    "np.all(np.flip(A,2) == A[:,:,::-1,...])"
   ]
  },
  {
   "cell_type": "code",
   "execution_count": 28,
   "id": "44bd13d6",
   "metadata": {},
   "outputs": [
    {
     "data": {
      "text/plain": [
       "array([[[ 1,  2,  3,  4,  5],\n",
       "        [ 6,  7,  8,  9, 10],\n",
       "        [11, 12, 13, 14, 15],\n",
       "        [16, 17, 18, 19, 20]],\n",
       "\n",
       "       [[21, 22, 23, 24, 25],\n",
       "        [26, 27, 28, 29, 30],\n",
       "        [31, 32, 33, 34, 35],\n",
       "        [36, 37, 38, 39, 40]],\n",
       "\n",
       "       [[41, 42, 43, 44, 45],\n",
       "        [46, 47, 48, 49, 50],\n",
       "        [51, 52, 53, 54, 55],\n",
       "        [56, 57, 58, 59, 60]]])"
      ]
     },
     "execution_count": 28,
     "metadata": {},
     "output_type": "execute_result"
    }
   ],
   "source": [
    "#3차원 배열을 뒤집는 함수와 슬라이싱된 데이터가 같은지 유무를 확인\n",
    "A = np.arange(1,61).reshape(3,4,5)\n",
    "np.all(np.flip(A,2) == A[:,:,::-1,...])\n",
    "A"
   ]
  },
  {
   "cell_type": "code",
   "execution_count": 33,
   "id": "89af1675",
   "metadata": {},
   "outputs": [
    {
     "data": {
      "text/plain": [
       "array([[[ 5,  4,  3,  2,  1],\n",
       "        [10,  9,  8,  7,  6],\n",
       "        [15, 14, 13, 12, 11],\n",
       "        [20, 19, 18, 17, 16]],\n",
       "\n",
       "       [[25, 24, 23, 22, 21],\n",
       "        [30, 29, 28, 27, 26],\n",
       "        [35, 34, 33, 32, 31],\n",
       "        [40, 39, 38, 37, 36]],\n",
       "\n",
       "       [[45, 44, 43, 42, 41],\n",
       "        [50, 49, 48, 47, 46],\n",
       "        [55, 54, 53, 52, 51],\n",
       "        [60, 59, 58, 57, 56]]])"
      ]
     },
     "execution_count": 33,
     "metadata": {},
     "output_type": "execute_result"
    }
   ],
   "source": [
    "#np.flip(A,2) #세번째 차원을 좌우로 뒤집는 배열을 생성하자\n",
    "A[:,:,::-1,...]\n",
    "#np.all() #()안에 모든 결과의 요소가 동일한지 유무를 리턴"
   ]
  },
  {
   "cell_type": "code",
   "execution_count": 41,
   "id": "b616ee8c",
   "metadata": {},
   "outputs": [
    {
     "name": "stdout",
     "output_type": "stream",
     "text": [
      "[[1. 0. 0. 0.]\n",
      " [0. 1. 0. 0.]\n",
      " [0. 0. 1. 0.]\n",
      " [0. 0. 0. 1.]\n",
      " [0. 0. 0. 1.]\n",
      " [0. 0. 1. 0.]\n",
      " [0. 1. 0. 0.]\n",
      " [1. 0. 0. 0.]]\n"
     ]
    }
   ],
   "source": [
    "#5-1) v를 만든다\n",
    "import numpy as np\n",
    "arr = np.eye(4)\n",
    "#print(arr)\n",
    "\n",
    "arb = np.flip(arr , axis=1) #좌우로 뒤집음\n",
    "#print(arb)\n",
    "\n",
    "res = np.hstack((arr,arb))\n",
    "#res = np.vstack((arr,arb))\n",
    "print(res)"
   ]
  },
  {
   "cell_type": "code",
   "execution_count": 42,
   "id": "697a00d8",
   "metadata": {},
   "outputs": [
    {
     "name": "stdout",
     "output_type": "stream",
     "text": [
      "[[[ 0  1  2]\n",
      "  [ 3  4  5]\n",
      "  [ 6  7  8]]\n",
      "\n",
      " [[ 9 10 11]\n",
      "  [12 13 14]\n",
      "  [15 16 17]]\n",
      "\n",
      " [[18 19 20]\n",
      "  [21 22 23]\n",
      "  [24 25 26]]]\n"
     ]
    }
   ],
   "source": [
    "#3차원 배열: 3x3x3 크기의 3차원 배열을 생성하고, 요소값은 0부터 차례대로 증가하도록 초기화하세요.\n",
    "import numpy as np\n",
    "arr = np.arange(27).reshape(3,3,3)\n",
    "print(arr)\n"
   ]
  },
  {
   "cell_type": "code",
   "execution_count": 43,
   "id": "348533b4",
   "metadata": {},
   "outputs": [
    {
     "name": "stdout",
     "output_type": "stream",
     "text": [
      "[-1.         -0.89473684 -0.78947368 -0.68421053 -0.57894737 -0.47368421\n",
      " -0.36842105 -0.26315789 -0.15789474 -0.05263158  0.05263158  0.15789474\n",
      "  0.26315789  0.36842105  0.47368421  0.57894737  0.68421053  0.78947368\n",
      "  0.89473684  1.        ]\n"
     ]
    }
   ],
   "source": [
    "#7)1차원 배열: -1과 1 사이의 20개의 요소를 가진 1차원 배열을 생성하세요\n",
    "import numpy as np\n",
    "arr = np.linspace(-1,1,20)\n",
    "print(arr)"
   ]
  },
  {
   "cell_type": "code",
   "execution_count": 45,
   "id": "c1c76ce2",
   "metadata": {},
   "outputs": [
    {
     "name": "stdout",
     "output_type": "stream",
     "text": [
      "[[1 2 3 4 5]\n",
      " [1 2 3 4 5]\n",
      " [1 2 3 4 5]\n",
      " [1 2 3 4 5]\n",
      " [1 2 3 4 5]]\n"
     ]
    }
   ],
   "source": [
    "#8)2차원 배열: 5x5 크기의 2차원 배열을 생성하고, 각 행의 값은 1부터 5까지 증가하도록 초기화하세요.\n",
    "import numpy as np\n",
    "arr = np.tile(np.arange(1,6),(5,1))\n",
    "print(arr)"
   ]
  },
  {
   "cell_type": "code",
   "execution_count": 46,
   "id": "d6f6bf87",
   "metadata": {},
   "outputs": [
    {
     "name": "stdout",
     "output_type": "stream",
     "text": [
      "[[[0.56439439 0.95696191]\n",
      "  [0.10068928 0.36739113]\n",
      "  [0.67118106 0.18856151]]\n",
      "\n",
      " [[0.63637839 0.13120947]\n",
      "  [0.68913819 0.70993949]\n",
      "  [0.91120691 0.93436475]]]\n"
     ]
    }
   ],
   "source": [
    "#9)3차원 배열: 2x3x2 크기의 3차원 배열을 생성하고, 요소값은 무작위로 생성하세요.\n",
    "import numpy as np\n",
    "arr = np.random.rand(2,3,2)\n",
    "print(arr)"
   ]
  },
  {
   "cell_type": "code",
   "execution_count": 47,
   "id": "4eda5277",
   "metadata": {},
   "outputs": [
    {
     "name": "stdout",
     "output_type": "stream",
     "text": [
      "[[0. 1. 0. 1. 0. 1. 0. 1.]\n",
      " [1. 0. 1. 0. 1. 0. 1. 0.]\n",
      " [0. 1. 0. 1. 0. 1. 0. 1.]\n",
      " [1. 0. 1. 0. 1. 0. 1. 0.]\n",
      " [0. 1. 0. 1. 0. 1. 0. 1.]\n",
      " [1. 0. 1. 0. 1. 0. 1. 0.]\n",
      " [0. 1. 0. 1. 0. 1. 0. 1.]\n",
      " [1. 0. 1. 0. 1. 0. 1. 0.]]\n"
     ]
    }
   ],
   "source": [
    "#10) 8*8을 만들어 흑백 0 1 반복한줄과 1 0 반복한줄로 데이터를 출력하세요\n",
    "arr = np.zeros((8,8))\n",
    "arr[1::2, ::2]= 1\n",
    "arr[::2, 1::2]= 1\n",
    "print(arr)"
   ]
  },
  {
   "cell_type": "code",
   "execution_count": 48,
   "id": "db9ae062",
   "metadata": {},
   "outputs": [
    {
     "name": "stdout",
     "output_type": "stream",
     "text": [
      "[1 2 3 1 2 3 1 2 3]\n"
     ]
    }
   ],
   "source": [
    "#np.tile(array, reps)\n",
    "a= np.array([1,2,3])\n",
    "res = np.tile(a,3)\n",
    "print(res)"
   ]
  },
  {
   "cell_type": "code",
   "execution_count": 53,
   "id": "4a9c5d70",
   "metadata": {},
   "outputs": [
    {
     "data": {
      "text/plain": [
       "array([[1, 2, 1, 2],\n",
       "       [3, 4, 3, 4],\n",
       "       [1, 2, 1, 2],\n",
       "       [3, 4, 3, 4]])"
      ]
     },
     "execution_count": 53,
     "metadata": {},
     "output_type": "execute_result"
    }
   ],
   "source": [
    "# 2차원 배열을 행과 열 방향으로 각각 2번씩 복제 하겠다\n",
    "ar = np.array([[1,2],[3,4]])\n",
    "res = np.tile(ar,(2,2))\n",
    "res"
   ]
  },
  {
   "cell_type": "markdown",
   "id": "10d93d06",
   "metadata": {
    "id": "10d93d06"
   },
   "source": [
    "### 불린 인덱싱 : 조건식을 사용한 인덱싱, 조건 검색 필터를 사용한 추출(매우 중요)"
   ]
  },
  {
   "cell_type": "code",
   "execution_count": 62,
   "id": "6b5c55b6",
   "metadata": {
    "id": "6b5c55b6",
    "outputId": "305518ac-62a2-4d99-8cec-6550086b219e"
   },
   "outputs": [
    {
     "name": "stdout",
     "output_type": "stream",
     "text": [
      "[1 2 3 4 5 6]\n",
      "[False False  True  True  True  True]\n",
      "[3 4 5 6]\n",
      "[11 12 13 14 15 16 17 18 19 20 21 22 23 24 25 26 27 28 29 30 31 32 33 34\n",
      " 35 36 37 38 39 40 41 42 43 44 45 46 47 48 49 50]\n",
      "[ True False  True False  True  True]\n",
      "[1 3 5 6]\n",
      "[1 2 4 5 6]\n",
      "[3 4 5]\n",
      "[2 4 6]\n",
      "[1 2 3]\n"
     ]
    },
    {
     "data": {
      "text/plain": [
       "3.5"
      ]
     },
     "execution_count": 62,
     "metadata": {},
     "output_type": "execute_result"
    }
   ],
   "source": [
    "a = np.array([1,2,3,4,5,6])\n",
    "print(a)\n",
    "\n",
    "print(a > 2)\n",
    "print(a[a > 2]) # 배열 a에서 2보다 큰 요소를 추출, 결과는 배열\n",
    "# print(a[[False, False,  True,  True,  True,  True]])\n",
    "\n",
    "\n",
    "#1에서 50까지 데이터를 만들고 10보다큰 데이터만 추출하자 \n",
    "b  = np.arange(1,51)\n",
    "print(b[b>10])\n",
    "\n",
    "boolean_index = np.array([True,False,True,False,True,True])\n",
    "print(boolean_index)\n",
    "print(a[boolean_index])\n",
    "\n",
    "print(a[a!=3])               # 배열 a에서 3이 아닌 요소를 추출\n",
    "print(a[(a > 2) & (a < 6)])  # 배열 a에서 2보다 크고 6보다 작은 요소를 추출\n",
    "print(a[a % 2 == 0])         # 2의 배수(짝수)를 추출\n",
    "print(a[a < a.mean()])       # 평균보다 작은 값을 추출\n",
    "a.mean()"
   ]
  },
  {
   "cell_type": "code",
   "execution_count": 82,
   "id": "a890f890",
   "metadata": {
    "id": "a890f890",
    "outputId": "f09c60e2-bb4a-4d4f-aba5-5be05f1e479d",
    "scrolled": false
   },
   "outputs": [
    {
     "name": "stdout",
     "output_type": "stream",
     "text": [
      "[[ 0  1  2  3]\n",
      " [ 4  5  6  7]\n",
      " [ 8  9 10 11]] (3, 4)\n",
      "[ 0  1  2  3  4  5  6  7  8  9 10 11] (12,)\n",
      "[[ 8  9 10 11]\n",
      " [ 4  5  6  7]\n",
      " [ 0  1  2  3]]\n",
      "[[ 3  2  1  0]\n",
      " [ 7  6  5  4]\n",
      " [11 10  9  8]]\n",
      "[[11 10  9  8]\n",
      " [ 7  6  5  4]\n",
      " [ 3  2  1  0]]\n",
      "--------------------\n",
      "[[ 0  4  8]\n",
      " [ 1  5  9]\n",
      " [ 2  6 10]\n",
      " [ 3  7 11]] (4, 3)\n",
      "[[ 0  4  8]\n",
      " [ 1  5  9]\n",
      " [ 2  6 10]\n",
      " [ 3  7 11]]\n",
      "[[0 0 0 0]\n",
      " [0 0 0 0]\n",
      " [0 0 0 0]]\n",
      "[[999 999 999 999]\n",
      " [999 999 999 999]\n",
      " [999 999 999 999]]\n"
     ]
    }
   ],
   "source": [
    "# 배열의 형상 다루기 : reshape(), flatten()(편평화),transpose()(전치)\n",
    "# flatten() : 다차원 배열을 1차원으로 만든다\n",
    "a = np.arange(12).reshape(3,4)\n",
    "print(a,a.shape)\n",
    "\n",
    "f = a.flatten()      # (3,4)  ----> (12,)\n",
    "print(f,f.shape)\n",
    "\n",
    "# 데이터 순서를 거꾸로 변경\n",
    "print(a[::-1])       # 행의 순서를 거꾸로 변경\n",
    "print(a[:,::-1])     # 열의 순서를 거꾸로 변경\n",
    "print(a[::-1,::-1])  # 행과 열의 순서를 거꾸로 변경\n",
    "print('-'*20)\n",
    "\n",
    "# transpose() : 전치 행렬 , 행과 열을 서로 맞바꾸는 함수\n",
    "t = a.transpose()\n",
    "print(t,t.shape)    # (3,4)  ---> (4,3)   , (x,y) --> (y,x)\n",
    "print(a.T)          # transpose()함수와 동일한 결과\n",
    "\n",
    "\n",
    "# 임시로 1차원으로 변경하여 데우터를 채우고 다시 원래의 shape을 갖는다\n",
    "# 배열의 요소 전체를 한번에 초기화 할때 사용\n",
    "a.flat = 0\n",
    "print(a)\n",
    "\n",
    "a.flat = 999\n",
    "print(a)"
   ]
  },
  {
   "cell_type": "code",
   "execution_count": 81,
   "id": "96c55964",
   "metadata": {},
   "outputs": [
    {
     "data": {
      "text/plain": [
       "array([[79.7, 79.7, 79.7, 79.7],\n",
       "       [79.7, 79.7, 79.7, 79.7],\n",
       "       [79.7, 79.7, 79.7, 79.7]])"
      ]
     },
     "execution_count": 81,
     "metadata": {},
     "output_type": "execute_result"
    }
   ],
   "source": [
    "import datetime\n",
    "a_object = a.astype(object)\n",
    "a_object.flat = datetime.datetime.today()\n",
    "a_object\n",
    "\n",
    "a_float = a.astype(float)\n",
    "a_float.flat = 79.7\n",
    "a_float"
   ]
  },
  {
   "cell_type": "markdown",
   "id": "454fe214",
   "metadata": {
    "id": "454fe214"
   },
   "source": [
    "### numpy 의 속성(Attribute) : 멤버변수,메서드\n",
    "#### dtype, shape, ndim, flat, T, size, nbytes"
   ]
  },
  {
   "cell_type": "code",
   "execution_count": 83,
   "id": "32e8a2e9",
   "metadata": {
    "id": "32e8a2e9",
    "outputId": "3d1b1051-f2a1-440a-af61-8988a59d037b"
   },
   "outputs": [
    {
     "name": "stdout",
     "output_type": "stream",
     "text": [
      "[[ 0  1  2  3]\n",
      " [ 4  5  6  7]\n",
      " [ 8  9 10 11]] (3, 4)\n",
      "int32\n",
      "2\n",
      "[[ 0  4  8]\n",
      " [ 1  5  9]\n",
      " [ 2  6 10]\n",
      " [ 3  7 11]]\n",
      "12\n",
      "48\n",
      "[[1 1 1 1]\n",
      " [1 1 1 1]\n",
      " [1 1 1 1]]\n"
     ]
    }
   ],
   "source": [
    "d = np.arange(12).reshape(3,4)\n",
    "print(d,d.shape)\n",
    "print(d.dtype)  # int32 or int64\n",
    "print(d.ndim)   # 2차원  ==> print(len(d.shape)) 와 동일\n",
    "print(d.T)      # transpose()함수와 동일한 결과, 전치행렬\n",
    "print(d.size)   # 12개 , 요소의 갯수\n",
    "print(d.nbytes) # 48 bytes : 32bit(4 byte) * 12\n",
    "d.flat = 1\n",
    "print(d)"
   ]
  },
  {
   "cell_type": "code",
   "execution_count": 84,
   "id": "b4b78485",
   "metadata": {
    "id": "b4b78485",
    "outputId": "dd81374a-0792-462d-8220-ce8576c67d0c"
   },
   "outputs": [
    {
     "name": "stdout",
     "output_type": "stream",
     "text": [
      "[[ 0  1  2  3]\n",
      " [ 4  5  6  7]\n",
      " [ 8  9 10 11]] (3, 4)\n",
      "11\n",
      "11\n",
      "0\n",
      "0\n",
      "66\n",
      "5.5\n",
      "3.452052529534663\n",
      "11.916666666666666\n",
      "5.5\n",
      "25%: 2.75\n",
      "50%: 5.5\n",
      "75%: 8.25\n"
     ]
    }
   ],
   "source": [
    "# numpy 통계 함수들\n",
    "a = np.arange(12).reshape(3,4)\n",
    "print(a,a.shape)\n",
    "\n",
    "print(a.max())    # 최대값\n",
    "print(np.max(a))\n",
    "\n",
    "print(a.min())    # 최소값\n",
    "print(np.min(a))\n",
    "\n",
    "print(a.sum())    # 합\n",
    "print(a.mean())   # 평균\n",
    "\n",
    "print(a.std())    # 표준 편차\n",
    "print(a.var())    # 분산\n",
    "print(np.median(a))  # 중위수\n",
    "\n",
    "# 사분위수\n",
    "print('25%:',np.percentile(a,25)) # 1사분위수(Q1)\n",
    "print('50%:',np.percentile(a,50)) # 2사분위수(Q2), median()과 같은 값\n",
    "print('75%:',np.percentile(a,75)) # 3사분위수(Q3)"
   ]
  },
  {
   "cell_type": "code",
   "execution_count": null,
   "id": "05843d71",
   "metadata": {
    "id": "05843d71"
   },
   "outputs": [],
   "source": []
  }
 ],
 "metadata": {
  "colab": {
   "provenance": []
  },
  "kernelspec": {
   "display_name": "Python 3 (ipykernel)",
   "language": "python",
   "name": "python3"
  },
  "language_info": {
   "codemirror_mode": {
    "name": "ipython",
    "version": 3
   },
   "file_extension": ".py",
   "mimetype": "text/x-python",
   "name": "python",
   "nbconvert_exporter": "python",
   "pygments_lexer": "ipython3",
   "version": "3.11.5"
  }
 },
 "nbformat": 4,
 "nbformat_minor": 5
}
