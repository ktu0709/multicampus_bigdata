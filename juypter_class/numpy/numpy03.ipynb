{
 "cells": [
  {
   "cell_type": "markdown",
   "id": "0c27f4d7",
   "metadata": {},
   "source": [
    "###  numpy\n",
    "1) 배열생성 :np.array() , np.zeros(), np.ones() , np.empty():초기화 np.arange() , np.linspace()  \n",
    "2) 배열연산 : 사칙연산, np.dot() : 행렬곱셈 , np.sum() , np.mean() , np.max(), np.min() , np.std() , np.var() , np.sqrt()\n",
    "3) 형태변경,슬라이싱 : np.reshape() , np.transpose() , arr.T[start:end-1:step]  \n",
    "4) 인덱싱과 부울 마스킹 : 배열 요소접근 , 조건에 따라 배열 요소접근  \n",
    "5) 집계 정렬 : np.sort() , np.unique() , np.histogram()   \n",
    "6) 브로드캐스팅 : 서로 다른 크기의 배열간에 연산을 수행 하는 기능 : np.newaxis  \n",
    "7) 선형대수 :  np.linalg.inv() : 역행렬 , det() : 행렬식 , eig() : 정사각형행렬의 고유값과 고유벡터   \n",
    "8) 논리연산 :  np.logical_and() , np.logical_or() , np.logical_not()"
   ]
  },
  {
   "cell_type": "code",
   "execution_count": 2,
   "id": "1ef96c12",
   "metadata": {},
   "outputs": [
    {
     "data": {
      "text/plain": [
       "array([4, 2, 3, 4, 2, 3, 1, 4, 6, 8])"
      ]
     },
     "execution_count": 2,
     "metadata": {},
     "output_type": "execute_result"
    }
   ],
   "source": [
    "import numpy as np\n",
    "\n",
    "arr = np.array([4,2,3,4,2,3,1,4,6,8])\n",
    "arr"
   ]
  },
  {
   "cell_type": "code",
   "execution_count": 3,
   "id": "1e5bc132",
   "metadata": {},
   "outputs": [
    {
     "data": {
      "text/plain": [
       "array([1, 2, 2, 3, 3, 4, 4, 4, 6, 8])"
      ]
     },
     "execution_count": 3,
     "metadata": {},
     "output_type": "execute_result"
    }
   ],
   "source": [
    "np.sort(arr)"
   ]
  },
  {
   "cell_type": "code",
   "execution_count": 31,
   "id": "4b5df1e2",
   "metadata": {},
   "outputs": [
    {
     "data": {
      "text/plain": [
       "array([('Arthur', 1.8, 41), ('Galahad', 1.7, 38), ('Lancelot', 1.9, 38),\n",
       "       ('김태언', 2.1, 27), ('김태언', 2.1, 28)],\n",
       "      dtype=[('name', '<U10'), ('height', '<f8'), ('age', '<i4')])"
      ]
     },
     "execution_count": 31,
     "metadata": {},
     "output_type": "execute_result"
    }
   ],
   "source": [
    "dtype = [('name', 'U10'), ('height', float), ('age', int)]\n",
    "values = [('Arthur', 1.8, 41),\n",
    "          ('Lancelot', 1.9, 38),\n",
    "          ('Galahad', 1.7, 38),\n",
    "          ('김태언', 2.1 , 28),\n",
    "          ('김태언', 2.1 , 27)\n",
    "         ]\n",
    "\n",
    "a = np.array(values, dtype=dtype)       # create a structured array\n",
    "np.sort(a, order='name')    "
   ]
  },
  {
   "cell_type": "code",
   "execution_count": 13,
   "id": "9644f876",
   "metadata": {},
   "outputs": [
    {
     "data": {
      "text/plain": [
       "dict_keys(['?', 0, 'byte', 'b', 1, 'ubyte', 'B', 2, 'short', 'h', 3, 'ushort', 'H', 4, 'i', 5, 'uint', 'I', 6, 'intp', 'p', 9, 'uintp', 'P', 10, 'long', 'l', 7, 'ulong', 'L', 8, 'longlong', 'q', 'ulonglong', 'Q', 'half', 'e', 23, 'f', 11, 'double', 'd', 12, 'longdouble', 'g', 13, 'cfloat', 'F', 14, 'cdouble', 'D', 15, 'clongdouble', 'G', 16, 'O', 17, 'S', 18, 'unicode', 'U', 19, 'void', 'V', 20, 'M', 21, 'm', 22, 'b1', 'bool8', 'i8', 'int64', 'u8', 'uint64', 'f2', 'float16', 'f4', 'float32', 'f8', 'float64', 'c8', 'complex64', 'c16', 'complex128', 'object0', 'bytes0', 'str0', 'void0', 'M8', 'datetime64', 'm8', 'timedelta64', 'int32', 'i4', 'uint32', 'u4', 'int16', 'i2', 'uint16', 'u2', 'int8', 'i1', 'uint8', 'u1', 'complex_', 'single', 'csingle', 'singlecomplex', 'float_', 'intc', 'uintc', 'int_', 'longfloat', 'clongfloat', 'longcomplex', 'bool_', 'bytes_', 'string_', 'str_', 'unicode_', 'object_', 'int', 'float', 'complex', 'bool', 'object', 'str', 'bytes', 'a', 'int0', 'uint0'])"
      ]
     },
     "execution_count": 13,
     "metadata": {},
     "output_type": "execute_result"
    }
   ],
   "source": [
    "np.sctypeDict.keys()"
   ]
  },
  {
   "cell_type": "code",
   "execution_count": 24,
   "id": "ac304969",
   "metadata": {},
   "outputs": [
    {
     "data": {
      "text/plain": [
       "(array([1, 2, 3, 4, 6, 8]), array([4, 2, 3, 4, 2, 3, 1, 4, 6, 8]))"
      ]
     },
     "execution_count": 24,
     "metadata": {},
     "output_type": "execute_result"
    }
   ],
   "source": [
    "np.unique(arr) , arr"
   ]
  },
  {
   "cell_type": "code",
   "execution_count": 33,
   "id": "b960bdad",
   "metadata": {},
   "outputs": [
    {
     "data": {
      "text/plain": [
       "(5,)"
      ]
     },
     "execution_count": 33,
     "metadata": {},
     "output_type": "execute_result"
    }
   ],
   "source": [
    "res=np.unique(a)\n",
    "res.shape"
   ]
  },
  {
   "cell_type": "code",
   "execution_count": 49,
   "id": "780d1b6e",
   "metadata": {},
   "outputs": [
    {
     "name": "stdout",
     "output_type": "stream",
     "text": [
      "빈도 :  [0 2 1]\n",
      "구간 :  [0 1 2 3]\n"
     ]
    }
   ],
   "source": [
    "#히스토그램 -> 데이터 분포 시각화 / 색상대조 대비(색상분포)\n",
    "# 주어진 데이터를 구간(bins)에 따라 나누고 , 각 구간에 속하는 데이터 포이터의 개수를 hist 배열에 저장한다\n",
    "# 구간 정보를  bins 배열에 저장한다\n",
    "hist , bins =np.histogram([1, 2, 1], bins=[0, 1, 2, 3])\n",
    "\n",
    "print(\"빈도 : \" , hist)\n",
    "print(\"구간 : \" , bins)\n",
    "\n",
    "# [0,1,2,3] 첫번째 구간  0이상 1미만 , 두번째 구간 1이상 2미만 , 세번째구간은 2이상 3미만"
   ]
  },
  {
   "cell_type": "markdown",
   "id": "68b2fcb9",
   "metadata": {},
   "source": [
    "- data = [1,2,1] bins = [0,1,2,3]  \n",
    "- 첫번째 구간 [0,1]에는 1과 1이 포함 -> hist의 첫번재 요소는 2\n",
    "- 두번째 구간 [1,2]에는 2가 포함 -> hist의 두번재 요소는 1\n",
    "- 세번째 구간 [2,3]에는 데이터가 없다 -> hist 세번째 요소는 0"
   ]
  },
  {
   "cell_type": "code",
   "execution_count": 47,
   "id": "97a0cca4",
   "metadata": {},
   "outputs": [
    {
     "name": "stdout",
     "output_type": "stream",
     "text": [
      "빈도 :  (array([0, 2, 1], dtype=int64), array([0, 1, 2, 3]))\n",
      "구간 :  [0 1 2 3]\n"
     ]
    }
   ],
   "source": [
    "\n",
    "b=np.histogram(np.arange(4), bins=np.arange(5), density=True)\n",
    "\n",
    "c=np.histogram([[1, 2, 1], [1, 0, 1]], bins=[0,1,2,3])"
   ]
  },
  {
   "cell_type": "code",
   "execution_count": 63,
   "id": "f4995c4f",
   "metadata": {},
   "outputs": [
    {
     "name": "stdout",
     "output_type": "stream",
     "text": [
      "빈도: [2 2 1]\n",
      "구간 경계: [0.         0.66666667 1.33333333 2.        ]\n"
     ]
    },
    {
     "data": {
      "image/png": "[encoded data removed]",
      "text/plain": [
       "<Figure size 640x480 with 1 Axes>"
      ]
     },
     "metadata": {},
     "output_type": "display_data"
    }
   ],
   "source": [
    "import numpy as np\n",
    "import matplotlib.pyplot as plt\n",
    "\n",
    "#data  = [1,2,3,4,5,6,7,8,9,10]\n",
    "#data  = [5,4,3,3,3,3,8]\n",
    "data   = ['a','b','c','a','b']\n",
    "\n",
    "#문자열로  히스토그램으로 표현할려먼 dict로 전환해야 함\n",
    "my_key = {'a':0,'b':1,'c':2}\n",
    "mapped_data = [my_key[item] for item in data]\n",
    "\n",
    "# 히스토그램 계산\n",
    "hist, bins = np.histogram(mapped_data , bins = 3)  \n",
    "\n",
    "\n",
    "print(\"빈도:\", hist)\n",
    "print(\"구간 경계:\", bins)\n",
    "\n",
    "# 히스토그램 시각화\n",
    "plt.hist(data, bins=10, alpha=0.5, color='b', edgecolor='black')\n",
    "plt.xlabel(\"value\")\n",
    "plt.ylabel(\"bins\")\n",
    "plt.title(\"histogram\")\n",
    "plt.grid(True)\n",
    "plt.show()"
   ]
  },
  {
   "cell_type": "markdown",
   "id": "9c34ac94",
   "metadata": {},
   "source": [
    "6) 브로드캐스팅 : 서로 다른 크기의 배열간에 연산을 수행 하는 기능 : np.newaxis"
   ]
  },
  {
   "cell_type": "code",
   "execution_count": 65,
   "id": "b9dd856e",
   "metadata": {},
   "outputs": [
    {
     "name": "stdout",
     "output_type": "stream",
     "text": [
      "[11 22 33 44]\n",
      "[ 9 18 27 36]\n",
      "[ 10  40  90 160]\n",
      "[10. 10. 10. 10.]\n"
     ]
    }
   ],
   "source": [
    "#크기가 같은 배열의 연산 또는 다른 크기의 배열 연산\n",
    "arr1 = np.array([1,2,3,4])\n",
    "arr2 = np.array([10,20,30,40])\n",
    "print(arr1+arr2) #색상 대비, 밝기를 조정한다 (이미지,영상,소리 -> 숫자[] -> 연산)\n",
    "                 #영상의 기본단위는 픽셀이고 화소라고 한다 (x,y,[R,G,B])\n",
    "print(arr2-arr1)\n",
    "print(arr1*arr2)\n",
    "print(arr2/arr1)"
   ]
  },
  {
   "cell_type": "code",
   "execution_count": 73,
   "id": "0b77162e",
   "metadata": {},
   "outputs": [
    {
     "name": "stdout",
     "output_type": "stream",
     "text": [
      "[10 20 30 40]\n",
      "[[10]\n",
      " [20]\n",
      " [30]\n",
      " [40]] (4, 1)\n",
      "[[ 10  20  30]\n",
      " [ 20  40  60]\n",
      " [ 30  60  90]\n",
      " [ 40  80 120]]\n"
     ]
    }
   ],
   "source": [
    "#크기가 다른 배열 연산\n",
    "arr1 = np.array([1,2,3])\n",
    "arr2 = np.array([10,20,30,40])\n",
    "#print(arr1+arr2)\n",
    "print(arr2)\n",
    "res = arr2[:,np.newaxis]\n",
    "print(res,res.shape)\n",
    "print(arr1*res) #열벡터로 변환한 다음 곱셈을 수행한다"
   ]
  },
  {
   "cell_type": "code",
   "execution_count": 79,
   "id": "be926880",
   "metadata": {},
   "outputs": [
    {
     "name": "stdout",
     "output_type": "stream",
     "text": [
      "[[ 74  80  86  92]\n",
      " [173 188 203 218]]\n",
      "1114\n"
     ]
    }
   ],
   "source": [
    "# 2*3 행렬과 3*4 행렬을 곱하려면 두번째 행렬의 열의 수와 첫번째 행렬의 행수가 일치되어야한다\n",
    "a = np.array([[1,2,3],\n",
    "              [4,5,6]])\n",
    "\n",
    "b= np.array([[7,8,9,10],\n",
    "             [11,12,13,14],\n",
    "             [15,16,17,18]])\n",
    "\n",
    "res = np.dot(a,b)\n",
    "hap = np.sum(res)\n",
    "print(res)\n",
    "print(hap)"
   ]
  },
  {
   "cell_type": "markdown",
   "id": "db26fded",
   "metadata": {},
   "source": [
    "### 행렬 곱셈을 수행할때 규칙\n",
    " 1) 두번째 행렬의 열의 수와 첫번째 행렬의 행수가 일치  \n",
    " 2) 행렬의 결과 크기는 첫번쨰 행령의 행 수와 두번째 행렬의 열 수에 의해 결정된다  \n",
    " ex) A= m x n , b=n x p 라면 두행렬을 곱한 행렬 c 는 m x p가 된다"
   ]
  },
  {
   "cell_type": "code",
   "execution_count": null,
   "id": "6af44098",
   "metadata": {},
   "outputs": [],
   "source": []
  }
 ],
 "metadata": {
  "kernelspec": {
   "display_name": "Python 3 (ipykernel)",
   "language": "python",
   "name": "python3"
  },
  "language_info": {
   "codemirror_mode": {
    "name": "ipython",
    "version": 3
   },
   "file_extension": ".py",
   "mimetype": "text/x-python",
   "name": "python",
   "nbconvert_exporter": "python",
   "pygments_lexer": "ipython3",
   "version": "3.11.5"
  }
 },
 "nbformat": 4,
 "nbformat_minor": 5
}
