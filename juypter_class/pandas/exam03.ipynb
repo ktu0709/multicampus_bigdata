{
 "cells": [
  {
   "cell_type": "code",
   "execution_count": 1,
   "id": "694fbaba",
   "metadata": {},
   "outputs": [],
   "source": [
    "import pandas as pd\n",
    "import numpy as np"
   ]
  },
  {
   "cell_type": "markdown",
   "id": "5e2dea9f",
   "metadata": {},
   "source": [
    "### 구구단을 출력하고 결과를 리스트에 저장하자"
   ]
  },
  {
   "cell_type": "code",
   "execution_count": 9,
   "id": "e3412b65",
   "metadata": {},
   "outputs": [
    {
     "name": "stdout",
     "output_type": "stream",
     "text": [
      "[2, 4, 6, 8, 10, 12, 14, 16, 18]\n",
      "[3, 6, 9, 12, 15, 18, 21, 24, 27]\n",
      "[4, 8, 12, 16, 20, 24, 28, 32, 36]\n",
      "[5, 10, 15, 20, 25, 30, 35, 40, 45]\n",
      "[6, 12, 18, 24, 30, 36, 42, 48, 54]\n",
      "[7, 14, 21, 28, 35, 42, 49, 56, 63]\n",
      "[8, 16, 24, 32, 40, 48, 56, 64, 72]\n",
      "[9, 18, 27, 36, 45, 54, 63, 72, 81]\n"
     ]
    }
   ],
   "source": [
    "a = []\n",
    "\n",
    "for i in range(2,10):\n",
    "    res = []\n",
    "    for j in range(1,10):\n",
    "        res.append(i*j)\n",
    "    a.append(res)\n",
    "\n",
    "for res in a:\n",
    "    print(res)"
   ]
  },
  {
   "cell_type": "markdown",
   "id": "9bec85df",
   "metadata": {},
   "source": [
    "### 위 결과를 numpy로 저장하고 파일로 저장하자"
   ]
  },
  {
   "cell_type": "code",
   "execution_count": 29,
   "id": "6fbd3c38",
   "metadata": {},
   "outputs": [
    {
     "data": {
      "text/plain": [
       "array([[ 2,  4,  6,  8, 10, 12, 14, 16, 18],\n",
       "       [ 3,  6,  9, 12, 15, 18, 21, 24, 27],\n",
       "       [ 4,  8, 12, 16, 20, 24, 28, 32, 36],\n",
       "       [ 5, 10, 15, 20, 25, 30, 35, 40, 45],\n",
       "       [ 6, 12, 18, 24, 30, 36, 42, 48, 54],\n",
       "       [ 7, 14, 21, 28, 35, 42, 49, 56, 63],\n",
       "       [ 8, 16, 24, 32, 40, 48, 56, 64, 72],\n",
       "       [ 9, 18, 27, 36, 45, 54, 63, 72, 81]])"
      ]
     },
     "execution_count": 29,
     "metadata": {},
     "output_type": "execute_result"
    }
   ],
   "source": [
    "### 배열을 파일로 저장 savetxt : 구분자를 추가하면 csv로 저장할 수 있다\n",
    "np_a = np.array(a)\n",
    "np_a\n",
    "\n",
    "np.savetxt('res/np_a.csv', np_a, fmt='%d', delimiter=',')"
   ]
  },
  {
   "cell_type": "markdown",
   "id": "321601e0",
   "metadata": {},
   "source": [
    "### 위 결과를 pandas 로 저장하고 파일로 저장하자"
   ]
  },
  {
   "cell_type": "code",
   "execution_count": 24,
   "id": "5a89e880",
   "metadata": {},
   "outputs": [],
   "source": [
    "pd_a = pd.DataFrame(a)\n",
    "pd_a\n",
    "pd_a.to_csv('res/pd_a.csv', index = False , header = False)"
   ]
  },
  {
   "cell_type": "markdown",
   "id": "aa2a301d",
   "metadata": {},
   "source": [
    "### 위 결과를 numpy 로 파일로 읽어오자"
   ]
  },
  {
   "cell_type": "code",
   "execution_count": 28,
   "id": "b8afbf23",
   "metadata": {},
   "outputs": [
    {
     "data": {
      "text/plain": [
       "array([[ 2,  4,  6,  8, 10, 12, 14, 16, 18],\n",
       "       [ 3,  6,  9, 12, 15, 18, 21, 24, 27],\n",
       "       [ 4,  8, 12, 16, 20, 24, 28, 32, 36],\n",
       "       [ 5, 10, 15, 20, 25, 30, 35, 40, 45],\n",
       "       [ 6, 12, 18, 24, 30, 36, 42, 48, 54],\n",
       "       [ 7, 14, 21, 28, 35, 42, 49, 56, 63],\n",
       "       [ 8, 16, 24, 32, 40, 48, 56, 64, 72],\n",
       "       [ 9, 18, 27, 36, 45, 54, 63, 72, 81]])"
      ]
     },
     "execution_count": 28,
     "metadata": {},
     "output_type": "execute_result"
    }
   ],
   "source": [
    "np.loadtxt('res/np_a.csv',delimiter =\",\",dtype = 'int')"
   ]
  },
  {
   "cell_type": "markdown",
   "id": "8e45f50c",
   "metadata": {},
   "source": [
    "### 위 결과를 pandas 로 파일을 읽어오자"
   ]
  },
  {
   "cell_type": "code",
   "execution_count": 31,
   "id": "7d8fc7a6",
   "metadata": {},
   "outputs": [
    {
     "data": {
      "text/html": [
       "<div>\n",
       "<style scoped>\n",
       "    .dataframe tbody tr th:only-of-type {\n",
       "        vertical-align: middle;\n",
       "    }\n",
       "\n",
       "    .dataframe tbody tr th {\n",
       "        vertical-align: top;\n",
       "    }\n",
       "\n",
       "    .dataframe thead th {\n",
       "        text-align: right;\n",
       "    }\n",
       "</style>\n",
       "<table border=\"1\" class=\"dataframe\">\n",
       "  <thead>\n",
       "    <tr style=\"text-align: right;\">\n",
       "      <th></th>\n",
       "      <th>0</th>\n",
       "      <th>1</th>\n",
       "      <th>2</th>\n",
       "      <th>3</th>\n",
       "      <th>4</th>\n",
       "      <th>5</th>\n",
       "      <th>6</th>\n",
       "      <th>7</th>\n",
       "      <th>8</th>\n",
       "    </tr>\n",
       "  </thead>\n",
       "  <tbody>\n",
       "    <tr>\n",
       "      <th>0</th>\n",
       "      <td>2</td>\n",
       "      <td>4</td>\n",
       "      <td>6</td>\n",
       "      <td>8</td>\n",
       "      <td>10</td>\n",
       "      <td>12</td>\n",
       "      <td>14</td>\n",
       "      <td>16</td>\n",
       "      <td>18</td>\n",
       "    </tr>\n",
       "    <tr>\n",
       "      <th>1</th>\n",
       "      <td>3</td>\n",
       "      <td>6</td>\n",
       "      <td>9</td>\n",
       "      <td>12</td>\n",
       "      <td>15</td>\n",
       "      <td>18</td>\n",
       "      <td>21</td>\n",
       "      <td>24</td>\n",
       "      <td>27</td>\n",
       "    </tr>\n",
       "    <tr>\n",
       "      <th>2</th>\n",
       "      <td>4</td>\n",
       "      <td>8</td>\n",
       "      <td>12</td>\n",
       "      <td>16</td>\n",
       "      <td>20</td>\n",
       "      <td>24</td>\n",
       "      <td>28</td>\n",
       "      <td>32</td>\n",
       "      <td>36</td>\n",
       "    </tr>\n",
       "    <tr>\n",
       "      <th>3</th>\n",
       "      <td>5</td>\n",
       "      <td>10</td>\n",
       "      <td>15</td>\n",
       "      <td>20</td>\n",
       "      <td>25</td>\n",
       "      <td>30</td>\n",
       "      <td>35</td>\n",
       "      <td>40</td>\n",
       "      <td>45</td>\n",
       "    </tr>\n",
       "    <tr>\n",
       "      <th>4</th>\n",
       "      <td>6</td>\n",
       "      <td>12</td>\n",
       "      <td>18</td>\n",
       "      <td>24</td>\n",
       "      <td>30</td>\n",
       "      <td>36</td>\n",
       "      <td>42</td>\n",
       "      <td>48</td>\n",
       "      <td>54</td>\n",
       "    </tr>\n",
       "    <tr>\n",
       "      <th>5</th>\n",
       "      <td>7</td>\n",
       "      <td>14</td>\n",
       "      <td>21</td>\n",
       "      <td>28</td>\n",
       "      <td>35</td>\n",
       "      <td>42</td>\n",
       "      <td>49</td>\n",
       "      <td>56</td>\n",
       "      <td>63</td>\n",
       "    </tr>\n",
       "    <tr>\n",
       "      <th>6</th>\n",
       "      <td>8</td>\n",
       "      <td>16</td>\n",
       "      <td>24</td>\n",
       "      <td>32</td>\n",
       "      <td>40</td>\n",
       "      <td>48</td>\n",
       "      <td>56</td>\n",
       "      <td>64</td>\n",
       "      <td>72</td>\n",
       "    </tr>\n",
       "    <tr>\n",
       "      <th>7</th>\n",
       "      <td>9</td>\n",
       "      <td>18</td>\n",
       "      <td>27</td>\n",
       "      <td>36</td>\n",
       "      <td>45</td>\n",
       "      <td>54</td>\n",
       "      <td>63</td>\n",
       "      <td>72</td>\n",
       "      <td>81</td>\n",
       "    </tr>\n",
       "  </tbody>\n",
       "</table>\n",
       "</div>"
      ],
      "text/plain": [
       "   0   1   2   3   4   5   6   7   8\n",
       "0  2   4   6   8  10  12  14  16  18\n",
       "1  3   6   9  12  15  18  21  24  27\n",
       "2  4   8  12  16  20  24  28  32  36\n",
       "3  5  10  15  20  25  30  35  40  45\n",
       "4  6  12  18  24  30  36  42  48  54\n",
       "5  7  14  21  28  35  42  49  56  63\n",
       "6  8  16  24  32  40  48  56  64  72\n",
       "7  9  18  27  36  45  54  63  72  81"
      ]
     },
     "execution_count": 31,
     "metadata": {},
     "output_type": "execute_result"
    }
   ],
   "source": [
    "pd.read_csv('res/pd_a.csv' , header = None)"
   ]
  },
  {
   "cell_type": "markdown",
   "id": "32488e71",
   "metadata": {},
   "source": [
    "### 결과를 pandas를 활용해서 파일로 2dan.txt ~ 9dan.txt저장한다"
   ]
  },
  {
   "cell_type": "code",
   "execution_count": 85,
   "id": "c6063f32",
   "metadata": {},
   "outputs": [
    {
     "name": "stdout",
     "output_type": "stream",
     "text": [
      "2의 결과를 저장했다\n",
      "3의 결과를 저장했다\n",
      "4의 결과를 저장했다\n",
      "5의 결과를 저장했다\n",
      "6의 결과를 저장했다\n",
      "7의 결과를 저장했다\n",
      "8의 결과를 저장했다\n",
      "9의 결과를 저장했다\n"
     ]
    }
   ],
   "source": [
    "gugudan = pd.read_csv('res/pd_a.csv',header = None)\n",
    "#gugudan\n",
    "\n",
    "for i in range(2,10):\n",
    "    dan_result = gugudan[i-2]\n",
    "    #print(dan_result)\n",
    "    \n",
    "    with open(f'res/{i}단.txt','w') as file:\n",
    "        for idx, value in enumerate(dan_result,start = 1):\n",
    "             file.write(f'{i} x {idx} = {value}\\n')\n",
    "            \n",
    "    print(f'{i}의 결과를 저장했다')    "
   ]
  },
  {
   "cell_type": "code",
   "execution_count": 69,
   "id": "80384bdf",
   "metadata": {},
   "outputs": [
    {
     "name": "stdout",
     "output_type": "stream",
     "text": [
      "A    10\n",
      "B    20\n",
      "C    30\n",
      "D    40\n",
      "E    50\n",
      "dtype: int64\n"
     ]
    }
   ],
   "source": [
    "data = pd.Series([10,20,30,40,50],index=['A','B','C','D','E'])\n",
    "print(data)"
   ]
  },
  {
   "cell_type": "markdown",
   "id": "357bdbac",
   "metadata": {},
   "source": [
    "### 2dan.txt ~ 9dan.txt을 murge_final.txt로 합치자"
   ]
  },
  {
   "cell_type": "code",
   "execution_count": 102,
   "id": "a603f071",
   "metadata": {},
   "outputs": [],
   "source": [
    "\n",
    "\n",
    "def extract_dan(file):\n",
    "    with open(file,'r') as file:\n",
    "        lines = file.readlines()\n",
    "        dan_lines  = [line.strip() for line in  lines if line.strip() != \"\"]\n",
    "        return dan_lines\n",
    "\n",
    "final = []\n",
    "for i in range(2,10):\n",
    "            filename = f'res/{i}단.txt'\n",
    "            dan_lines = extract_dan(filename)\n",
    "            final.extend(dan_lines)\n",
    "\n",
    "\n",
    "with open(f'res/murge_final.txt','w') as file:\n",
    "        for dan_lines in final:\n",
    "            file.write(dan_lines+\"\\n\")"
   ]
  },
  {
   "cell_type": "code",
   "execution_count": 99,
   "id": "cbe9f59b",
   "metadata": {},
   "outputs": [
    {
     "data": {
      "text/plain": [
       "'\\n2 x 1 = 2\\n2 x 2 = 3\\n2 x 3 = 4\\n'"
      ]
     },
     "execution_count": 99,
     "metadata": {},
     "output_type": "execute_result"
    }
   ],
   "source": [
    "str = '''\n",
    "2 x 1 = 2\n",
    "2 x 2 = 3\n",
    "2 x 3 = 4\n",
    "'''\n",
    "str"
   ]
  },
  {
   "cell_type": "code",
   "execution_count": 100,
   "id": "4e1777bf",
   "metadata": {},
   "outputs": [
    {
     "data": {
      "text/plain": [
       "'2 x 1 = 2\\n2 x 2 = 3\\n2 x 3 = 4'"
      ]
     },
     "execution_count": 100,
     "metadata": {},
     "output_type": "execute_result"
    }
   ],
   "source": [
    "str.strip()"
   ]
  },
  {
   "cell_type": "code",
   "execution_count": null,
   "id": "97886153",
   "metadata": {},
   "outputs": [],
   "source": []
  }
 ],
 "metadata": {
  "kernelspec": {
   "display_name": "Python 3 (ipykernel)",
   "language": "python",
   "name": "python3"
  },
  "language_info": {
   "codemirror_mode": {
    "name": "ipython",
    "version": 3
   },
   "file_extension": ".py",
   "mimetype": "text/x-python",
   "name": "python",
   "nbconvert_exporter": "python",
   "pygments_lexer": "ipython3",
   "version": "3.11.5"
  }
 },
 "nbformat": 4,
 "nbformat_minor": 5
}
