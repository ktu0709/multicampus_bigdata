{
 "cells": [
  {
   "cell_type": "code",
   "execution_count": 1,
   "id": "abe62ff7",
   "metadata": {},
   "outputs": [],
   "source": [
    "import numpy as np\n",
    "import pandas as pd"
   ]
  },
  {
   "cell_type": "code",
   "execution_count": 2,
   "id": "ed95f2f7",
   "metadata": {},
   "outputs": [
    {
     "data": {
      "text/plain": [
       "{'Company': ['Google',\n",
       "  'Google',\n",
       "  'Microsoft',\n",
       "  'Microsoft',\n",
       "  'Facebook',\n",
       "  'Facebook'],\n",
       " 'Employee': ['Sam', 'Charlie', 'Amy', 'Vanessa', 'Carl', 'Sarah'],\n",
       " 'Sales': [200, 120, 340, 124, 243, 350]}"
      ]
     },
     "execution_count": 2,
     "metadata": {},
     "output_type": "execute_result"
    }
   ],
   "source": [
    "data = {\n",
    "    'Company': ['Google', 'Google', 'Microsoft', 'Microsoft', 'Facebook', 'Facebook'],\n",
    "    'Employee': ['Sam', 'Charlie', 'Amy', 'Vanessa', 'Carl', 'Sarah'],\n",
    "    'Sales': [200, 120, 340, 124, 243, 350]\n",
    "}"
   ]
  },
  {
   "cell_type": "markdown",
   "id": "36bcd4ea",
   "metadata": {},
   "source": [
    "### q1 데이터프레임을 생성해보자"
   ]
  },
  {
   "cell_type": "code",
   "execution_count": 3,
   "id": "75d66ec7",
   "metadata": {},
   "outputs": [
    {
     "data": {
      "text/html": [
       "<div>\n",
       "<style scoped>\n",
       "    .dataframe tbody tr th:only-of-type {\n",
       "        vertical-align: middle;\n",
       "    }\n",
       "\n",
       "    .dataframe tbody tr th {\n",
       "        vertical-align: top;\n",
       "    }\n",
       "\n",
       "    .dataframe thead th {\n",
       "        text-align: right;\n",
       "    }\n",
       "</style>\n",
       "<table border=\"1\" class=\"dataframe\">\n",
       "  <thead>\n",
       "    <tr style=\"text-align: right;\">\n",
       "      <th></th>\n",
       "      <th>Company</th>\n",
       "      <th>Employee</th>\n",
       "      <th>Sales</th>\n",
       "    </tr>\n",
       "  </thead>\n",
       "  <tbody>\n",
       "    <tr>\n",
       "      <th>0</th>\n",
       "      <td>Google</td>\n",
       "      <td>Sam</td>\n",
       "      <td>200</td>\n",
       "    </tr>\n",
       "    <tr>\n",
       "      <th>1</th>\n",
       "      <td>Google</td>\n",
       "      <td>Charlie</td>\n",
       "      <td>120</td>\n",
       "    </tr>\n",
       "    <tr>\n",
       "      <th>2</th>\n",
       "      <td>Microsoft</td>\n",
       "      <td>Amy</td>\n",
       "      <td>340</td>\n",
       "    </tr>\n",
       "    <tr>\n",
       "      <th>3</th>\n",
       "      <td>Microsoft</td>\n",
       "      <td>Vanessa</td>\n",
       "      <td>124</td>\n",
       "    </tr>\n",
       "    <tr>\n",
       "      <th>4</th>\n",
       "      <td>Facebook</td>\n",
       "      <td>Carl</td>\n",
       "      <td>243</td>\n",
       "    </tr>\n",
       "    <tr>\n",
       "      <th>5</th>\n",
       "      <td>Facebook</td>\n",
       "      <td>Sarah</td>\n",
       "      <td>350</td>\n",
       "    </tr>\n",
       "  </tbody>\n",
       "</table>\n",
       "</div>"
      ],
      "text/plain": [
       "     Company Employee  Sales\n",
       "0     Google      Sam    200\n",
       "1     Google  Charlie    120\n",
       "2  Microsoft      Amy    340\n",
       "3  Microsoft  Vanessa    124\n",
       "4   Facebook     Carl    243\n",
       "5   Facebook    Sarah    350"
      ]
     },
     "execution_count": 3,
     "metadata": {},
     "output_type": "execute_result"
    }
   ],
   "source": [
    "df=pd.DataFrame(data)\n",
    "df"
   ]
  },
  {
   "cell_type": "markdown",
   "id": "013bec8f",
   "metadata": {},
   "source": [
    "### q2 company 기준으로 groupby 해보자"
   ]
  },
  {
   "cell_type": "code",
   "execution_count": 10,
   "id": "16ab1065",
   "metadata": {},
   "outputs": [
    {
     "data": {
      "text/plain": [
       "pandas.core.groupby.generic.DataFrameGroupBy"
      ]
     },
     "execution_count": 10,
     "metadata": {},
     "output_type": "execute_result"
    }
   ],
   "source": [
    "grp_df = df.groupby('Company')\n",
    "type(grp_df)"
   ]
  },
  {
   "cell_type": "markdown",
   "id": "d90d46d5",
   "metadata": {},
   "source": [
    "### q3 각 회사별 평균 매출을 계산"
   ]
  },
  {
   "cell_type": "code",
   "execution_count": 19,
   "id": "e18c8b52",
   "metadata": {},
   "outputs": [
    {
     "name": "stdout",
     "output_type": "stream",
     "text": [
      "Facebook Sales    296.5\n",
      "dtype: float64\n",
      "Google Sales    160.0\n",
      "dtype: float64\n",
      "Microsoft Sales    232.0\n",
      "dtype: float64\n"
     ]
    }
   ],
   "source": [
    "for name, group in grp_df:\n",
    "    numeric_group = group.select_dtypes(include=[np.number])\n",
    "    print(name , numeric_group.mean())"
   ]
  },
  {
   "cell_type": "code",
   "execution_count": 25,
   "id": "99252075",
   "metadata": {},
   "outputs": [
    {
     "data": {
      "text/html": [
       "<div>\n",
       "<style scoped>\n",
       "    .dataframe tbody tr th:only-of-type {\n",
       "        vertical-align: middle;\n",
       "    }\n",
       "\n",
       "    .dataframe tbody tr th {\n",
       "        vertical-align: top;\n",
       "    }\n",
       "\n",
       "    .dataframe thead th {\n",
       "        text-align: right;\n",
       "    }\n",
       "</style>\n",
       "<table border=\"1\" class=\"dataframe\">\n",
       "  <thead>\n",
       "    <tr style=\"text-align: right;\">\n",
       "      <th></th>\n",
       "      <th>Sales</th>\n",
       "    </tr>\n",
       "    <tr>\n",
       "      <th>Company</th>\n",
       "      <th></th>\n",
       "    </tr>\n",
       "  </thead>\n",
       "  <tbody>\n",
       "    <tr>\n",
       "      <th>Facebook</th>\n",
       "      <td>296.5</td>\n",
       "    </tr>\n",
       "    <tr>\n",
       "      <th>Google</th>\n",
       "      <td>160.0</td>\n",
       "    </tr>\n",
       "    <tr>\n",
       "      <th>Microsoft</th>\n",
       "      <td>232.0</td>\n",
       "    </tr>\n",
       "  </tbody>\n",
       "</table>\n",
       "</div>"
      ],
      "text/plain": [
       "           Sales\n",
       "Company         \n",
       "Facebook   296.5\n",
       "Google     160.0\n",
       "Microsoft  232.0"
      ]
     },
     "execution_count": 25,
     "metadata": {},
     "output_type": "execute_result"
    }
   ],
   "source": [
    "#각 그룹의 수치형 데이터 평균을 저장할 빈 df 생성\n",
    "group_means = pd.DataFrame()\n",
    "\n",
    "for name, group in grp_df:\n",
    "    numeric_group = group.select_dtypes(include=[np.number]).mean()\n",
    "    \n",
    "    #데이터프레임으로 변환하고, 열 이름 설정\n",
    "    mean_df = pd.DataFrame(numeric_group).transpose()\n",
    "    mean_df['Company'] = name\n",
    "    \n",
    "    #결과 데이터프레임에 추가\n",
    "    group_means = pd.concat([group_means,mean_df],ignore_index = True)\n",
    "    \n",
    "group_means.set_index('Company',inplace=True)\n",
    "group_means"
   ]
  },
  {
   "cell_type": "markdown",
   "id": "e4f78ac4",
   "metadata": {},
   "source": [
    "### q4 각회사별 최대 매출을 계산"
   ]
  },
  {
   "cell_type": "code",
   "execution_count": 6,
   "id": "59672da0",
   "metadata": {},
   "outputs": [
    {
     "data": {
      "text/html": [
       "<div>\n",
       "<style scoped>\n",
       "    .dataframe tbody tr th:only-of-type {\n",
       "        vertical-align: middle;\n",
       "    }\n",
       "\n",
       "    .dataframe tbody tr th {\n",
       "        vertical-align: top;\n",
       "    }\n",
       "\n",
       "    .dataframe thead th {\n",
       "        text-align: right;\n",
       "    }\n",
       "</style>\n",
       "<table border=\"1\" class=\"dataframe\">\n",
       "  <thead>\n",
       "    <tr style=\"text-align: right;\">\n",
       "      <th></th>\n",
       "      <th>Employee</th>\n",
       "      <th>Sales</th>\n",
       "    </tr>\n",
       "    <tr>\n",
       "      <th>Company</th>\n",
       "      <th></th>\n",
       "      <th></th>\n",
       "    </tr>\n",
       "  </thead>\n",
       "  <tbody>\n",
       "    <tr>\n",
       "      <th>Facebook</th>\n",
       "      <td>Sarah</td>\n",
       "      <td>350</td>\n",
       "    </tr>\n",
       "    <tr>\n",
       "      <th>Google</th>\n",
       "      <td>Sam</td>\n",
       "      <td>200</td>\n",
       "    </tr>\n",
       "    <tr>\n",
       "      <th>Microsoft</th>\n",
       "      <td>Vanessa</td>\n",
       "      <td>340</td>\n",
       "    </tr>\n",
       "  </tbody>\n",
       "</table>\n",
       "</div>"
      ],
      "text/plain": [
       "          Employee  Sales\n",
       "Company                  \n",
       "Facebook     Sarah    350\n",
       "Google         Sam    200\n",
       "Microsoft  Vanessa    340"
      ]
     },
     "execution_count": 6,
     "metadata": {},
     "output_type": "execute_result"
    }
   ],
   "source": [
    "grp_df.max()"
   ]
  },
  {
   "cell_type": "markdown",
   "id": "80c0fdd6",
   "metadata": {},
   "source": [
    "### q5 각 회사별 직원 수를 계산"
   ]
  },
  {
   "cell_type": "code",
   "execution_count": 7,
   "id": "643ad271",
   "metadata": {},
   "outputs": [
    {
     "data": {
      "text/html": [
       "<div>\n",
       "<style scoped>\n",
       "    .dataframe tbody tr th:only-of-type {\n",
       "        vertical-align: middle;\n",
       "    }\n",
       "\n",
       "    .dataframe tbody tr th {\n",
       "        vertical-align: top;\n",
       "    }\n",
       "\n",
       "    .dataframe thead th {\n",
       "        text-align: right;\n",
       "    }\n",
       "</style>\n",
       "<table border=\"1\" class=\"dataframe\">\n",
       "  <thead>\n",
       "    <tr style=\"text-align: right;\">\n",
       "      <th></th>\n",
       "      <th>Employee</th>\n",
       "      <th>Sales</th>\n",
       "    </tr>\n",
       "    <tr>\n",
       "      <th>Company</th>\n",
       "      <th></th>\n",
       "      <th></th>\n",
       "    </tr>\n",
       "  </thead>\n",
       "  <tbody>\n",
       "    <tr>\n",
       "      <th>Facebook</th>\n",
       "      <td>2</td>\n",
       "      <td>2</td>\n",
       "    </tr>\n",
       "    <tr>\n",
       "      <th>Google</th>\n",
       "      <td>2</td>\n",
       "      <td>2</td>\n",
       "    </tr>\n",
       "    <tr>\n",
       "      <th>Microsoft</th>\n",
       "      <td>2</td>\n",
       "      <td>2</td>\n",
       "    </tr>\n",
       "  </tbody>\n",
       "</table>\n",
       "</div>"
      ],
      "text/plain": [
       "           Employee  Sales\n",
       "Company                   \n",
       "Facebook          2      2\n",
       "Google            2      2\n",
       "Microsoft         2      2"
      ]
     },
     "execution_count": 7,
     "metadata": {},
     "output_type": "execute_result"
    }
   ],
   "source": [
    "grp_df.count()"
   ]
  },
  {
   "cell_type": "code",
   "execution_count": 43,
   "id": "ec0cd378",
   "metadata": {},
   "outputs": [
    {
     "data": {
      "text/plain": [
       "<pandas.core.groupby.generic.DataFrameGroupBy object at 0x00000162D6165410>"
      ]
     },
     "execution_count": 43,
     "metadata": {},
     "output_type": "execute_result"
    }
   ],
   "source": [
    "res =df.groupby([\"Company\",\"Employee\"])\n",
    "res"
   ]
  },
  {
   "cell_type": "code",
   "execution_count": 51,
   "id": "8aaa7abc",
   "metadata": {},
   "outputs": [
    {
     "name": "stdout",
     "output_type": "stream",
     "text": [
      "('Facebook', 'Carl') :     Company Employee  Sales\n",
      "4  Facebook     Carl    243\n",
      "('Facebook', 'Sarah') :     Company Employee  Sales\n",
      "5  Facebook    Sarah    350\n",
      "('Google', 'Charlie') :   Company Employee  Sales\n",
      "1  Google  Charlie    120\n",
      "('Google', 'Sam') :   Company Employee  Sales\n",
      "0  Google      Sam    200\n",
      "('Microsoft', 'Amy') :      Company Employee  Sales\n",
      "2  Microsoft      Amy    340\n",
      "('Microsoft', 'Vanessa') :      Company Employee  Sales\n",
      "3  Microsoft  Vanessa    124\n"
     ]
    }
   ],
   "source": [
    "for name , group in res:\n",
    "    print(f'{name} : {group}')\n",
    "    "
   ]
  },
  {
   "cell_type": "code",
   "execution_count": 53,
   "id": "271e2faf",
   "metadata": {},
   "outputs": [
    {
     "name": "stdout",
     "output_type": "stream",
     "text": [
      "                      0                                                  1  \\\n",
      "0      (Facebook, Carl)      Company Employee  Sales\n",
      "4  Facebook     Ca...   \n",
      "1     (Facebook, Sarah)      Company Employee  Sales\n",
      "5  Facebook    Sar...   \n",
      "2     (Google, Charlie)    Company Employee  Sales\n",
      "1  Google  Charlie  ...   \n",
      "3         (Google, Sam)    Company Employee  Sales\n",
      "0  Google      Sam  ...   \n",
      "4      (Microsoft, Amy)       Company Employee  Sales\n",
      "2  Microsoft     ...   \n",
      "5  (Microsoft, Vanessa)       Company Employee  Sales\n",
      "3  Microsoft  Van...   \n",
      "\n",
      "    Company Employee  \n",
      "0  Facebook     Carl  \n",
      "1  Facebook     Carl  \n",
      "2  Facebook     Carl  \n",
      "3  Facebook     Carl  \n",
      "4  Facebook     Carl  \n",
      "5  Facebook     Carl  \n",
      "                      0                                                  1  \\\n",
      "0      (Facebook, Carl)      Company Employee  Sales\n",
      "4  Facebook     Ca...   \n",
      "1     (Facebook, Sarah)      Company Employee  Sales\n",
      "5  Facebook    Sar...   \n",
      "2     (Google, Charlie)    Company Employee  Sales\n",
      "1  Google  Charlie  ...   \n",
      "3         (Google, Sam)    Company Employee  Sales\n",
      "0  Google      Sam  ...   \n",
      "4      (Microsoft, Amy)       Company Employee  Sales\n",
      "2  Microsoft     ...   \n",
      "5  (Microsoft, Vanessa)       Company Employee  Sales\n",
      "3  Microsoft  Van...   \n",
      "\n",
      "    Company Employee  \n",
      "0  Facebook    Sarah  \n",
      "1  Facebook    Sarah  \n",
      "2  Facebook    Sarah  \n",
      "3  Facebook    Sarah  \n",
      "4  Facebook    Sarah  \n",
      "5  Facebook    Sarah  \n",
      "                      0                                                  1  \\\n",
      "0      (Facebook, Carl)      Company Employee  Sales\n",
      "4  Facebook     Ca...   \n",
      "1     (Facebook, Sarah)      Company Employee  Sales\n",
      "5  Facebook    Sar...   \n",
      "2     (Google, Charlie)    Company Employee  Sales\n",
      "1  Google  Charlie  ...   \n",
      "3         (Google, Sam)    Company Employee  Sales\n",
      "0  Google      Sam  ...   \n",
      "4      (Microsoft, Amy)       Company Employee  Sales\n",
      "2  Microsoft     ...   \n",
      "5  (Microsoft, Vanessa)       Company Employee  Sales\n",
      "3  Microsoft  Van...   \n",
      "\n",
      "  Company Employee  \n",
      "0  Google  Charlie  \n",
      "1  Google  Charlie  \n",
      "2  Google  Charlie  \n",
      "3  Google  Charlie  \n",
      "4  Google  Charlie  \n",
      "5  Google  Charlie  \n",
      "                      0                                                  1  \\\n",
      "0      (Facebook, Carl)      Company Employee  Sales\n",
      "4  Facebook     Ca...   \n",
      "1     (Facebook, Sarah)      Company Employee  Sales\n",
      "5  Facebook    Sar...   \n",
      "2     (Google, Charlie)    Company Employee  Sales\n",
      "1  Google  Charlie  ...   \n",
      "3         (Google, Sam)    Company Employee  Sales\n",
      "0  Google      Sam  ...   \n",
      "4      (Microsoft, Amy)       Company Employee  Sales\n",
      "2  Microsoft     ...   \n",
      "5  (Microsoft, Vanessa)       Company Employee  Sales\n",
      "3  Microsoft  Van...   \n",
      "\n",
      "  Company Employee  \n",
      "0  Google      Sam  \n",
      "1  Google      Sam  \n",
      "2  Google      Sam  \n",
      "3  Google      Sam  \n",
      "4  Google      Sam  \n",
      "5  Google      Sam  \n",
      "                      0                                                  1  \\\n",
      "0      (Facebook, Carl)      Company Employee  Sales\n",
      "4  Facebook     Ca...   \n",
      "1     (Facebook, Sarah)      Company Employee  Sales\n",
      "5  Facebook    Sar...   \n",
      "2     (Google, Charlie)    Company Employee  Sales\n",
      "1  Google  Charlie  ...   \n",
      "3         (Google, Sam)    Company Employee  Sales\n",
      "0  Google      Sam  ...   \n",
      "4      (Microsoft, Amy)       Company Employee  Sales\n",
      "2  Microsoft     ...   \n",
      "5  (Microsoft, Vanessa)       Company Employee  Sales\n",
      "3  Microsoft  Van...   \n",
      "\n",
      "     Company Employee  \n",
      "0  Microsoft      Amy  \n",
      "1  Microsoft      Amy  \n",
      "2  Microsoft      Amy  \n",
      "3  Microsoft      Amy  \n",
      "4  Microsoft      Amy  \n",
      "5  Microsoft      Amy  \n",
      "                      0                                                  1  \\\n",
      "0      (Facebook, Carl)      Company Employee  Sales\n",
      "4  Facebook     Ca...   \n",
      "1     (Facebook, Sarah)      Company Employee  Sales\n",
      "5  Facebook    Sar...   \n",
      "2     (Google, Charlie)    Company Employee  Sales\n",
      "1  Google  Charlie  ...   \n",
      "3         (Google, Sam)    Company Employee  Sales\n",
      "0  Google      Sam  ...   \n",
      "4      (Microsoft, Amy)       Company Employee  Sales\n",
      "2  Microsoft     ...   \n",
      "5  (Microsoft, Vanessa)       Company Employee  Sales\n",
      "3  Microsoft  Van...   \n",
      "\n",
      "     Company Employee  \n",
      "0  Microsoft  Vanessa  \n",
      "1  Microsoft  Vanessa  \n",
      "2  Microsoft  Vanessa  \n",
      "3  Microsoft  Vanessa  \n",
      "4  Microsoft  Vanessa  \n",
      "5  Microsoft  Vanessa  \n"
     ]
    }
   ],
   "source": [
    "to_df = []\n",
    "\n",
    "for name , group in res:\n",
    "    to_df\n",
    "\n",
    "    "
   ]
  },
  {
   "cell_type": "code",
   "execution_count": null,
   "id": "79349ff1",
   "metadata": {},
   "outputs": [],
   "source": []
  }
 ],
 "metadata": {
  "kernelspec": {
   "display_name": "Python 3 (ipykernel)",
   "language": "python",
   "name": "python3"
  },
  "language_info": {
   "codemirror_mode": {
    "name": "ipython",
    "version": 3
   },
   "file_extension": ".py",
   "mimetype": "text/x-python",
   "name": "python",
   "nbconvert_exporter": "python",
   "pygments_lexer": "ipython3",
   "version": "3.11.5"
  }
 },
 "nbformat": 4,
 "nbformat_minor": 5
}
