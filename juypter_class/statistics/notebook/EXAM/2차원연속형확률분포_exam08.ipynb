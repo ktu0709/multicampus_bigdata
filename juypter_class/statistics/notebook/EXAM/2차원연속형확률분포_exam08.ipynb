{
 "cells": [
  {
   "cell_type": "markdown",
   "id": "72a5291c",
   "metadata": {},
   "source": [
    "문제 1] 도시에서 관측된 일일 최고 기온 x와 최저 습도 y는 연속형 확률 변수로 간주한다.\n",
    "- 조건1: 결합형 확률밀도 함수가 f(x,y)가 있다고 간주하고 적분이 1이 되는지 확인한다.\n",
    "- 조건2: 기온이 25도에서 30사이이고 습도가 40%~60% 사이일 확률은?\n",
    "- 조건3: 가온과 습도가 독립적인지 판단해 보자"
   ]
  },
  {
   "cell_type": "code",
   "execution_count": null,
   "id": "d2dea8d3",
   "metadata": {},
   "outputs": [],
   "source": []
  }
 ],
 "metadata": {
  "kernelspec": {
   "display_name": "Python 3 (ipykernel)",
   "language": "python",
   "name": "python3"
  },
  "language_info": {
   "codemirror_mode": {
    "name": "ipython",
    "version": 3
   },
   "file_extension": ".py",
   "mimetype": "text/x-python",
   "name": "python",
   "nbconvert_exporter": "python",
   "pygments_lexer": "ipython3",
   "version": "3.11.5"
  }
 },
 "nbformat": 4,
 "nbformat_minor": 5
}
