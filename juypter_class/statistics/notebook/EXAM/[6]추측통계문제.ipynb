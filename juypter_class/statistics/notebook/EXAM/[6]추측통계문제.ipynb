{
 "cells": [
  {
   "cell_type": "markdown",
   "id": "1569f7d2",
   "metadata": {},
   "source": [
    "####  ex01) 어느 대학교에서 200명의 학생을 대상으로 스트레스 수준을 조사햇다. \n",
    "\n",
    "- 조건  : 이 학생들의 스트레스 수준은 평균이 50점, 표준편차가 10점인 정규 분포를 따른다고 가정한다  \n",
    "\n",
    "- 문 1 :임의로 선택한 한 학생의 스트레스 수준이 70점 이상일 확률은?  norm.cdf()\n",
    "\n",
    "- 문 2: 대학의 학생 200명 중에서 스트레스 수준이 70점 이상인 학생의 수가 30명 이상일 확률은?  binom로 이항 분포 확인"
   ]
  },
  {
   "cell_type": "code",
   "execution_count": 1,
   "id": "bdc648bf",
   "metadata": {},
   "outputs": [
    {
     "name": "stdout",
     "output_type": "stream",
     "text": [
      "1. 한 학생의 스트레스 수준이 70점 이상일 확률 0.0228\n",
      "2. 200명 중 30명 이상이 70점 이상일 확률 4.441e-16\n"
     ]
    }
   ],
   "source": [
    "from scipy.stats import norm, binom\n",
    "\n",
    "mu = 50\n",
    "sigma = 10\n",
    "\n",
    "# 1. 한 학생의 스트레스 수준이 70점 이상일 확률\n",
    "cdn01 = 1 - norm.cdf(70, mu, sigma)\n",
    "\n",
    "# 학생 수와   70점 이상의 학생 수\n",
    "n_students = 200\n",
    "n_interest = 30\n",
    "\n",
    "# 70점 이상 스트레스 수준을 가진 학생의 비율\n",
    "p_above_70 = cdn01\n",
    "\n",
    "# 2. 200명 중 30명 이상이 70점 이상일 확률\n",
    "# 이항 분포의 누적 확률 분포 함수를 사용하여 29명 이하가 70점 이상일 확률을 계산하고, 1에서 이 값을 빼줍니다.\n",
    "cdn02 = 1 - binom.cdf(n_interest - 1, n_students, p_above_70)\n",
    "\n",
    "print(f\"1. 한 학생의 스트레스 수준이 70점 이상일 확률 {cdn01:.4f}\")\n",
    "print(f\"2. 200명 중 30명 이상이 70점 이상일 확률 {cdn02:.4g}\")\n",
    "\n"
   ]
  },
  {
   "cell_type": "markdown",
   "id": "b44a323e",
   "metadata": {},
   "source": [
    "####  ex02) 어느 도시의 일일 평균 대기오염 수치는 평균이 35, 표준편차가 8인 정규 분포를 따른다고 한다.  \n",
    "- 문1: 일일 대기오염 수치가 50을 초과할 확률은?\n",
    "- 문2: 일일 대기오염 수치가 20 이하 또는 50 이상일 확률?"
   ]
  },
  {
   "cell_type": "code",
   "execution_count": 2,
   "id": "87cf71f6",
   "metadata": {},
   "outputs": [
    {
     "name": "stdout",
     "output_type": "stream",
     "text": [
      "1. 일일 대기오염 수치가 50을 초과할 확률 0.0304\n",
      "2. 일일 대기오염 수치가 20 이하 또는 50 이상일 확률 0.0608\n"
     ]
    }
   ],
   "source": [
    "from scipy.stats import norm\n",
    "\n",
    "# 평균과 표준편차\n",
    "mu = 35\n",
    "sigma = 8\n",
    "\n",
    "# 1. 일일 대기오염 수치가 50을 초과할 확률\n",
    "cdn01 = 1 - norm.cdf(50, mu, sigma)\n",
    "\n",
    "# 2. 일일 대기오염 수치가 20 이하 또는 50 이상일 확률\n",
    "cdn02 = norm.cdf(20, mu, sigma) + (1 - norm.cdf(50, mu, sigma))\n",
    "\n",
    "\n",
    "print(f\"1. 일일 대기오염 수치가 50을 초과할 확률 {cdn01:.4f}\")\n",
    "print(f\"2. 일일 대기오염 수치가 20 이하 또는 50 이상일 확률 {cdn02:.4f}\")"
   ]
  },
  {
   "cell_type": "markdown",
   "id": "c68305f6",
   "metadata": {},
   "source": [
    "#### ex03) 확률 질량함수관련 문제를 풀어보자.  \n",
    "\n",
    "- 어느 학급에는 30명의 학생이 있으며, 각 학생이 수학 시험에서 100점 만점 중 특정 점수를 받을 확률은 다음과 같다. \n",
    "\n",
    "- 조건 : 90점 이상: 0.1 ,80점 이상 90점 미만: 0.25,70점 이상 80점 미만: 0.35,70점 미만: 0.3\n",
    "\n",
    "- 이 데이터를 확률 질량함수(PMF)로 표현할 수 있다. 이 PMF를 사용하여 문제를 풀어보자.  \n",
    "\n",
    "- 문 1 :임의로 선택한 학생이 80점 이상 받을 확률은?\n",
    "\n",
    "- 문 2: 임의로 선택한 학생이 70점 미만 받을 확률은?\n",
    "-  \n",
    "- scipy.stats의 rv_discrete를 사용하여 정의된 사용자 정의 이산 확률 분포를 기반으로 하고 , 각 점수 구간확율은 PMF로 구한다."
   ]
  },
  {
   "cell_type": "code",
   "execution_count": 3,
   "id": "39f03554",
   "metadata": {},
   "outputs": [
    {
     "name": "stdout",
     "output_type": "stream",
     "text": [
      "1. 80점 이상 받을 확률 0.3500\n",
      "2. 70점 미만 받을 확률 0.3000\n"
     ]
    }
   ],
   "source": [
    "from scipy.stats import rv_discrete\n",
    "\n",
    "# 점수와 해당 확률을 정의\n",
    "xk = [90, 80, 70, 0]  # 90 이상, 80 이상 90 미만, 70 이상 80 미만, 70 미만을 대표하는 점수\n",
    "pk = [0.1, 0.25, 0.35, 0.3]  # 각 점수 구간의 확률\n",
    "\n",
    "# 이산 확률 분포 정의\n",
    "custm = rv_discrete(name='custm', values=(xk, pk))\n",
    "\n",
    "# 1. 80점 이상 받을 확률\n",
    "# '90점 이상'(90)과 '80점 이상 90점 미만'(80) 구간의 확률을 합산\n",
    "cdn01 = custm.pmf(90) + custm.pmf(80)\n",
    "\n",
    "# 2. 70점 미만 받을 확률\n",
    "# '70점 미만'(0) 구간의 확률을 직접 사용\n",
    "cdn02 = custm.pmf(0)\n",
    "\n",
    "print(f\"1. 80점 이상 받을 확률 {cdn01:.4f}\")\n",
    "print(f\"2. 70점 미만 받을 확률 {cdn02:.4f}\")"
   ]
  },
  {
   "cell_type": "code",
   "execution_count": null,
   "id": "0fbd9376",
   "metadata": {},
   "outputs": [],
   "source": []
  }
 ],
 "metadata": {
  "kernelspec": {
   "display_name": "Python 3 (ipykernel)",
   "language": "python",
   "name": "python3"
  },
  "language_info": {
   "codemirror_mode": {
    "name": "ipython",
    "version": 3
   },
   "file_extension": ".py",
   "mimetype": "text/x-python",
   "name": "python",
   "nbconvert_exporter": "python",
   "pygments_lexer": "ipython3",
   "version": "3.11.5"
  }
 },
 "nbformat": 4,
 "nbformat_minor": 5
}
