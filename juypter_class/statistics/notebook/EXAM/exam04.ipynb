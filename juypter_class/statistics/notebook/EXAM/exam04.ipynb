{
 "cells": [
  {
   "cell_type": "markdown",
   "id": "028aef67",
   "metadata": {},
   "source": [
    "# 한 게임에서 성공할 확률이 0.3인 베르누이 확률변수를 고려해보자\n",
    "- 조건1 : 게임을 4번 플레이한다\n",
    "- 조건2 : 정확히 한번만 성공할 확률\n",
    "- 조건3 : 적어도 한번은 성공할 확률\n",
    "- 조건4 ; 모두 실패할 확률"
   ]
  },
  {
   "cell_type": "code",
   "execution_count": 51,
   "id": "1023d70e",
   "metadata": {},
   "outputs": [],
   "source": [
    "import numpy as np\n",
    "from scipy.stats import bernoulli,binom\n",
    "\n",
    "%precision 3\n",
    "%matplotlib inline\n",
    "#bernoulli -> 각각 시행을 독립적으로 "
   ]
  },
  {
   "cell_type": "code",
   "execution_count": 57,
   "id": "92b5a434",
   "metadata": {},
   "outputs": [
    {
     "data": {
      "text/plain": [
       "array([[0, 1, 0, 0],\n",
       "       [0, 0, 0, 1],\n",
       "       [0, 0, 0, 0],\n",
       "       ...,\n",
       "       [1, 0, 1, 0],\n",
       "       [1, 1, 0, 0],\n",
       "       [1, 0, 0, 0]], dtype=int64)"
      ]
     },
     "execution_count": 57,
     "metadata": {},
     "output_type": "execute_result"
    }
   ],
   "source": [
    "#정확히 한번만 성공할 확률\n",
    "p=0.3\n",
    "n=4\n",
    "count = 10000\n",
    "rv = bernoulli.rvs(p,size=(count,n))\n",
    "rv"
   ]
  },
  {
   "cell_type": "code",
   "execution_count": 59,
   "id": "17671456",
   "metadata": {},
   "outputs": [
    {
     "data": {
      "text/plain": [
       "0.406"
      ]
     },
     "execution_count": 59,
     "metadata": {},
     "output_type": "execute_result"
    }
   ],
   "source": [
    "cdn2 = np.mean(np.sum(rv,axis=1)==1)\n",
    "cdn2"
   ]
  },
  {
   "cell_type": "code",
   "execution_count": 65,
   "id": "3692cf45",
   "metadata": {},
   "outputs": [
    {
     "data": {
      "text/plain": [
       "0.759"
      ]
     },
     "execution_count": 65,
     "metadata": {},
     "output_type": "execute_result"
    }
   ],
   "source": [
    "#cdn3 = np.mean(np.sum(rv,axis=1)>=1)\n",
    "cdn3 = 1 - np.mean(np.sum(rv,axis=1)==0)\n",
    "cdn3"
   ]
  },
  {
   "cell_type": "code",
   "execution_count": 62,
   "id": "fe033734",
   "metadata": {},
   "outputs": [
    {
     "data": {
      "text/plain": [
       "0.241"
      ]
     },
     "execution_count": 62,
     "metadata": {},
     "output_type": "execute_result"
    }
   ],
   "source": [
    "cdn4 = np.mean(np.sum(rv,axis=1)==0)\n",
    "cdn4"
   ]
  },
  {
   "cell_type": "code",
   "execution_count": 55,
   "id": "6300cda3",
   "metadata": {},
   "outputs": [
    {
     "name": "stdout",
     "output_type": "stream",
     "text": [
      "0.4116000000000001 0.7598999999999999 0.24010000000000006\n"
     ]
    }
   ],
   "source": [
    "print (cdn2,cdn3,cdn4)"
   ]
  },
  {
   "cell_type": "code",
   "execution_count": 66,
   "id": "6e2769ea",
   "metadata": {},
   "outputs": [
    {
     "data": {
      "text/plain": [
       "(0.000, 0.000, 1.000)"
      ]
     },
     "execution_count": 66,
     "metadata": {},
     "output_type": "execute_result"
    }
   ],
   "source": [
    "from scipy.stats import bernoulli\n",
    "p = 0.3\n",
    "n = 4\n",
    "\n",
    "all_combinations = np.array(np.meshgrid(*([bernoulli.rvs(p, size=n)]*n))).T.reshape(-1,n)\n",
    "\n",
    "# 1. 정확히 한 번만 성공하는 확률\n",
    "successes = np.sum(all_combinations, axis=1)\n",
    "prob_exactly_one_success = np.mean(successes == 1)\n",
    "\n",
    "# 2. 적어도 한 번은 성공하는 확률\n",
    "prob_at_least_one_success = np.mean(successes > 0)\n",
    "\n",
    "# 3. 모든 시도에서 실패하는 확률\n",
    "prob_all_failures = np.mean(successes == 0)\n",
    "\n",
    "prob_exactly_one_success, prob_at_least_one_success, prob_all_failures"
   ]
  },
  {
   "cell_type": "code",
   "execution_count": 67,
   "id": "e2ddedb8",
   "metadata": {},
   "outputs": [],
   "source": [
    "# 정확히 한번만 성공하는 경우는 시물레이션하여 , -n번의 시행중 한번만 성공한 경우가 몇번 있는지 계산하는 것"
   ]
  },
  {
   "cell_type": "code",
   "execution_count": null,
   "id": "68bdfea9",
   "metadata": {},
   "outputs": [],
   "source": []
  }
 ],
 "metadata": {
  "kernelspec": {
   "display_name": "Python 3 (ipykernel)",
   "language": "python",
   "name": "python3"
  },
  "language_info": {
   "codemirror_mode": {
    "name": "ipython",
    "version": 3
   },
   "file_extension": ".py",
   "mimetype": "text/x-python",
   "name": "python",
   "nbconvert_exporter": "python",
   "pygments_lexer": "ipython3",
   "version": "3.11.5"
  }
 },
 "nbformat": 4,
 "nbformat_minor": 5
}
