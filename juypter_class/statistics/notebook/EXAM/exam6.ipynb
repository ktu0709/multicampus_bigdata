{
 "cells": [
  {
   "cell_type": "markdown",
   "id": "1bbabe9a",
   "metadata": {},
   "source": [
    "ex01) 어느 대학교에서 200명의 학생을 대상으로 스트레스 수준을 조사햇다.  \n",
    "조건 : 이 학생들의 스트레스 수준은 평균이 50점, 표준편차가 10점인 정규 분포를 따른다고 가정한다  \n",
    "문 1 :임의로 선택한 한 학생의 스트레스 수준이 70점 이상일 확률은? norm.cdf()  \n",
    "문 2: 대학의 학생 200명 중에서 스트레스 수준이 70점 이상인 학생의 수가 30명 이상일 확률은? binom로 이항 분포 확인  \n",
    "\n",
    "ex02) 어느 도시의 일일 평균 대기오염 수치는 평균이 35, 표준편차가 8인 정규 분포를 따른다고 한다.  \n",
    "문1: 일일 대기오염 수치가 50을 초과할 확률은?  \n",
    "문2: 일일 대기오염 수치가 20 이하 또는 50 이상일 확률?  \n",
    "\n",
    "ex03) 확률 질량함수관련 문제를 풀어보자.  \n",
    "어느 학급에는 30명의 학생이 있으며, 각 학생이 수학 시험에서 100점 만점 중 특정 점수를 받을 확률은 다음과 같다.  \n",
    "조건 : 90점 이상: 0.1 ,80점 이상 90점 미만: 0.25,70점 이상 80점 미만: 0.35,70점 미만: 0.3  \n",
    "이 데이터를 확률 질량함수(PMF)로 표현할 수 있다. 이 PMF를 사용하여 문제를 풀어보자.  \n",
    "문 1 :임의로 선택한 학생이 80점 이상 받을 확률은?  \n",
    "문 2: 임의로 선택한 학생이 70점 미만 받을 확률은?  \n",
    "scipy.stats의 rv_discrete를 사용하여 정의된 사용자 정의 이산 확률 분포를 기반으로 하고 , 각 점수 구간확율은 PMF로 구한다.  "
   ]
  },
  {
   "cell_type": "code",
   "execution_count": 33,
   "id": "9701f3ce",
   "metadata": {},
   "outputs": [],
   "source": [
    "import numpy as np\n",
    "from scipy.stats import bernoulli,binom,norm\n",
    "%precision 3\n",
    "%matplotlib inline"
   ]
  },
  {
   "cell_type": "code",
   "execution_count": 42,
   "id": "c2e79590",
   "metadata": {},
   "outputs": [
    {
     "name": "stdout",
     "output_type": "stream",
     "text": [
      "0.02275013194817921\n",
      "0.9999999999999999\n"
     ]
    }
   ],
   "source": [
    "#1\n",
    "mean = 50\n",
    "std = 10\n",
    "cdn1 = 1- norm.cdf(70,mean,std)\n",
    "print(cdn1) #문1\n",
    "print(binom.cdf(30, 200, cdn1)) #문2"
   ]
  },
  {
   "cell_type": "code",
   "execution_count": 35,
   "id": "be3e9aaa",
   "metadata": {},
   "outputs": [
    {
     "name": "stdout",
     "output_type": "stream",
     "text": [
      "0.030396361765261393\n",
      "0.9392072764694772\n"
     ]
    }
   ],
   "source": [
    "#2\n",
    "mean = 35\n",
    "std = 8\n",
    "print(1- norm.cdf(50,mean,std)) #문1\n",
    "print(norm.cdf(50,mean,std) -  norm.cdf(20,mean,std)) #문2"
   ]
  },
  {
   "cell_type": "code",
   "execution_count": 54,
   "id": "9f6b03ab",
   "metadata": {},
   "outputs": [
    {
     "name": "stdout",
     "output_type": "stream",
     "text": [
      "0.35\n",
      "0.3\n"
     ]
    }
   ],
   "source": [
    "#3\n",
    "from scipy.stats import rv_discrete\n",
    "\n",
    "xk = (90,80,70,0)\n",
    "#xk = np.arange(4)\n",
    "pk = (0.1,0.25,0.35,0.3)\n",
    "\n",
    "grade = rv_discrete(name='grade', values=(xk, pk))\n",
    "\n",
    "print(1-grade.pmf(80)) #문1\n",
    "print(1-grade.pmf(70)) #문2\n"
   ]
  },
  {
   "cell_type": "code",
   "execution_count": null,
   "id": "15b54591",
   "metadata": {},
   "outputs": [],
   "source": []
  }
 ],
 "metadata": {
  "kernelspec": {
   "display_name": "Python 3 (ipykernel)",
   "language": "python",
   "name": "python3"
  },
  "language_info": {
   "codemirror_mode": {
    "name": "ipython",
    "version": 3
   },
   "file_extension": ".py",
   "mimetype": "text/x-python",
   "name": "python",
   "nbconvert_exporter": "python",
   "pygments_lexer": "ipython3",
   "version": "3.11.5"
  }
 },
 "nbformat": 4,
 "nbformat_minor": 5
}
