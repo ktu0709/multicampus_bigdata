{
 "cells": [
  {
   "cell_type": "code",
   "execution_count": 2,
   "id": "e7341aba",
   "metadata": {},
   "outputs": [],
   "source": [
    "from scipy.stats import t\n",
    "import numpy as np\n",
    "import matplotlib.pyplot as plt"
   ]
  },
  {
   "cell_type": "markdown",
   "id": "7eecf7a5",
   "metadata": {},
   "source": [
    "문제] 혈압에 대한 새로운 건강 보조식품을 효과를 연구하려고 한다  \n",
    "10명에 참가자로 구성된 소규모 표본을 대상으로 실험을 수행한다  \n",
    "보충제를 복용한지 몇주 후에 각 참가자에 수축기 혈압 감소를 측정한다  \n",
    "결과(mmhg)는 다음과 같다\n",
    "혈압감소 : 5,7,6,4,9,6,4,8,5,7\n",
    "\n",
    "- 조건1 : 혈압감소는 정규분포를 따르지만 모집간 편차는 알수 없다고 가정한다\n",
    "- 조건2 : 일표번 t-검정을 수행하여 평균 혈압 감소가 0과 크게 다른지 확인한다\n",
    "- 조건3 : 유의수준 0.05\n"
   ]
  },
  {
   "cell_type": "markdown",
   "id": "c98650b6",
   "metadata": {},
   "source": [
    "문제 해결 방법\n",
    "- 1. 표본 평균 및 표준편차 계산\n",
    "- 2. 가설 테스트 검정\n",
    "- 3. 테스트 통과 계산\n",
    "- 4. 임계값 또는 p-값 결정\n",
    "- 5. 결정 : 검정 통계량이 임계값을 초과하거나 p-값이 0.05 미만의 경우 귀무가설 기각한다"
   ]
  },
  {
   "cell_type": "code",
   "execution_count": 4,
   "id": "ddc7be76",
   "metadata": {},
   "outputs": [],
   "source": [
    "# t-분포 , 가설검정 , 평균 및 표준 편차 통합계산"
   ]
  },
  {
   "cell_type": "code",
   "execution_count": 3,
   "id": "7d8e3e33",
   "metadata": {},
   "outputs": [
    {
     "data": {
      "text/plain": [
       "array([0.00413447, 0.00290541, 0.00341522, 0.00522299, 0.00223202,\n",
       "       0.00341522, 0.00522299, 0.00252564, 0.00413447, 0.00290541])"
      ]
     },
     "execution_count": 3,
     "metadata": {},
     "output_type": "execute_result"
    }
   ],
   "source": [
    "x =(5,7,6,4,9,6,4,8,5,7)\n",
    "t.pdf(x,df=0.05)"
   ]
  },
  {
   "cell_type": "code",
   "execution_count": null,
   "id": "fbb24f1f",
   "metadata": {},
   "outputs": [],
   "source": []
  }
 ],
 "metadata": {
  "kernelspec": {
   "display_name": "Python 3 (ipykernel)",
   "language": "python",
   "name": "python3"
  },
  "language_info": {
   "codemirror_mode": {
    "name": "ipython",
    "version": 3
   },
   "file_extension": ".py",
   "mimetype": "text/x-python",
   "name": "python",
   "nbconvert_exporter": "python",
   "pygments_lexer": "ipython3",
   "version": "3.11.5"
  }
 },
 "nbformat": 4,
 "nbformat_minor": 5
}
