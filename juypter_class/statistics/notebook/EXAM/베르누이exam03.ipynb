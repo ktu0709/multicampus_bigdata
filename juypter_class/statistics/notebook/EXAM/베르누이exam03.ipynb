{
 "cells": [
  {
   "cell_type": "markdown",
   "id": "8879379c",
   "metadata": {},
   "source": [
    "# 한 게임에서 성공할 확률이 0.3인 베르누이 확률변수를 고려해보자\n",
    "- 조건1 : 게임을 4번 플레이한다\n",
    "- 조건2 : 정확히 한번만 성공할 확률\n",
    "- 조건3 : 적어도 한번은 성공할 확률\n",
    "- 조건4 ; 모두 실패할 확률"
   ]
  },
  {
   "cell_type": "code",
   "execution_count": 1,
   "id": "40de07ff",
   "metadata": {},
   "outputs": [],
   "source": [
    "import numpy as np\n",
    "from scipy.stats import bernoulli,binom\n",
    "\n",
    "%precision 3\n",
    "%matplotlib inline"
   ]
  },
  {
   "cell_type": "code",
   "execution_count": 2,
   "id": "935b39ef",
   "metadata": {},
   "outputs": [],
   "source": [
    "#정확히 한번만 성공할 확률\n",
    "p=0.3\n",
    "n=4\n",
    "cdn2 = binom.pmf(1,n,p)"
   ]
  },
  {
   "cell_type": "code",
   "execution_count": 3,
   "id": "46d2a615",
   "metadata": {},
   "outputs": [],
   "source": [
    "#작어도 한번은 성공할 확률 = 모두 실패할 경우의 여사건으로 1에서 모두실패 확률을 뺀다\n",
    "cdn3 = 1 - binom.pmf(0,n,p)"
   ]
  },
  {
   "cell_type": "code",
   "execution_count": 4,
   "id": "ae054bf9",
   "metadata": {},
   "outputs": [],
   "source": [
    "cdn4 = binom.pmf(0,n,p)"
   ]
  },
  {
   "cell_type": "code",
   "execution_count": 5,
   "id": "b5cf3016",
   "metadata": {},
   "outputs": [
    {
     "name": "stdout",
     "output_type": "stream",
     "text": [
      "0.4116000000000001 0.7598999999999999 0.24010000000000006\n"
     ]
    }
   ],
   "source": [
    "print (cdn2,cdn3,cdn4)"
   ]
  },
  {
   "cell_type": "code",
   "execution_count": 7,
   "id": "07c792ca",
   "metadata": {},
   "outputs": [
    {
     "data": {
      "text/plain": [
       "(0.422, 0.684, 0.316)"
      ]
     },
     "execution_count": 7,
     "metadata": {},
     "output_type": "execute_result"
    }
   ],
   "source": [
    "from scipy.stats import bernoulli\n",
    "p = 0.3\n",
    "n = 4\n",
    "\n",
    "all_combinations = np.array(np.meshgrid(*([bernoulli.rvs(p, size=n)]*n))).T.reshape(-1,n)\n",
    "\n",
    "# 1. 정확히 한 번만 성공하는 확률\n",
    "successes = np.sum(all_combinations, axis=1)\n",
    "prob_exactly_one_success = np.mean(successes == 1)\n",
    "\n",
    "# 2. 적어도 한 번은 성공하는 확률\n",
    "prob_at_least_one_success = np.mean(successes > 0)\n",
    "\n",
    "# 3. 모든 시도에서 실패하는 확률\n",
    "prob_all_failures = np.mean(successes == 0)\n",
    "\n",
    "prob_exactly_one_success, prob_at_least_one_success, prob_all_failures"
   ]
  },
  {
   "cell_type": "code",
   "execution_count": 8,
   "id": "3307a16b",
   "metadata": {},
   "outputs": [],
   "source": [
    "# 정확히 한번만 성공하는 경우는 시물레이션하여 , -n번의 시행중 한번만 성공한 경우가 몇번 있는지 계산하는 것"
   ]
  },
  {
   "cell_type": "code",
   "execution_count": null,
   "id": "86ca683a",
   "metadata": {},
   "outputs": [],
   "source": []
  }
 ],
 "metadata": {
  "kernelspec": {
   "display_name": "Python 3 (ipykernel)",
   "language": "python",
   "name": "python3"
  },
  "language_info": {
   "codemirror_mode": {
    "name": "ipython",
    "version": 3
   },
   "file_extension": ".py",
   "mimetype": "text/x-python",
   "name": "python",
   "nbconvert_exporter": "python",
   "pygments_lexer": "ipython3",
   "version": "3.11.5"
  }
 },
 "nbformat": 4,
 "nbformat_minor": 5
}
