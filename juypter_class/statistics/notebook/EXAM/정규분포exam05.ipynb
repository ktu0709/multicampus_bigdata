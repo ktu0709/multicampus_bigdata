{
 "cells": [
  {
   "cell_type": "markdown",
   "id": "f5e92562",
   "metadata": {},
   "source": [
    "# 정규븐포 문제를 풀어보자\n",
    "- 평균이 100이고 표준편차 15인 정규분포를 만들어보자\n",
    "- 조간1 :임의 사람의 점수가 124보다 높을 확률은 얼마인가?\n",
    "- 조건2 : 임의 사람의 점수가 90과 110사이일 확률은 얼마인가? \n",
    "- norm.cdf() = 누적 분포함수 함수로 구한다 -> 확률변수가 특정값 이하가 될 확률을 나타낸다"
   ]
  },
  {
   "cell_type": "code",
   "execution_count": 69,
   "id": "3587b44b",
   "metadata": {},
   "outputs": [],
   "source": [
    "import numpy as np\n",
    "from scipy.stats import bernoulli,binom,norm\n",
    "\n",
    "%precision 3\n",
    "%matplotlib inline\n",
    "#bernoulli -> 각각 시행을 독립적으로 "
   ]
  },
  {
   "cell_type": "code",
   "execution_count": 81,
   "id": "f11d6fa9",
   "metadata": {},
   "outputs": [],
   "source": [
    "#정확히 한번만 성공할 확률\n",
    "mean= 100\n",
    "var = 15"
   ]
  },
  {
   "cell_type": "code",
   "execution_count": 94,
   "id": "e011e3a1",
   "metadata": {},
   "outputs": [
    {
     "data": {
      "text/plain": [
       "1.000"
      ]
     },
     "execution_count": 94,
     "metadata": {},
     "output_type": "execute_result"
    }
   ],
   "source": [
    "#1\n",
    "1 - norm.cdf(124,mean,var)"
   ]
  },
  {
   "cell_type": "code",
   "execution_count": 85,
   "id": "1d83b574",
   "metadata": {},
   "outputs": [
    {
     "data": {
      "text/plain": [
       "0.495"
      ]
     },
     "execution_count": 85,
     "metadata": {},
     "output_type": "execute_result"
    }
   ],
   "source": [
    "#2\n",
    "norm.cdf(110,mean,var) -  norm.cdf(90,mean,var)"
   ]
  },
  {
   "cell_type": "markdown",
   "id": "8880b0fe",
   "metadata": {},
   "source": [
    "# 정규분포\n",
    "- 한 도시의 성인 남성의 평균 신장이 175cm 이고 표준 편차가 7cm인 정슈 분포를 따른다고 한다\n",
    "- 조건1 : 이 도시의 성인 남성 중에서 키가 160cm이하인 사람의 비율은 얼마인가?\n",
    "- 조건2 : 이 도시의 성인 남성 중 상위 15%에 해당하는 키는 몇cm 인가? norm.ppf -> 누적 분포함수의 역함수"
   ]
  },
  {
   "cell_type": "code",
   "execution_count": 86,
   "id": "e9e6c7db",
   "metadata": {},
   "outputs": [],
   "source": [
    "mean= 175\n",
    "var = 7"
   ]
  },
  {
   "cell_type": "code",
   "execution_count": 92,
   "id": "c03290aa",
   "metadata": {},
   "outputs": [
    {
     "data": {
      "text/plain": [
       "0.016"
      ]
     },
     "execution_count": 92,
     "metadata": {},
     "output_type": "execute_result"
    }
   ],
   "source": [
    "#1\n",
    "norm.cdf(160,mean,var)"
   ]
  },
  {
   "cell_type": "code",
   "execution_count": 93,
   "id": "4725b6a0",
   "metadata": {},
   "outputs": [
    {
     "data": {
      "text/plain": [
       "182.255"
      ]
     },
     "execution_count": 93,
     "metadata": {},
     "output_type": "execute_result"
    }
   ],
   "source": [
    "#2\n",
    "norm.ppf(0.85,mean,var)"
   ]
  },
  {
   "cell_type": "code",
   "execution_count": null,
   "id": "75d6a92a",
   "metadata": {},
   "outputs": [],
   "source": []
  }
 ],
 "metadata": {
  "kernelspec": {
   "display_name": "Python 3 (ipykernel)",
   "language": "python",
   "name": "python3"
  },
  "language_info": {
   "codemirror_mode": {
    "name": "ipython",
    "version": 3
   },
   "file_extension": ".py",
   "mimetype": "text/x-python",
   "name": "python",
   "nbconvert_exporter": "python",
   "pygments_lexer": "ipython3",
   "version": "3.11.5"
  }
 },
 "nbformat": 4,
 "nbformat_minor": 5
}
