{
 "cells": [
  {
   "cell_type": "markdown",
   "id": "8ba6cc3e",
   "metadata": {},
   "source": [
    "### 통계 : 데이터를 수집하고 분석,해석 표현하는 방법론 \n",
    "- 데이터에서 유의미한 정보를 추출하고 결론을 도출해서 불확실성을 정량화한다\n",
    "- 1) 기술통계 : 데이터 집합의 주요특성 요약.평균,중앙값,모드,분산,표준편차등\n",
    "- 2) 추론통계 : 샘플 데이터를 기반으로 전체 모집단에 대한 추론, 가설검정,신뢰구간,회귀 분석등\n",
    "- 3) 확률 모델링 : 데이터가 발생하는 확률적 모델링 (확률 이론) , 조건부확률, 확률분포"
   ]
  },
  {
   "cell_type": "markdown",
   "id": "9456fadb",
   "metadata": {},
   "source": [
    "### 데이터 분석에 관련된 통계 개념 기법\n",
    "- 회귀분석 : 변수간의 관계를 모델링하고 예측하는 것 (선형회귀,다중회귀)\n",
    "- 시계열분석 : 시간에 따라 변화하는 데이터의 패턴을 분석하는 것 (추세, 계절성)\n",
    "- 실험된 디자인 : 수집 데이터 방법을 계획하고 실험을 통해 유효성 도출\n",
    "- 분류 : 데이터를 미리 정의된 범주로 분류되는 것 (로지스틱회귀 , 의사결정등 )\n",
    "- 군집분석 : 유사한 특성을 가진 데이터 그룹식별, (SVM , knn)\n",
    "- 주성분 분석 PCA : 다차원 데이터의 차원을 축소하는 기능\n",
    "- 비모수 분석 : 모수적 가정을 하지 않는 데이터의 분석 방법\n",
    "- 생존 분석 : 시간에 따른 사건 발생 분석에 사용\n",
    "- 데이터 시각화"
   ]
  },
  {
   "cell_type": "markdown",
   "id": "0e7d1fbb",
   "metadata": {},
   "source": [
    "### 전처리(Preprocessing)\n",
    "* 원본 raw 데이터의 품질이 좋지 않아서 가공하여 데이터의 품질을 향상시키는 과정\n",
    "\n",
    "#### 피처 스케일링\n",
    "#### (1) 표준화(Standardization) : 데이터가 평균으로 부터 얼마나 떨어져 있는지를 나타내는 값으로, 특정 범위를 벗어난 데이터를 이상치(outlier)로 간주하여 제거 한다, StandardScaler 사용, Z = (X - mean())/std()  , 정규분포, 가우시안분포(평균=0,분산=1)\n",
    "\n",
    "#### (2) 정규화(Normalization) : 데이터의 범위를 일치시키거나 분포를 유사하게 만들어 주는 기능, 데이터의 범위를 0 ~ 1사이의 값으로 변환, MinMaxScaler, Z = (X-min())/(max()-min())\n"
   ]
  },
  {
   "cell_type": "markdown",
   "id": "9ca4fc8a",
   "metadata": {},
   "source": [
    "### 데이터 분석 절차\n",
    "#### 데이터를 표준화를 통해 outlier를 제거하고, 그 다음에 데이터 정규화를하여 상대적 크기의 영향력을 줄인 다음 분석을 시작한다"
   ]
  },
  {
   "cell_type": "code",
   "execution_count": 1,
   "id": "b36d3404",
   "metadata": {},
   "outputs": [],
   "source": [
    "import numpy as np\n",
    "import pandas as pd\n",
    "import matplotlib.pyplot as plt"
   ]
  },
  {
   "cell_type": "markdown",
   "id": "0bd774ba",
   "metadata": {},
   "source": [
    "### 표준화(Standardization) (이상치 값을 제거)"
   ]
  },
  {
   "cell_type": "code",
   "execution_count": 2,
   "id": "bda46606",
   "metadata": {},
   "outputs": [
    {
     "name": "stdout",
     "output_type": "stream",
     "text": [
      "raw_data:\n",
      " [[641 693 443 327]\n",
      " [ 55 133 970 123]\n",
      " [101 921 940 282]]\n",
      "numpy standardized data:\n",
      " [[ 1.41068646  0.3342592  -1.41239633  0.94846304]\n",
      " [-0.79178849 -1.35717292  0.76826636 -1.38269913]\n",
      " [-0.61889797  1.02291371  0.64412997  0.43423609]]\n"
     ]
    }
   ],
   "source": [
    "# (1) numpy 를 이용한 표준화\n",
    "# Z = (X - mean())/std()\n",
    "data = np.random.randint(1000,size=(3,4))  # 0~999까지의 정수 ,(3,4) 2차원 배열\n",
    "print('raw_data:\\n',data)\n",
    "\n",
    "data_stand_np = (data - np.mean(data,axis=0))/np.std(data,axis=0)\n",
    "print('numpy standardized data:\\n',data_stand_np)"
   ]
  },
  {
   "cell_type": "code",
   "execution_count": 3,
   "id": "227f01b9",
   "metadata": {},
   "outputs": [
    {
     "name": "stdout",
     "output_type": "stream",
     "text": [
      "scipy standardized data:\n",
      " [[ 1.41068646  0.3342592  -1.41239633  0.94846304]\n",
      " [-0.79178849 -1.35717292  0.76826636 -1.38269913]\n",
      " [-0.61889797  1.02291371  0.64412997  0.43423609]]\n"
     ]
    }
   ],
   "source": [
    "# (2) scipy.stats 를 이용한 표준화 : zscore()\n",
    "import scipy.stats as ss\n",
    "\n",
    "data_stand_ss = ss.zscore(data)\n",
    "print('scipy standardized data:\\n',data_stand_ss)"
   ]
  },
  {
   "cell_type": "code",
   "execution_count": 4,
   "id": "03cf9677",
   "metadata": {},
   "outputs": [
    {
     "name": "stdout",
     "output_type": "stream",
     "text": [
      "sklearn standardized data:\n",
      " [[ 1.41068646  0.3342592  -1.41239633  0.94846304]\n",
      " [-0.79178849 -1.35717292  0.76826636 -1.38269913]\n",
      " [-0.61889797  1.02291371  0.64412997  0.43423609]]\n",
      "sklearn standardized data:\n",
      " [[ 1.41068646  0.3342592  -1.41239633  0.94846304]\n",
      " [-0.79178849 -1.35717292  0.76826636 -1.38269913]\n",
      " [-0.61889797  1.02291371  0.64412997  0.43423609]]\n"
     ]
    }
   ],
   "source": [
    "# (3) sklearn.preprocessing 를  이용한 표준화\n",
    "# StandardScaler().fit_transform()  (fit() --> transform())\n",
    "\n",
    "from sklearn.preprocessing import StandardScaler\n",
    "\n",
    "data_stand_skl = StandardScaler().fit_transform(data)\n",
    "print('sklearn standardized data:\\n',data_stand_skl)\n",
    "\n",
    "# 동일한 구현\n",
    "sc = StandardScaler()    # 클래스의 인스턴스를 생성\n",
    "sc.fit(data)\n",
    "data_stand_skl = sc.transform(data)\n",
    "print('sklearn standardized data:\\n',data_stand_skl)"
   ]
  },
  {
   "cell_type": "markdown",
   "id": "95550514",
   "metadata": {},
   "source": [
    "### 정규화(Normalization)"
   ]
  },
  {
   "cell_type": "code",
   "execution_count": 5,
   "id": "de3e729b",
   "metadata": {},
   "outputs": [
    {
     "name": "stdout",
     "output_type": "stream",
     "text": [
      "numpy minmax data:\n",
      " [[1.         0.7106599  0.         1.        ]\n",
      " [0.         0.         1.         0.        ]\n",
      " [0.07849829 1.         0.943074   0.77941176]]\n"
     ]
    }
   ],
   "source": [
    "# (1) numpy를 이용한 정규화 : 0 ~ 1 범위\n",
    "# Z = (X-min())/(max()-min())\n",
    "\n",
    "data_minmax_np = (data - np.min(data,axis=0))/(np.max(data,axis=0) \n",
    "                                               - np.min(data,axis=0))\n",
    "print('numpy minmax data:\\n',data_minmax_np)"
   ]
  },
  {
   "cell_type": "code",
   "execution_count": 6,
   "id": "7d752148",
   "metadata": {},
   "outputs": [
    {
     "name": "stdout",
     "output_type": "stream",
     "text": [
      "sklearn minmax data:\n",
      " [[1.         0.7106599  0.         1.        ]\n",
      " [0.         0.         1.         0.        ]\n",
      " [0.07849829 1.         0.943074   0.77941176]]\n",
      "sklearn minmax data:\n",
      " [[1.         0.7106599  0.         1.        ]\n",
      " [0.         0.         1.         0.        ]\n",
      " [0.07849829 1.         0.943074   0.77941176]]\n"
     ]
    }
   ],
   "source": [
    "# (2) sklearn.preprocessing 를  이용한 정규화\n",
    "# MinMaxScaler 클래스 : fit_transform() (fit() -> transform())\n",
    "\n",
    "from sklearn.preprocessing import MinMaxScaler\n",
    "\n",
    "data_minmax_skl = MinMaxScaler().fit_transform(data)\n",
    "print('sklearn minmax data:\\n',data_minmax_skl)\n",
    "\n",
    "# 동일한 구현\n",
    "sc = MinMaxScaler()    # 클래스의 인스턴스를 생성\n",
    "sc.fit(data) #정규화 (return X)\n",
    "data_minmax_skl = sc.transform(data) #배열로 리턴\n",
    "print('sklearn minmax data:\\n',data_minmax_skl)"
   ]
  },
  {
   "cell_type": "code",
   "execution_count": 7,
   "id": "f5158a85",
   "metadata": {},
   "outputs": [
    {
     "name": "stdout",
     "output_type": "stream",
     "text": [
      "fit: my_data\n",
      "transform: my_data\n"
     ]
    },
    {
     "data": {
      "text/plain": [
       "'my_data'"
      ]
     },
     "execution_count": 7,
     "metadata": {},
     "output_type": "execute_result"
    }
   ],
   "source": [
    "# fit_transform() 메서드\n",
    "from sklearn.base import TransformerMixin\n",
    "\n",
    "class A(TransformerMixin):\n",
    "    def fit(self,X):\n",
    "        print('fit:',X)\n",
    "        return self\n",
    "    \n",
    "    def transform(self,X):\n",
    "        print('transform:',X)\n",
    "        return X\n",
    "\n",
    "inst = A()  # 클래스의 인스턴스 생성\n",
    "# inst.fit('x_data')\n",
    "# inst.transform('y_data')\n",
    "inst.fit_transform('my_data')"
   ]
  },
  {
   "cell_type": "markdown",
   "id": "73ca7abf",
   "metadata": {},
   "source": [
    "### 이상치를 제거하여 표준화 하기"
   ]
  },
  {
   "cell_type": "code",
   "execution_count": 8,
   "id": "fe7336fa",
   "metadata": {},
   "outputs": [
    {
     "name": "stdout",
     "output_type": "stream",
     "text": [
      "-2.131712108481604 2.467651056434603\n"
     ]
    },
    {
     "data": {
      "image/png": "[encoded data removed]",
      "text/plain": [
       "<Figure size 640x480 with 1 Axes>"
      ]
     },
     "metadata": {},
     "output_type": "display_data"
    }
   ],
   "source": [
    "np.random.seed(10)\n",
    "data = np.random.randn(100)   # 정규 분포를 이루는 random, 100개\n",
    "#print('raw_data:\\n',data)\n",
    "print(np.min(data),np.max(data))\n",
    "plt.hist(data)    # 정규성이 있다\n",
    "plt.show()"
   ]
  },
  {
   "cell_type": "code",
   "execution_count": 9,
   "id": "7f70571a",
   "metadata": {},
   "outputs": [
    {
     "name": "stdout",
     "output_type": "stream",
     "text": [
      "insert outlier data\n",
      " [ 1.33158650e+00  7.15278974e-01 -1.54540029e+00 -8.38384993e-03\n",
      "  6.21335974e-01 -7.20085561e-01  2.65511586e-01  1.08548526e-01\n",
      "  4.29143093e-03 -1.74600211e-01  4.33026190e-01  1.20303737e+00\n",
      " -9.65065671e-01  1.02827408e+00  2.28630130e-01  4.45137613e-01\n",
      " -1.13660221e+00  1.35136878e-01  1.48453700e+00 -1.07980489e+00\n",
      " -1.97772828e+00 -1.74337230e+00  2.66070164e-01  2.38496733e+00\n",
      "  1.12369125e+00  1.67262221e+00  9.91492158e-02  1.39799638e+00\n",
      " -2.71247988e-01  6.13204185e-01 -2.67317189e-01 -5.49309014e-01\n",
      "  1.32708296e-01 -4.76142015e-01  1.30847308e+00  1.95013279e-01\n",
      "  4.00209988e-01 -3.37632337e-01  1.25647226e+00 -7.31969502e-01\n",
      "  6.60231551e-01 -3.50871891e-01 -9.39433360e-01 -4.89337217e-01\n",
      " -8.04591142e-01 -2.12697639e-01 -3.39140246e-01  3.12169936e-01\n",
      "  5.65152670e-01 -1.47420258e-01 -2.59053368e-02  2.89094204e-01\n",
      " -5.39879071e-01  7.08160020e-01  8.42224738e-01  2.03580797e-01\n",
      "  2.39470366e+00  9.17458938e-01 -1.12272471e-01 -3.62180447e-01\n",
      " -2.32182256e-01 -5.01728900e-01  1.12878515e+00 -6.97810030e-01\n",
      " -8.11221838e-02 -5.29296081e-01  1.04618286e+00 -1.41855603e+00\n",
      " -3.62499183e-01 -1.21905691e-01  3.19356421e-01  4.60902902e-01\n",
      " -2.15789892e-01  9.89072457e-01  3.14753779e-01  2.46765106e+00\n",
      " -1.50832149e+00  6.20600663e-01 -1.04513254e+00 -7.98008818e-01\n",
      "  1.98508459e+00  1.74481415e+00 -1.85618548e+00 -2.22773699e-01\n",
      " -6.58478477e-02 -2.13171211e+00 -4.88305113e-02  3.93341217e-01\n",
      "  2.17265145e-01 -1.99439377e+00  1.10770823e+00  2.44543977e-01\n",
      " -6.19120295e-02 -7.53892961e-01  7.11959017e-01  9.18269151e-01\n",
      " -4.82093139e-01  8.95876126e-02  1.00000000e+02  1.00000000e+02]\n",
      "-2.131712108481604 100.0\n"
     ]
    },
    {
     "data": {
      "image/png": "[encoded data removed]",
      "text/plain": [
       "<Figure size 640x480 with 1 Axes>"
      ]
     },
     "metadata": {},
     "output_type": "display_data"
    }
   ],
   "source": [
    "data[98:] = 100\n",
    "print('insert outlier data\\n',data)\n",
    "print(np.min(data),np.max(data))\n",
    "plt.hist(data)    # 정규성이 없다\n",
    "plt.show()"
   ]
  },
  {
   "cell_type": "code",
   "execution_count": 10,
   "id": "143a78c9",
   "metadata": {
    "scrolled": false
   },
   "outputs": [
    {
     "name": "stdout",
     "output_type": "stream",
     "text": [
      "standardized data:\n",
      " [[-0.05414927]\n",
      " [-0.09811235]\n",
      " [-0.25937343]\n",
      " [-0.14973341]\n",
      " [-0.10481359]\n",
      " [-0.20050124]\n",
      " [-0.13019562]\n",
      " [-0.14139227]\n",
      " [-0.14882924]\n",
      " [-0.16159012]\n",
      " [-0.11824629]\n",
      " [-0.06331907]\n",
      " [-0.21797641]\n",
      " [-0.07578546]\n",
      " [-0.13282648]\n",
      " [-0.11738235]\n",
      " [-0.23021263]\n",
      " [-0.13949564]\n",
      " [-0.04323885]\n",
      " [-0.2261611 ]\n",
      " [-0.29021269]\n",
      " [-0.27349537]\n",
      " [-0.13015577]\n",
      " [ 0.02099156]\n",
      " [-0.06897907]\n",
      " [-0.02982217]\n",
      " [-0.14206275]\n",
      " [-0.04941206]\n",
      " [-0.1684843 ]\n",
      " [-0.10539365]\n",
      " [-0.1682039 ]\n",
      " [-0.18831923]\n",
      " [-0.13966888]\n",
      " [-0.18310001]\n",
      " [-0.05579802]\n",
      " [-0.13522447]\n",
      " [-0.12058717]\n",
      " [-0.17321969]\n",
      " [-0.0595074 ]\n",
      " [-0.20134896]\n",
      " [-0.10203905]\n",
      " [-0.17416411]\n",
      " [-0.21614798]\n",
      " [-0.18404126]\n",
      " [-0.20652928]\n",
      " [-0.16430773]\n",
      " [-0.17332726]\n",
      " [-0.12686734]\n",
      " [-0.10882131]\n",
      " [-0.15965129]\n",
      " [-0.15098327]\n",
      " [-0.1285134 ]\n",
      " [-0.18764656]\n",
      " [-0.09862017]\n",
      " [-0.08905693]\n",
      " [-0.13461333]\n",
      " [ 0.02168608]\n",
      " [-0.08369024]\n",
      " [-0.15714409]\n",
      " [-0.17497079]\n",
      " [-0.16569762]\n",
      " [-0.1849252 ]\n",
      " [-0.06861571]\n",
      " [-0.19891226]\n",
      " [-0.15492205]\n",
      " [-0.18689165]\n",
      " [-0.07450798]\n",
      " [-0.25032525]\n",
      " [-0.17499352]\n",
      " [-0.15783126]\n",
      " [-0.1263547 ]\n",
      " [-0.11625776]\n",
      " [-0.1645283 ]\n",
      " [-0.07858183]\n",
      " [-0.12668302]\n",
      " [ 0.02688964]\n",
      " [-0.25672849]\n",
      " [-0.10486604]\n",
      " [-0.22368782]\n",
      " [-0.20605974]\n",
      " [-0.00753328]\n",
      " [-0.0246725 ]\n",
      " [-0.28154268]\n",
      " [-0.16502648]\n",
      " [-0.15383249]\n",
      " [-0.30119682]\n",
      " [-0.15261859]\n",
      " [-0.12107714]\n",
      " [-0.13363718]\n",
      " [-0.29140149]\n",
      " [-0.07011919]\n",
      " [-0.1316913 ]\n",
      " [-0.15355173]\n",
      " [-0.20291282]\n",
      " [-0.09834917]\n",
      " [-0.08363245]\n",
      " [-0.18352452]\n",
      " [-0.14274481]\n",
      " [ 6.98416665]\n",
      " [ 6.98416665]]\n"
     ]
    },
    {
     "data": {
      "image/png": "[encoded data removed]",
      "text/plain": [
       "<Figure size 640x480 with 1 Axes>"
      ]
     },
     "metadata": {},
     "output_type": "display_data"
    }
   ],
   "source": [
    "# sklearn 사용 표준화\n",
    "data.shape    # (100,)  , 1차원\n",
    "data = data.reshape(-1,1) # 반드시 2차원으로 변경하여 사용, (100,1)\n",
    "data_stand_skl = StandardScaler().fit_transform(data)\n",
    "print('standardized data:\\n',data_stand_skl)\n",
    "plt.hist(data_stand_skl)    # 정규성이 없다\n",
    "plt.show()"
   ]
  },
  {
   "cell_type": "code",
   "execution_count": 11,
   "id": "4e547f95",
   "metadata": {},
   "outputs": [
    {
     "name": "stdout",
     "output_type": "stream",
     "text": [
      "zooin data:\n",
      " [-0.05414927 -0.09811235 -0.25937343 -0.14973341 -0.10481359 -0.20050124\n",
      " -0.13019562 -0.14139227 -0.14882924 -0.16159012 -0.11824629 -0.06331907\n",
      " -0.21797641 -0.07578546 -0.13282648 -0.11738235 -0.23021263 -0.13949564\n",
      " -0.04323885 -0.2261611  -0.29021269 -0.27349537 -0.13015577  0.02099156\n",
      " -0.06897907 -0.02982217 -0.14206275 -0.04941206 -0.1684843  -0.10539365\n",
      " -0.1682039  -0.18831923 -0.13966888 -0.18310001 -0.05579802 -0.13522447\n",
      " -0.12058717 -0.17321969 -0.0595074  -0.20134896 -0.10203905 -0.17416411\n",
      " -0.21614798 -0.18404126 -0.20652928 -0.16430773 -0.17332726 -0.12686734\n",
      " -0.10882131 -0.15965129 -0.15098327 -0.1285134  -0.18764656 -0.09862017\n",
      " -0.08905693 -0.13461333  0.02168608 -0.08369024 -0.15714409 -0.17497079\n",
      " -0.16569762 -0.1849252  -0.06861571 -0.19891226 -0.15492205 -0.18689165\n",
      " -0.07450798 -0.25032525 -0.17499352 -0.15783126 -0.1263547  -0.11625776\n",
      " -0.1645283  -0.07858183 -0.12668302  0.02688964 -0.25672849 -0.10486604\n",
      " -0.22368782 -0.20605974 -0.00753328 -0.0246725  -0.28154268 -0.16502648\n",
      " -0.15383249 -0.30119682 -0.15261859 -0.12107714 -0.13363718 -0.29140149\n",
      " -0.07011919 -0.1316913  -0.15355173 -0.20291282 -0.09834917 -0.08363245\n",
      " -0.18352452 -0.14274481]\n"
     ]
    },
    {
     "data": {
      "image/png": "[encoded data removed]",
      "text/plain": [
       "<Figure size 640x480 with 1 Axes>"
      ]
     },
     "metadata": {},
     "output_type": "display_data"
    }
   ],
   "source": [
    "# 이상치의 경계값을 임의로 5로 결정 : 고정된 답이 아님, IQR을 사용하면 정확한 계산가능\n",
    "data_stand_skl_zoomin = data_stand_skl[data_stand_skl < 5]\n",
    "print('zooin data:\\n',data_stand_skl_zoomin)\n",
    "plt.hist(data_stand_skl_zoomin)    # 정규성이 있다\n",
    "plt.show()"
   ]
  },
  {
   "cell_type": "code",
   "execution_count": 12,
   "id": "51f9ee11",
   "metadata": {},
   "outputs": [
    {
     "data": {
      "text/html": [
       "<div>\n",
       "<style scoped>\n",
       "    .dataframe tbody tr th:only-of-type {\n",
       "        vertical-align: middle;\n",
       "    }\n",
       "\n",
       "    .dataframe tbody tr th {\n",
       "        vertical-align: top;\n",
       "    }\n",
       "\n",
       "    .dataframe thead th {\n",
       "        text-align: right;\n",
       "    }\n",
       "</style>\n",
       "<table border=\"1\" class=\"dataframe\">\n",
       "  <thead>\n",
       "    <tr style=\"text-align: right;\">\n",
       "      <th></th>\n",
       "      <th>방법</th>\n",
       "      <th>설명</th>\n",
       "      <th>공식 / 방법론</th>\n",
       "    </tr>\n",
       "  </thead>\n",
       "  <tbody>\n",
       "    <tr>\n",
       "      <th>0</th>\n",
       "      <td>히스토그램</td>\n",
       "      <td>데이터를 히스토그램으로 나타내어 정규 분포의 종 모양 곡선과 비교</td>\n",
       "      <td>None</td>\n",
       "    </tr>\n",
       "    <tr>\n",
       "      <th>1</th>\n",
       "      <td>QQ 플롯</td>\n",
       "      <td>데이터의 분위수를 정규 분포의 분위수와 비교 (정규 분포를 따르면 직선 형성)</td>\n",
       "      <td>None</td>\n",
       "    </tr>\n",
       "    <tr>\n",
       "      <th>2</th>\n",
       "      <td>콜모고로프-스미르노프 검정(Kolmogorov-Smirnov Test)</td>\n",
       "      <td>표본 분포와 정규 분포 사이의 최대 차이를 측정</td>\n",
       "      <td>D = max|F_n(x) - F(x)|</td>\n",
       "    </tr>\n",
       "    <tr>\n",
       "      <th>3</th>\n",
       "      <td>샤피로-윌크 검정(Shapiro-Wilk Test)</td>\n",
       "      <td>표본이 정규 분포를 따르는지 검정 (작은 표본 크기에 적합)</td>\n",
       "      <td>W = (Σ a_i x_(i) )² / Σ (x_i - x̄)²</td>\n",
       "    </tr>\n",
       "    <tr>\n",
       "      <th>4</th>\n",
       "      <td>앤더슨-달링 검정(Anderson-Darling Test)</td>\n",
       "      <td>샤피로-윌크 검정과 유사하나, 꼬리 부분에 더 많은 가중치</td>\n",
       "      <td>A² = -n - Σ [(1 + 0.75/n + 2.25/n²) * ln(F(x_i...</td>\n",
       "    </tr>\n",
       "  </tbody>\n",
       "</table>\n",
       "</div>"
      ],
      "text/plain": [
       "                                        방법  \\\n",
       "0                                    히스토그램   \n",
       "1                                    QQ 플롯   \n",
       "2  콜모고로프-스미르노프 검정(Kolmogorov-Smirnov Test)   \n",
       "3             샤피로-윌크 검정(Shapiro-Wilk Test)   \n",
       "4         앤더슨-달링 검정(Anderson-Darling Test)   \n",
       "\n",
       "                                            설명  \\\n",
       "0         데이터를 히스토그램으로 나타내어 정규 분포의 종 모양 곡선과 비교   \n",
       "1  데이터의 분위수를 정규 분포의 분위수와 비교 (정규 분포를 따르면 직선 형성)   \n",
       "2                   표본 분포와 정규 분포 사이의 최대 차이를 측정   \n",
       "3            표본이 정규 분포를 따르는지 검정 (작은 표본 크기에 적합)   \n",
       "4             샤피로-윌크 검정과 유사하나, 꼬리 부분에 더 많은 가중치   \n",
       "\n",
       "                                            공식 / 방법론  \n",
       "0                                               None  \n",
       "1                                               None  \n",
       "2                             D = max|F_n(x) - F(x)|  \n",
       "3                W = (Σ a_i x_(i) )² / Σ (x_i - x̄)²  \n",
       "4  A² = -n - Σ [(1 + 0.75/n + 2.25/n²) * ln(F(x_i...  "
      ]
     },
     "execution_count": 12,
     "metadata": {},
     "output_type": "execute_result"
    }
   ],
   "source": [
    "import pandas as pd #정규화 있다 , 없다를 판단하는 알고리즘\n",
    "\n",
    "# 데이터 준비\n",
    "data = {\n",
    "    \"방법\": [\"히스토그램\", \"QQ 플롯\", \"콜모고로프-스미르노프 검정(Kolmogorov-Smirnov Test)\", \n",
    "            \"샤피로-윌크 검정(Shapiro-Wilk Test)\", \"앤더슨-달링 검정(Anderson-Darling Test)\"],\n",
    "    \"설명\": [\n",
    "        \"데이터를 히스토그램으로 나타내어 정규 분포의 종 모양 곡선과 비교\",\n",
    "        \"데이터의 분위수를 정규 분포의 분위수와 비교 (정규 분포를 따르면 직선 형성)\",\n",
    "        \"표본 분포와 정규 분포 사이의 최대 차이를 측정\",\n",
    "        \"표본이 정규 분포를 따르는지 검정 (작은 표본 크기에 적합)\",\n",
    "        \"샤피로-윌크 검정과 유사하나, 꼬리 부분에 더 많은 가중치\"\n",
    "    ],\n",
    "    \"공식 / 방법론\": [\n",
    "        \"None\",\n",
    "        \"None\",\n",
    "        \"D = max|F_n(x) - F(x)|\",\n",
    "        \"W = (Σ a_i x_(i) )² / Σ (x_i - x̄)²\",\n",
    "        \"A² = -n - Σ [(1 + 0.75/n + 2.25/n²) * ln(F(x_i)) + (1 + 0.75/n + 2.25/n²) * ln(1-F(x_(n+1-i)))]\"\n",
    "    ]\n",
    "}\n",
    "df = pd.DataFrame(data)\n",
    "df"
   ]
  },
  {
   "cell_type": "markdown",
   "id": "7d046cb2",
   "metadata": {},
   "source": [
    "귀무가설 : 데이터가 정규 분포를 따른다  \n",
    "검정 결과로 얻은 p- 값이 특정유의수준이라는 범위 값이 있음 (ex:0.05 보다 작으면 귀무가설을 기각하고 정규분포를 따르지 않아다라고 판단)  \n",
    "반면 p-값이 유의수준보다 크면 귀무가설을 기갈할 충분한 증거가 없으므로 데이터가 정규 분포를 따른다고 간주한다."
   ]
  },
  {
   "cell_type": "markdown",
   "id": "c943e8cc",
   "metadata": {},
   "source": [
    "### 레이블 인코딩(Label Encoding)"
   ]
  },
  {
   "cell_type": "code",
   "execution_count": 19,
   "id": "7fed0f9a",
   "metadata": {},
   "outputs": [
    {
     "name": "stdout",
     "output_type": "stream",
     "text": [
      "encoding 변환 값: [0 1 4 5 3 2 3 2]\n"
     ]
    }
   ],
   "source": [
    "from sklearn.preprocessing import LabelEncoder\n",
    "\n",
    "items = ['TV', '냉장고', '전자레인지', '컴퓨터', '선풍기', '믹서', '선풍기','믹서']\n",
    "\n",
    "encoder = LabelEncoder()\n",
    "encoder.fit(items)\n",
    "labels = encoder.transform(items)\n",
    "\n",
    "# 아래 한줄로도 가능\n",
    "# labels = LabelEncoder().fit_transform(items)  # 1차원 배열, 리스트, 시리즈 객체를 인자로 입력\n",
    "\n",
    "print('encoding 변환 값:',labels)"
   ]
  },
  {
   "cell_type": "code",
   "execution_count": 14,
   "id": "0fc7592e",
   "metadata": {},
   "outputs": [
    {
     "name": "stdout",
     "output_type": "stream",
     "text": [
      "encoding 클래스: ['TV' '냉장고' '믹서' '선풍기' '전자레인지' '컴퓨터']\n"
     ]
    }
   ],
   "source": [
    "print('encoding 클래스:',encoder.classes_)"
   ]
  },
  {
   "cell_type": "code",
   "execution_count": 15,
   "id": "7d227c00",
   "metadata": {},
   "outputs": [
    {
     "name": "stdout",
     "output_type": "stream",
     "text": [
      "decoding 원본 값: ['TV' '냉장고' '선풍기' '컴퓨터' '전자레인지' '믹서' '전자레인지' '컴퓨터']\n"
     ]
    }
   ],
   "source": [
    "print('decoding 원본 값:',encoder.inverse_transform([0,1,3,5,4,2,4,5]))"
   ]
  },
  {
   "cell_type": "code",
   "execution_count": null,
   "id": "38a0fbbb",
   "metadata": {},
   "outputs": [],
   "source": []
  }
 ],
 "metadata": {
  "kernelspec": {
   "display_name": "Python 3 (ipykernel)",
   "language": "python",
   "name": "python3"
  },
  "language_info": {
   "codemirror_mode": {
    "name": "ipython",
    "version": 3
   },
   "file_extension": ".py",
   "mimetype": "text/x-python",
   "name": "python",
   "nbconvert_exporter": "python",
   "pygments_lexer": "ipython3",
   "version": "3.11.5"
  }
 },
 "nbformat": 4,
 "nbformat_minor": 5
}
